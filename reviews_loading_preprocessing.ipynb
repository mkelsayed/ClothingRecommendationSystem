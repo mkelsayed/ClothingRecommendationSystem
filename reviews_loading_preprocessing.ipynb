{
 "cells": [
  {
   "attachments": {},
   "cell_type": "markdown",
   "id": "ab422e01",
   "metadata": {},
   "source": [
    "# Recommendation System for Amazon Clothing Products\n",
    "---\n",
    "## 2. Reviews Data Loading and Preprocessing\n",
    "\n",
    "*Author*: Mariam Elsayed\n",
    "\n",
    "*Contact*: mariamkelsayed@gmail.com\n",
    "\n",
    "*Notebook*: 2 of 6\n",
    "\n",
    "*Next Notebook*: `popularity_rec.ipynb`"
   ]
  },
  {
   "cell_type": "code",
   "execution_count": 2,
   "id": "6d0be6e3",
   "metadata": {},
   "outputs": [],
   "source": [
    "import numpy as np\n",
    "import pandas as pd\n",
    "import matplotlib.pyplot as plt"
   ]
  },
  {
   "cell_type": "code",
   "execution_count": 2,
   "id": "006435cd",
   "metadata": {},
   "outputs": [],
   "source": [
    "plt.rcParams['figure.dpi'] = 300"
   ]
  },
  {
   "attachments": {},
   "cell_type": "markdown",
   "id": "c2c56810",
   "metadata": {},
   "source": [
    "## Table of Contents\n",
    "\n",
    "* [Introduction](#intro)\n",
    "\n",
    "    * [Data Dictionary](#datadic)\n",
    "\n",
    "* [Loading the Raw Data](#loading)\n",
    "\n",
    "* [Formatting and Cleaning the Data](#cleaning)\n",
    "\n",
    "    * [`overall` column](#overall)\n",
    "\n",
    "    * [`vote` column](#vote)\n",
    "\n",
    "    * [`verified` column](#verified)\n",
    "\n",
    "    * [`reviewTime` column](#reviewTime)\n",
    "\n",
    "    * [`reviewText` and `reviewSummary` column](#reviewText)\n",
    "\n",
    "* [Saving the Data](#saving)\n",
    "\n",
    "* [Data Visualizations](#visualizations)"
   ]
  },
  {
   "attachments": {},
   "cell_type": "markdown",
   "id": "26674c3a",
   "metadata": {},
   "source": [
    "## Introduction\n",
    "This notebook focuses on loading the reviews data from the original source's JSON file and to filter, clean and appropriately format the data for later use. The products dataframe from the last notebook will also be updated to include the number of reviews the product received and the average rating of the product.\n",
    "\n",
    "### Data Dictionary\n",
    "\n",
    "The completed products dataframe would look like:\n",
    "\n",
    "| Column Name   | Data Type | Description                                                               |\n",
    "|---------------|-----------|---------------------------------------------------------------------------|\n",
    "| `category`    | object    | list of categories of the product                                         |\n",
    "| `description` | object    | description of the product                                                |\n",
    "| `title`       | object    | title of the product                                                      |\n",
    "| `brand`       | object    | brand of the product                                                      |\n",
    "| `rank`        | integer   | rank of the product in the Clothing, Shoes & Jewelry category             |\n",
    "| `asin`        | object    | unique identifier of the product                                          |\n",
    "| `price`       | float     | price of the item                                                         |\n",
    "| `maincat_`    | boolean   | boolean columns that indicate whether a product is in the a main category |\n",
    "| `subcat_`     | boolean   | boolean columns that indicate whether a product is in the a subcategory   |\n",
    "| `average_rating` | float | average rating of the product |\n",
    "| `total_reviews` | integer | total number of reviews the product received |\n",
    "\n",
    "Note that a column containing the average rating of the product and the total number of reviews the product received was added.\n",
    "\n",
    "The completed reviews dataframe would look like:\n",
    "\n",
    "| Column Name   | Data Type | Description                                                               |\n",
    "|---------------|-----------|---------------------------------------------------------------------------|\n",
    "| `overall`     | int64     | overall rating given in the review                                        |\n",
    "| `vote`        | object    | number of other people finding the review helpful                         |\n",
    "| `verified`    | bool      | whether the purchase of the product by reviewer is verified               |\n",
    "| `reviewTime`  | datetime64| time of the review was made                                               |\n",
    "| `reviewerID`  | object    | unique identifier of the reviewer                                         |\n",
    "| `asin`        | object    | unique identifier of the product                                          |\n",
    "| `reviewText`  | object    | text of the review                                                        |\n",
    "| `summary`     | object    | summary of the review                                                     |"
   ]
  },
  {
   "attachments": {},
   "cell_type": "markdown",
   "id": "62da429c",
   "metadata": {},
   "source": [
    "## Loading the Raw Data <a id = 'loading'></a>\n",
    "\n",
    "The reviews data was retrieved from the `Clothing_Shoes_and_Jewelry.json` file. The file is too large to load (~32 million rows), so it was randomly sampled first then the reviews on the products that were not in the final cleaned products dataframe were filtered out. "
   ]
  },
  {
   "cell_type": "code",
   "execution_count": 2,
   "id": "6e0750c7",
   "metadata": {},
   "outputs": [],
   "source": [
    "# Loading ASINs from previous notebook\n",
    "asins_products = np.loadtxt('Data/asins_products.csv', dtype='object')"
   ]
  },
  {
   "cell_type": "code",
   "execution_count": 3,
   "id": "bd5ae50b",
   "metadata": {},
   "outputs": [
    {
     "data": {
      "text/plain": [
       "680980"
      ]
     },
     "execution_count": 3,
     "metadata": {},
     "output_type": "execute_result"
    }
   ],
   "source": [
    "len(asins_products)"
   ]
  },
  {
   "cell_type": "code",
   "execution_count": 4,
   "id": "7e651933",
   "metadata": {},
   "outputs": [
    {
     "name": "stdout",
     "output_type": "stream",
     "text": [
      "100.6438138319841 and the shape is 62557812\r"
     ]
    }
   ],
   "source": [
    "reviews_df = pd.DataFrame()\n",
    "\n",
    "with open('data/Clothing_Shoes_and_Jewelry.json', 'r') as f:\n",
    "    \n",
    "    reader = pd.read_json(f, orient = 'records', lines = True, chunksize = 500_000, nrows = 32_292_099)\n",
    "    \n",
    "    total = 32_292_099/500_000\n",
    "    counter = 0\n",
    "    \n",
    "    for chunk in reader:\n",
    "        \n",
    "        # dropping unnecessary columns and sampling dataframe\n",
    "        chunk_dropped = chunk.drop(columns=['image', 'unixReviewTime', 'style', 'reviewerName'])\\\n",
    "                         .sample(frac=0.4, random_state=42)\n",
    "        \n",
    "        # filtering for products in products dataframe\n",
    "        chunk_dropped = chunk_dropped.query('asin in @asins_products')\n",
    "                                                                                                   \n",
    "        reviews_df = pd.concat([reviews_df, chunk_dropped], axis = 0)\n",
    "                \n",
    "        counter += 1\n",
    "        print(counter/total*100, end=\"\\r\")"
   ]
  },
  {
   "cell_type": "code",
   "execution_count": 5,
   "id": "eb5c5257",
   "metadata": {},
   "outputs": [
    {
     "data": {
      "text/html": [
       "<div>\n",
       "<style scoped>\n",
       "    .dataframe tbody tr th:only-of-type {\n",
       "        vertical-align: middle;\n",
       "    }\n",
       "\n",
       "    .dataframe tbody tr th {\n",
       "        vertical-align: top;\n",
       "    }\n",
       "\n",
       "    .dataframe thead th {\n",
       "        text-align: right;\n",
       "    }\n",
       "</style>\n",
       "<table border=\"1\" class=\"dataframe\">\n",
       "  <thead>\n",
       "    <tr style=\"text-align: right;\">\n",
       "      <th></th>\n",
       "      <th>overall</th>\n",
       "      <th>vote</th>\n",
       "      <th>verified</th>\n",
       "      <th>reviewTime</th>\n",
       "      <th>reviewerID</th>\n",
       "      <th>asin</th>\n",
       "      <th>reviewText</th>\n",
       "      <th>summary</th>\n",
       "    </tr>\n",
       "  </thead>\n",
       "  <tbody>\n",
       "    <tr>\n",
       "      <th>104241</th>\n",
       "      <td>3</td>\n",
       "      <td>3</td>\n",
       "      <td>True</td>\n",
       "      <td>06 20, 2016</td>\n",
       "      <td>A3EHNOVMY77W0U</td>\n",
       "      <td>B0001N5WMW</td>\n",
       "      <td>Bought them for a vacation to Costa Rica. Not ...</td>\n",
       "      <td>Lower quality than expected</td>\n",
       "    </tr>\n",
       "    <tr>\n",
       "      <th>199676</th>\n",
       "      <td>1</td>\n",
       "      <td>NaN</td>\n",
       "      <td>False</td>\n",
       "      <td>07 21, 2014</td>\n",
       "      <td>A1RVPZ44BNCOL0</td>\n",
       "      <td>B0002NYUE2</td>\n",
       "      <td>completely wrong size</td>\n",
       "      <td>men size not boys</td>\n",
       "    </tr>\n",
       "    <tr>\n",
       "      <th>132814</th>\n",
       "      <td>5</td>\n",
       "      <td>NaN</td>\n",
       "      <td>True</td>\n",
       "      <td>07 8, 2013</td>\n",
       "      <td>A3NNMXQ7P1HEHP</td>\n",
       "      <td>B00020BFSE</td>\n",
       "      <td>Smells great, works fine with my size 9 work s...</td>\n",
       "      <td>Great, though I wonder how strong the loop is</td>\n",
       "    </tr>\n",
       "    <tr>\n",
       "      <th>408697</th>\n",
       "      <td>5</td>\n",
       "      <td>NaN</td>\n",
       "      <td>True</td>\n",
       "      <td>06 6, 2017</td>\n",
       "      <td>AYJ7HFE42ZZFS</td>\n",
       "      <td>B0009B35DY</td>\n",
       "      <td>Good</td>\n",
       "      <td>Five Stars</td>\n",
       "    </tr>\n",
       "    <tr>\n",
       "      <th>163280</th>\n",
       "      <td>5</td>\n",
       "      <td>NaN</td>\n",
       "      <td>True</td>\n",
       "      <td>12 25, 2012</td>\n",
       "      <td>A1U04XCUUGJMDL</td>\n",
       "      <td>B0002L0P9I</td>\n",
       "      <td>This slipper is perfect.  It is true to size, ...</td>\n",
       "      <td>Warm Feet on Bamboo</td>\n",
       "    </tr>\n",
       "    <tr>\n",
       "      <th>...</th>\n",
       "      <td>...</td>\n",
       "      <td>...</td>\n",
       "      <td>...</td>\n",
       "      <td>...</td>\n",
       "      <td>...</td>\n",
       "      <td>...</td>\n",
       "      <td>...</td>\n",
       "      <td>...</td>\n",
       "    </tr>\n",
       "    <tr>\n",
       "      <th>32282063</th>\n",
       "      <td>5</td>\n",
       "      <td>NaN</td>\n",
       "      <td>True</td>\n",
       "      <td>06 15, 2018</td>\n",
       "      <td>A13XFA6HDDHXQK</td>\n",
       "      <td>B01HH6WWZ0</td>\n",
       "      <td>Super cute. Fits great!</td>\n",
       "      <td>Five Stars</td>\n",
       "    </tr>\n",
       "    <tr>\n",
       "      <th>32291740</th>\n",
       "      <td>3</td>\n",
       "      <td>NaN</td>\n",
       "      <td>True</td>\n",
       "      <td>03 4, 2018</td>\n",
       "      <td>AXETI2EZT77G0</td>\n",
       "      <td>B01HJCNFDU</td>\n",
       "      <td>these shoes seem like they could be so comfort...</td>\n",
       "      <td>these shoes seem like they could be so comfort...</td>\n",
       "    </tr>\n",
       "    <tr>\n",
       "      <th>32124091</th>\n",
       "      <td>4</td>\n",
       "      <td>NaN</td>\n",
       "      <td>True</td>\n",
       "      <td>04 10, 2017</td>\n",
       "      <td>A13QWLE4LR3N01</td>\n",
       "      <td>B01GD5EPR4</td>\n",
       "      <td>Very nice purse, fits a lot of cards and has a...</td>\n",
       "      <td>Lovely!</td>\n",
       "    </tr>\n",
       "    <tr>\n",
       "      <th>32282908</th>\n",
       "      <td>5</td>\n",
       "      <td>NaN</td>\n",
       "      <td>True</td>\n",
       "      <td>07 18, 2018</td>\n",
       "      <td>A1CEK51A1EZDQ7</td>\n",
       "      <td>B01HHA3X04</td>\n",
       "      <td>I bought these for my girlfriend and she loves...</td>\n",
       "      <td>Comfortable and comes as pictured, but runs la...</td>\n",
       "    </tr>\n",
       "    <tr>\n",
       "      <th>32075573</th>\n",
       "      <td>2</td>\n",
       "      <td>NaN</td>\n",
       "      <td>True</td>\n",
       "      <td>09 8, 2018</td>\n",
       "      <td>ASS7V3MX1SOS4</td>\n",
       "      <td>B01G0K2NS0</td>\n",
       "      <td>to small around arms but around chest was good...</td>\n",
       "      <td>to small around arms but around chest was good...</td>\n",
       "    </tr>\n",
       "  </tbody>\n",
       "</table>\n",
       "<p>6255781 rows × 8 columns</p>\n",
       "</div>"
      ],
      "text/plain": [
       "          overall vote  verified   reviewTime      reviewerID        asin  \\\n",
       "104241          3    3      True  06 20, 2016  A3EHNOVMY77W0U  B0001N5WMW   \n",
       "199676          1  NaN     False  07 21, 2014  A1RVPZ44BNCOL0  B0002NYUE2   \n",
       "132814          5  NaN      True   07 8, 2013  A3NNMXQ7P1HEHP  B00020BFSE   \n",
       "408697          5  NaN      True   06 6, 2017   AYJ7HFE42ZZFS  B0009B35DY   \n",
       "163280          5  NaN      True  12 25, 2012  A1U04XCUUGJMDL  B0002L0P9I   \n",
       "...           ...  ...       ...          ...             ...         ...   \n",
       "32282063        5  NaN      True  06 15, 2018  A13XFA6HDDHXQK  B01HH6WWZ0   \n",
       "32291740        3  NaN      True   03 4, 2018   AXETI2EZT77G0  B01HJCNFDU   \n",
       "32124091        4  NaN      True  04 10, 2017  A13QWLE4LR3N01  B01GD5EPR4   \n",
       "32282908        5  NaN      True  07 18, 2018  A1CEK51A1EZDQ7  B01HHA3X04   \n",
       "32075573        2  NaN      True   09 8, 2018   ASS7V3MX1SOS4  B01G0K2NS0   \n",
       "\n",
       "                                                 reviewText  \\\n",
       "104241    Bought them for a vacation to Costa Rica. Not ...   \n",
       "199676                                completely wrong size   \n",
       "132814    Smells great, works fine with my size 9 work s...   \n",
       "408697                                                 Good   \n",
       "163280    This slipper is perfect.  It is true to size, ...   \n",
       "...                                                     ...   \n",
       "32282063                            Super cute. Fits great!   \n",
       "32291740  these shoes seem like they could be so comfort...   \n",
       "32124091  Very nice purse, fits a lot of cards and has a...   \n",
       "32282908  I bought these for my girlfriend and she loves...   \n",
       "32075573  to small around arms but around chest was good...   \n",
       "\n",
       "                                                    summary  \n",
       "104241                          Lower quality than expected  \n",
       "199676                                    men size not boys  \n",
       "132814        Great, though I wonder how strong the loop is  \n",
       "408697                                           Five Stars  \n",
       "163280                                  Warm Feet on Bamboo  \n",
       "...                                                     ...  \n",
       "32282063                                         Five Stars  \n",
       "32291740  these shoes seem like they could be so comfort...  \n",
       "32124091                                            Lovely!  \n",
       "32282908  Comfortable and comes as pictured, but runs la...  \n",
       "32075573  to small around arms but around chest was good...  \n",
       "\n",
       "[6255781 rows x 8 columns]"
      ]
     },
     "execution_count": 5,
     "metadata": {},
     "output_type": "execute_result"
    }
   ],
   "source": [
    "reviews_df"
   ]
  },
  {
   "cell_type": "code",
   "execution_count": 7,
   "id": "dc784ca5",
   "metadata": {},
   "outputs": [
    {
     "name": "stdout",
     "output_type": "stream",
     "text": [
      "<class 'pandas.core.frame.DataFrame'>\n",
      "Int64Index: 6255781 entries, 104241 to 32075573\n",
      "Data columns (total 8 columns):\n",
      " #   Column      Dtype \n",
      "---  ------      ----- \n",
      " 0   overall     int64 \n",
      " 1   vote        object\n",
      " 2   verified    bool  \n",
      " 3   reviewTime  object\n",
      " 4   reviewerID  object\n",
      " 5   asin        object\n",
      " 6   reviewText  object\n",
      " 7   summary     object\n",
      "dtypes: bool(1), int64(1), object(6)\n",
      "memory usage: 387.8+ MB\n"
     ]
    }
   ],
   "source": [
    "reviews_df.info()"
   ]
  },
  {
   "cell_type": "code",
   "execution_count": 7,
   "id": "7a2a8b0c",
   "metadata": {},
   "outputs": [],
   "source": [
    "reviews_df.to_csv('Data/raw_reviews.csv', index=False)"
   ]
  },
  {
   "cell_type": "code",
   "execution_count": 3,
   "id": "ff597042",
   "metadata": {},
   "outputs": [
    {
     "name": "stderr",
     "output_type": "stream",
     "text": [
      "C:\\Users\\maria\\AppData\\Local\\Temp\\ipykernel_8628\\1498814619.py:1: DtypeWarning: Columns (1) have mixed types. Specify dtype option on import or set low_memory=False.\n",
      "  reviews_df = pd.read_csv('Data/raw_reviews.csv')\n"
     ]
    }
   ],
   "source": [
    "reviews_df = pd.read_csv('Data/raw_reviews.csv')"
   ]
  },
  {
   "attachments": {},
   "cell_type": "markdown",
   "id": "bc8b7532",
   "metadata": {},
   "source": [
    "## Formatting and Cleaning the Data <a class=\"anchor\" id=\"cleaning\"></a>\n",
    "\n",
    "Lets first begin with dropping any duplicates and finding the percentage of null values in the reviews dataframe. Then we will go through dealing with null values in the columns and fixing the data types."
   ]
  },
  {
   "cell_type": "code",
   "execution_count": 4,
   "id": "75eb52c6",
   "metadata": {},
   "outputs": [],
   "source": [
    "# dropping duplicate reviews\n",
    "reviews_df = reviews_df.drop_duplicates()"
   ]
  },
  {
   "cell_type": "code",
   "execution_count": 5,
   "id": "08b61d96",
   "metadata": {},
   "outputs": [
    {
     "data": {
      "text/plain": [
       "overall        0.000000\n",
       "vote          91.669925\n",
       "verified       0.000000\n",
       "reviewTime     0.000000\n",
       "reviewerID     0.000000\n",
       "asin           0.000000\n",
       "reviewText     0.133368\n",
       "summary        0.047231\n",
       "dtype: float64"
      ]
     },
     "execution_count": 5,
     "metadata": {},
     "output_type": "execute_result"
    }
   ],
   "source": [
    "# finding the percentage of null values\n",
    "reviews_df.isna().sum() / reviews_df.isna().count() * 100"
   ]
  },
  {
   "attachments": {},
   "cell_type": "markdown",
   "id": "f6fdc4be",
   "metadata": {},
   "source": [
    "### `overall` column <a class=\"anchor\" id=\"overall\"></a>\n",
    "\n",
    "The `overall` column contains no null values and the rating ranges between 1 to 5, 5 being the highest rating a reviewer could give. The data types are appropriate, so we can move on."
   ]
  },
  {
   "cell_type": "code",
   "execution_count": 6,
   "id": "666008cc",
   "metadata": {},
   "outputs": [
    {
     "data": {
      "text/plain": [
       "array([3, 1, 5, 4, 2], dtype=int64)"
      ]
     },
     "execution_count": 6,
     "metadata": {},
     "output_type": "execute_result"
    }
   ],
   "source": [
    "# showing the unique number of ratings\n",
    "reviews_df['overall'].unique()"
   ]
  },
  {
   "attachments": {},
   "cell_type": "markdown",
   "id": "8b29ee68",
   "metadata": {},
   "source": [
    "### `vote` column\n",
    "\n",
    "The `vote` column has many null values, but that probably means that many reviews did not receive any votes. Let's fill the null values with 0."
   ]
  },
  {
   "cell_type": "code",
   "execution_count": 7,
   "id": "da0c0997",
   "metadata": {},
   "outputs": [
    {
     "data": {
      "text/plain": [
       "0          3.0\n",
       "1          NaN\n",
       "2          NaN\n",
       "3          NaN\n",
       "4          NaN\n",
       "          ... \n",
       "6255776    NaN\n",
       "6255777    NaN\n",
       "6255778    NaN\n",
       "6255779    NaN\n",
       "6255780    NaN\n",
       "Name: vote, Length: 6197159, dtype: object"
      ]
     },
     "execution_count": 7,
     "metadata": {},
     "output_type": "execute_result"
    }
   ],
   "source": [
    "# defining a series containing the votes\n",
    "reviews_votes = reviews_df['vote']\n",
    "reviews_votes"
   ]
  },
  {
   "cell_type": "code",
   "execution_count": 8,
   "id": "1077bb4f",
   "metadata": {},
   "outputs": [
    {
     "data": {
      "text/plain": [
       "0          3.0\n",
       "1            0\n",
       "2            0\n",
       "3            0\n",
       "4            0\n",
       "          ... \n",
       "6255776      0\n",
       "6255777      0\n",
       "6255778      0\n",
       "6255779      0\n",
       "6255780      0\n",
       "Name: vote, Length: 6197159, dtype: object"
      ]
     },
     "execution_count": 8,
     "metadata": {},
     "output_type": "execute_result"
    }
   ],
   "source": [
    "# filling null values with 0\n",
    "reviews_votes = reviews_votes.fillna(0)\n",
    "reviews_votes"
   ]
  },
  {
   "cell_type": "code",
   "execution_count": 9,
   "id": "6934b850",
   "metadata": {},
   "outputs": [
    {
     "data": {
      "text/plain": [
       "0          3\n",
       "1          0\n",
       "2          0\n",
       "3          0\n",
       "4          0\n",
       "          ..\n",
       "6255776    0\n",
       "6255777    0\n",
       "6255778    0\n",
       "6255779    0\n",
       "6255780    0\n",
       "Name: vote, Length: 6197159, dtype: int32"
      ]
     },
     "execution_count": 9,
     "metadata": {},
     "output_type": "execute_result"
    }
   ],
   "source": [
    "# converting the mixed object types into int\n",
    "reviews_votes = reviews_votes.astype(str).str.replace(',', '').astype(float).astype(int)\n",
    "reviews_votes"
   ]
  },
  {
   "cell_type": "code",
   "execution_count": 10,
   "id": "b9fcf656",
   "metadata": {},
   "outputs": [],
   "source": [
    "# Putting the clean data back into the main dataframe\n",
    "reviews_df['vote'] = reviews_votes"
   ]
  },
  {
   "attachments": {},
   "cell_type": "markdown",
   "id": "21395214",
   "metadata": {},
   "source": [
    "### `reviewTime`\n",
    "\n",
    "The review time is stored as an object so it will be converted to the datetime64 data type."
   ]
  },
  {
   "cell_type": "code",
   "execution_count": 11,
   "id": "afa1cfae",
   "metadata": {},
   "outputs": [
    {
     "data": {
      "text/plain": [
       "0          06 20, 2016\n",
       "1          07 21, 2014\n",
       "2           07 8, 2013\n",
       "3           06 6, 2017\n",
       "4          12 25, 2012\n",
       "              ...     \n",
       "6255776    06 15, 2018\n",
       "6255777     03 4, 2018\n",
       "6255778    04 10, 2017\n",
       "6255779    07 18, 2018\n",
       "6255780     09 8, 2018\n",
       "Name: reviewTime, Length: 6197159, dtype: object"
      ]
     },
     "execution_count": 11,
     "metadata": {},
     "output_type": "execute_result"
    }
   ],
   "source": [
    "reviews_time = reviews_df['reviewTime']\n",
    "reviews_time"
   ]
  },
  {
   "cell_type": "code",
   "execution_count": 12,
   "id": "f7a5300e",
   "metadata": {},
   "outputs": [
    {
     "data": {
      "text/plain": [
       "0         2016-06-20\n",
       "1         2014-07-21\n",
       "2         2013-07-08\n",
       "3         2017-06-06\n",
       "4         2012-12-25\n",
       "             ...    \n",
       "6255776   2018-06-15\n",
       "6255777   2018-03-04\n",
       "6255778   2017-04-10\n",
       "6255779   2018-07-18\n",
       "6255780   2018-09-08\n",
       "Name: reviewTime, Length: 6197159, dtype: datetime64[ns]"
      ]
     },
     "execution_count": 12,
     "metadata": {},
     "output_type": "execute_result"
    }
   ],
   "source": [
    "reviews_time = pd.to_datetime(reviews_time, format='%m %d, %Y')\n",
    "reviews_time"
   ]
  },
  {
   "cell_type": "code",
   "execution_count": 13,
   "id": "5485cab2",
   "metadata": {},
   "outputs": [],
   "source": [
    "# Putting the fixed data back into the main dataframe\n",
    "reviews_df['reviewTime'] = reviews_time"
   ]
  },
  {
   "attachments": {},
   "cell_type": "markdown",
   "id": "cce62513",
   "metadata": {},
   "source": [
    "### `verified` column\n",
    "\n",
    "The `verified` column shows whether the reviewer of the product has actually bought the product. Let's drop the unverified reviews."
   ]
  },
  {
   "cell_type": "code",
   "execution_count": 14,
   "id": "247bc9cf",
   "metadata": {},
   "outputs": [
    {
     "name": "stdout",
     "output_type": "stream",
     "text": [
      "There are 5873863 reviews and 323296 are unverified\n"
     ]
    }
   ],
   "source": [
    "total_reviews = reviews_df['verified'].sum()\n",
    "unverified_reviews = reviews_df['verified'].count() - reviews_df['verified'].sum()\n",
    "\n",
    "print(f'There are {total_reviews} reviews and {unverified_reviews} are unverified')"
   ]
  },
  {
   "cell_type": "code",
   "execution_count": 15,
   "id": "c32eb090",
   "metadata": {},
   "outputs": [],
   "source": [
    "# Lets drop the reviews that are unverified\n",
    "reviews_df = reviews_df.drop(reviews_df[reviews_df['verified'] == False].index)"
   ]
  },
  {
   "attachments": {},
   "cell_type": "markdown",
   "id": "6868b1b6",
   "metadata": {},
   "source": [
    "Since all of the reviews are verified now, lets drop the `verified` column."
   ]
  },
  {
   "cell_type": "code",
   "execution_count": 16,
   "id": "d8f88d9d",
   "metadata": {},
   "outputs": [],
   "source": [
    "# Dropping the verified column\n",
    "reviews_df = reviews_df.drop(columns='verified')"
   ]
  },
  {
   "attachments": {},
   "cell_type": "markdown",
   "id": "907275b1",
   "metadata": {},
   "source": [
    "### `reviewText` and `reviewSummary`\n",
    "\n",
    "The `reviewText` column will later be vectorized for content-based recommendations while the `reviewSummary` column will be kept just incase for later analysis. Lets drop the rows containing no description."
   ]
  },
  {
   "cell_type": "code",
   "execution_count": 17,
   "id": "8ad94441",
   "metadata": {},
   "outputs": [],
   "source": [
    "# dropping rows with null description\n",
    "reviews_df = reviews_df.dropna(axis=0, subset=['reviewText'])"
   ]
  },
  {
   "cell_type": "code",
   "execution_count": 18,
   "id": "518a6652",
   "metadata": {},
   "outputs": [
    {
     "data": {
      "text/plain": [
       "overall       0.000000\n",
       "vote          0.000000\n",
       "reviewTime    0.000000\n",
       "reviewerID    0.000000\n",
       "asin          0.000000\n",
       "reviewText    0.000000\n",
       "summary       0.044767\n",
       "dtype: float64"
      ]
     },
     "execution_count": 18,
     "metadata": {},
     "output_type": "execute_result"
    }
   ],
   "source": [
    "# Checking nulls\n",
    "reviews_df.isna().sum() / reviews_df.isna().count() * 100"
   ]
  },
  {
   "attachments": {},
   "cell_type": "markdown",
   "id": "3e0cab4e",
   "metadata": {},
   "source": [
    "## Saving the Data <a id = 'saving'></a>\n",
    "\n",
    "Let's save the cleaned reviews dataframe for later use."
   ]
  },
  {
   "cell_type": "code",
   "execution_count": 19,
   "id": "92d8554c",
   "metadata": {},
   "outputs": [],
   "source": [
    "# Saving dataframe\n",
    "reviews_df.to_csv('Data/reviews_sampled40.csv', index=False)"
   ]
  },
  {
   "cell_type": "code",
   "execution_count": 3,
   "id": "fa406a65",
   "metadata": {},
   "outputs": [],
   "source": [
    "# Uncomment to get data\n",
    "reviews_df = pd.read_csv('Data/reviews_sampled40.csv')"
   ]
  },
  {
   "cell_type": "code",
   "execution_count": 4,
   "id": "0212218d",
   "metadata": {},
   "outputs": [
    {
     "data": {
      "text/html": [
       "<div>\n",
       "<style scoped>\n",
       "    .dataframe tbody tr th:only-of-type {\n",
       "        vertical-align: middle;\n",
       "    }\n",
       "\n",
       "    .dataframe tbody tr th {\n",
       "        vertical-align: top;\n",
       "    }\n",
       "\n",
       "    .dataframe thead th {\n",
       "        text-align: right;\n",
       "    }\n",
       "</style>\n",
       "<table border=\"1\" class=\"dataframe\">\n",
       "  <thead>\n",
       "    <tr style=\"text-align: right;\">\n",
       "      <th></th>\n",
       "      <th>overall</th>\n",
       "      <th>vote</th>\n",
       "      <th>reviewTime</th>\n",
       "      <th>reviewerID</th>\n",
       "      <th>asin</th>\n",
       "      <th>reviewText</th>\n",
       "      <th>summary</th>\n",
       "    </tr>\n",
       "  </thead>\n",
       "  <tbody>\n",
       "    <tr>\n",
       "      <th>0</th>\n",
       "      <td>3</td>\n",
       "      <td>3</td>\n",
       "      <td>2016-06-20</td>\n",
       "      <td>A3EHNOVMY77W0U</td>\n",
       "      <td>B0001N5WMW</td>\n",
       "      <td>Bought them for a vacation to Costa Rica. Not ...</td>\n",
       "      <td>Lower quality than expected</td>\n",
       "    </tr>\n",
       "    <tr>\n",
       "      <th>1</th>\n",
       "      <td>5</td>\n",
       "      <td>0</td>\n",
       "      <td>2013-07-08</td>\n",
       "      <td>A3NNMXQ7P1HEHP</td>\n",
       "      <td>B00020BFSE</td>\n",
       "      <td>Smells great, works fine with my size 9 work s...</td>\n",
       "      <td>Great, though I wonder how strong the loop is</td>\n",
       "    </tr>\n",
       "    <tr>\n",
       "      <th>2</th>\n",
       "      <td>5</td>\n",
       "      <td>0</td>\n",
       "      <td>2017-06-06</td>\n",
       "      <td>AYJ7HFE42ZZFS</td>\n",
       "      <td>B0009B35DY</td>\n",
       "      <td>Good</td>\n",
       "      <td>Five Stars</td>\n",
       "    </tr>\n",
       "    <tr>\n",
       "      <th>3</th>\n",
       "      <td>5</td>\n",
       "      <td>0</td>\n",
       "      <td>2012-12-25</td>\n",
       "      <td>A1U04XCUUGJMDL</td>\n",
       "      <td>B0002L0P9I</td>\n",
       "      <td>This slipper is perfect.  It is true to size, ...</td>\n",
       "      <td>Warm Feet on Bamboo</td>\n",
       "    </tr>\n",
       "    <tr>\n",
       "      <th>4</th>\n",
       "      <td>5</td>\n",
       "      <td>0</td>\n",
       "      <td>2018-04-26</td>\n",
       "      <td>A1U28WCOIZ2SSI</td>\n",
       "      <td>B0002TOZ1E</td>\n",
       "      <td>great</td>\n",
       "      <td>Five Stars</td>\n",
       "    </tr>\n",
       "    <tr>\n",
       "      <th>...</th>\n",
       "      <td>...</td>\n",
       "      <td>...</td>\n",
       "      <td>...</td>\n",
       "      <td>...</td>\n",
       "      <td>...</td>\n",
       "      <td>...</td>\n",
       "      <td>...</td>\n",
       "    </tr>\n",
       "    <tr>\n",
       "      <th>5865968</th>\n",
       "      <td>5</td>\n",
       "      <td>0</td>\n",
       "      <td>2018-06-15</td>\n",
       "      <td>A13XFA6HDDHXQK</td>\n",
       "      <td>B01HH6WWZ0</td>\n",
       "      <td>Super cute. Fits great!</td>\n",
       "      <td>Five Stars</td>\n",
       "    </tr>\n",
       "    <tr>\n",
       "      <th>5865969</th>\n",
       "      <td>3</td>\n",
       "      <td>0</td>\n",
       "      <td>2018-03-04</td>\n",
       "      <td>AXETI2EZT77G0</td>\n",
       "      <td>B01HJCNFDU</td>\n",
       "      <td>these shoes seem like they could be so comfort...</td>\n",
       "      <td>these shoes seem like they could be so comfort...</td>\n",
       "    </tr>\n",
       "    <tr>\n",
       "      <th>5865970</th>\n",
       "      <td>4</td>\n",
       "      <td>0</td>\n",
       "      <td>2017-04-10</td>\n",
       "      <td>A13QWLE4LR3N01</td>\n",
       "      <td>B01GD5EPR4</td>\n",
       "      <td>Very nice purse, fits a lot of cards and has a...</td>\n",
       "      <td>Lovely!</td>\n",
       "    </tr>\n",
       "    <tr>\n",
       "      <th>5865971</th>\n",
       "      <td>5</td>\n",
       "      <td>0</td>\n",
       "      <td>2018-07-18</td>\n",
       "      <td>A1CEK51A1EZDQ7</td>\n",
       "      <td>B01HHA3X04</td>\n",
       "      <td>I bought these for my girlfriend and she loves...</td>\n",
       "      <td>Comfortable and comes as pictured, but runs la...</td>\n",
       "    </tr>\n",
       "    <tr>\n",
       "      <th>5865972</th>\n",
       "      <td>2</td>\n",
       "      <td>0</td>\n",
       "      <td>2018-09-08</td>\n",
       "      <td>ASS7V3MX1SOS4</td>\n",
       "      <td>B01G0K2NS0</td>\n",
       "      <td>to small around arms but around chest was good...</td>\n",
       "      <td>to small around arms but around chest was good...</td>\n",
       "    </tr>\n",
       "  </tbody>\n",
       "</table>\n",
       "<p>5865973 rows × 7 columns</p>\n",
       "</div>"
      ],
      "text/plain": [
       "         overall  vote  reviewTime      reviewerID        asin  \\\n",
       "0              3     3  2016-06-20  A3EHNOVMY77W0U  B0001N5WMW   \n",
       "1              5     0  2013-07-08  A3NNMXQ7P1HEHP  B00020BFSE   \n",
       "2              5     0  2017-06-06   AYJ7HFE42ZZFS  B0009B35DY   \n",
       "3              5     0  2012-12-25  A1U04XCUUGJMDL  B0002L0P9I   \n",
       "4              5     0  2018-04-26  A1U28WCOIZ2SSI  B0002TOZ1E   \n",
       "...          ...   ...         ...             ...         ...   \n",
       "5865968        5     0  2018-06-15  A13XFA6HDDHXQK  B01HH6WWZ0   \n",
       "5865969        3     0  2018-03-04   AXETI2EZT77G0  B01HJCNFDU   \n",
       "5865970        4     0  2017-04-10  A13QWLE4LR3N01  B01GD5EPR4   \n",
       "5865971        5     0  2018-07-18  A1CEK51A1EZDQ7  B01HHA3X04   \n",
       "5865972        2     0  2018-09-08   ASS7V3MX1SOS4  B01G0K2NS0   \n",
       "\n",
       "                                                reviewText  \\\n",
       "0        Bought them for a vacation to Costa Rica. Not ...   \n",
       "1        Smells great, works fine with my size 9 work s...   \n",
       "2                                                     Good   \n",
       "3        This slipper is perfect.  It is true to size, ...   \n",
       "4                                                    great   \n",
       "...                                                    ...   \n",
       "5865968                            Super cute. Fits great!   \n",
       "5865969  these shoes seem like they could be so comfort...   \n",
       "5865970  Very nice purse, fits a lot of cards and has a...   \n",
       "5865971  I bought these for my girlfriend and she loves...   \n",
       "5865972  to small around arms but around chest was good...   \n",
       "\n",
       "                                                   summary  \n",
       "0                              Lower quality than expected  \n",
       "1            Great, though I wonder how strong the loop is  \n",
       "2                                               Five Stars  \n",
       "3                                      Warm Feet on Bamboo  \n",
       "4                                               Five Stars  \n",
       "...                                                    ...  \n",
       "5865968                                         Five Stars  \n",
       "5865969  these shoes seem like they could be so comfort...  \n",
       "5865970                                            Lovely!  \n",
       "5865971  Comfortable and comes as pictured, but runs la...  \n",
       "5865972  to small around arms but around chest was good...  \n",
       "\n",
       "[5865973 rows x 7 columns]"
      ]
     },
     "execution_count": 4,
     "metadata": {},
     "output_type": "execute_result"
    }
   ],
   "source": [
    "reviews_df"
   ]
  },
  {
   "attachments": {},
   "cell_type": "markdown",
   "id": "d747d032",
   "metadata": {},
   "source": [
    "Now let's add the summary of the products reviews to the products dataframe. We are going to add the average rating of the products and the number of reviews the product received."
   ]
  },
  {
   "cell_type": "code",
   "execution_count": 7,
   "id": "b606c58d",
   "metadata": {},
   "outputs": [],
   "source": [
    "products_df = pd.read_csv('Data/products_cleaned.csv')"
   ]
  },
  {
   "cell_type": "code",
   "execution_count": 8,
   "id": "64899106",
   "metadata": {},
   "outputs": [
    {
     "name": "stdout",
     "output_type": "stream",
     "text": [
      "<class 'pandas.core.frame.DataFrame'>\n",
      "RangeIndex: 680980 entries, 0 to 680979\n",
      "Data columns (total 62 columns):\n",
      " #   Column                                     Non-Null Count   Dtype  \n",
      "---  ------                                     --------------   -----  \n",
      " 0   category                                   680980 non-null  object \n",
      " 1   description                                680778 non-null  object \n",
      " 2   title                                      680980 non-null  object \n",
      " 3   brand                                      680980 non-null  object \n",
      " 4   rank                                       680980 non-null  int64  \n",
      " 5   date                                       679110 non-null  object \n",
      " 6   asin                                       680980 non-null  object \n",
      " 7   price                                      680980 non-null  float64\n",
      " 8   maincat_Luggage & Travel Gear              680980 non-null  bool   \n",
      " 9   maincat_Backpacks                          680980 non-null  bool   \n",
      " 10  maincat_Novelty & More                     680980 non-null  bool   \n",
      " 11  maincat_Clothing                           680980 non-null  bool   \n",
      " 12  maincat_Women                              680980 non-null  bool   \n",
      " 13  maincat_Baby                               680980 non-null  bool   \n",
      " 14  maincat_Baby Boys                          680980 non-null  bool   \n",
      " 15  maincat_Men                                680980 non-null  bool   \n",
      " 16  maincat_Maternity                          680980 non-null  bool   \n",
      " 17  maincat_Baby Girls                         680980 non-null  bool   \n",
      " 18  maincat_Traditional & Cultural Wear        680980 non-null  bool   \n",
      " 19  maincat_Accessories                        680980 non-null  bool   \n",
      " 20  maincat_Jewelry                            680980 non-null  bool   \n",
      " 21  maincat_Costumes & Accessories             680980 non-null  bool   \n",
      " 22  maincat_Watches                            680980 non-null  bool   \n",
      " 23  maincat_Kids & Baby                        680980 non-null  bool   \n",
      " 24  maincat_Uniforms, Work & Safety            680980 non-null  bool   \n",
      " 25  maincat_Shoes                              680980 non-null  bool   \n",
      " 26  maincat_Handbags & Wallets                 680980 non-null  bool   \n",
      " 27  maincat_Girls                              680980 non-null  bool   \n",
      " 28  maincat_Boys                               680980 non-null  bool   \n",
      " 29  maincat_Shoe, Jewelry & Watch Accessories  680980 non-null  bool   \n",
      " 30  maincat_Jewelry Accessories                680980 non-null  bool   \n",
      " 31  maincat_Shoe Care & Accessories            680980 non-null  bool   \n",
      " 32  maincat_Contemporary & Designer            680980 non-null  bool   \n",
      " 33  maincat_Travel Accessories                 680980 non-null  bool   \n",
      " 34  maincat_Surf, Skate & Street               680980 non-null  bool   \n",
      " 35  subcat_Luggage & Travel Gear               680980 non-null  bool   \n",
      " 36  subcat_Backpacks                           680980 non-null  bool   \n",
      " 37  subcat_Novelty & More                      680980 non-null  bool   \n",
      " 38  subcat_Clothing                            680980 non-null  bool   \n",
      " 39  subcat_Women                               680980 non-null  bool   \n",
      " 40  subcat_Baby                                680980 non-null  bool   \n",
      " 41  subcat_Baby Boys                           680980 non-null  bool   \n",
      " 42  subcat_Men                                 680980 non-null  bool   \n",
      " 43  subcat_Maternity                           680980 non-null  bool   \n",
      " 44  subcat_Baby Girls                          680980 non-null  bool   \n",
      " 45  subcat_Traditional & Cultural Wear         680980 non-null  bool   \n",
      " 46  subcat_Accessories                         680980 non-null  bool   \n",
      " 47  subcat_Jewelry                             680980 non-null  bool   \n",
      " 48  subcat_Costumes & Accessories              680980 non-null  bool   \n",
      " 49  subcat_Watches                             680980 non-null  bool   \n",
      " 50  subcat_Kids & Baby                         680980 non-null  bool   \n",
      " 51  subcat_Uniforms, Work & Safety             680980 non-null  bool   \n",
      " 52  subcat_Shoes                               680980 non-null  bool   \n",
      " 53  subcat_Handbags & Wallets                  680980 non-null  bool   \n",
      " 54  subcat_Girls                               680980 non-null  bool   \n",
      " 55  subcat_Boys                                680980 non-null  bool   \n",
      " 56  subcat_Shoe, Jewelry & Watch Accessories   680980 non-null  bool   \n",
      " 57  subcat_Jewelry Accessories                 680980 non-null  bool   \n",
      " 58  subcat_Shoe Care & Accessories             680980 non-null  bool   \n",
      " 59  subcat_Contemporary & Designer             680980 non-null  bool   \n",
      " 60  subcat_Travel Accessories                  680980 non-null  bool   \n",
      " 61  subcat_Surf, Skate & Street                680980 non-null  bool   \n",
      "dtypes: bool(54), float64(1), int64(1), object(6)\n",
      "memory usage: 76.6+ MB\n"
     ]
    }
   ],
   "source": [
    "products_df.info()"
   ]
  },
  {
   "cell_type": "code",
   "execution_count": 9,
   "id": "7e2b727c",
   "metadata": {},
   "outputs": [
    {
     "data": {
      "text/html": [
       "<div>\n",
       "<style scoped>\n",
       "    .dataframe tbody tr th:only-of-type {\n",
       "        vertical-align: middle;\n",
       "    }\n",
       "\n",
       "    .dataframe tbody tr th {\n",
       "        vertical-align: top;\n",
       "    }\n",
       "\n",
       "    .dataframe thead th {\n",
       "        text-align: right;\n",
       "    }\n",
       "</style>\n",
       "<table border=\"1\" class=\"dataframe\">\n",
       "  <thead>\n",
       "    <tr style=\"text-align: right;\">\n",
       "      <th></th>\n",
       "      <th>category</th>\n",
       "      <th>description</th>\n",
       "      <th>title</th>\n",
       "      <th>brand</th>\n",
       "      <th>rank</th>\n",
       "      <th>date</th>\n",
       "      <th>asin</th>\n",
       "      <th>price</th>\n",
       "      <th>maincat_Luggage &amp; Travel Gear</th>\n",
       "      <th>maincat_Backpacks</th>\n",
       "      <th>...</th>\n",
       "      <th>subcat_Shoes</th>\n",
       "      <th>subcat_Handbags &amp; Wallets</th>\n",
       "      <th>subcat_Girls</th>\n",
       "      <th>subcat_Boys</th>\n",
       "      <th>subcat_Shoe, Jewelry &amp; Watch Accessories</th>\n",
       "      <th>subcat_Jewelry Accessories</th>\n",
       "      <th>subcat_Shoe Care &amp; Accessories</th>\n",
       "      <th>subcat_Contemporary &amp; Designer</th>\n",
       "      <th>subcat_Travel Accessories</th>\n",
       "      <th>subcat_Surf, Skate &amp; Street</th>\n",
       "    </tr>\n",
       "  </thead>\n",
       "  <tbody>\n",
       "    <tr>\n",
       "      <th>0</th>\n",
       "      <td>['Clothing, Shoes &amp; Jewelry', 'Luggage &amp; Trave...</td>\n",
       "      <td>The Hottest Bag in Town! Brand: Anello Conditi...</td>\n",
       "      <td>Japan Anello Backpack Unisex PINK BEIGE LARGE ...</td>\n",
       "      <td>Anello</td>\n",
       "      <td>3994472</td>\n",
       "      <td>5 star</td>\n",
       "      <td>0204444454</td>\n",
       "      <td>70.00</td>\n",
       "      <td>True</td>\n",
       "      <td>True</td>\n",
       "      <td>...</td>\n",
       "      <td>False</td>\n",
       "      <td>False</td>\n",
       "      <td>False</td>\n",
       "      <td>False</td>\n",
       "      <td>False</td>\n",
       "      <td>False</td>\n",
       "      <td>False</td>\n",
       "      <td>False</td>\n",
       "      <td>False</td>\n",
       "      <td>False</td>\n",
       "    </tr>\n",
       "    <tr>\n",
       "      <th>1</th>\n",
       "      <td>['Clothing, Shoes &amp; Jewelry', 'Luggage &amp; Trave...</td>\n",
       "      <td>The Hottest Bag in Town! Brand: Anello Conditi...</td>\n",
       "      <td>Japan Anello Backpack Unisex BLACK LARGE PU LE...</td>\n",
       "      <td>Anello</td>\n",
       "      <td>635761</td>\n",
       "      <td>5 star</td>\n",
       "      <td>0204444403</td>\n",
       "      <td>65.99</td>\n",
       "      <td>True</td>\n",
       "      <td>True</td>\n",
       "      <td>...</td>\n",
       "      <td>False</td>\n",
       "      <td>False</td>\n",
       "      <td>False</td>\n",
       "      <td>False</td>\n",
       "      <td>False</td>\n",
       "      <td>False</td>\n",
       "      <td>False</td>\n",
       "      <td>False</td>\n",
       "      <td>False</td>\n",
       "      <td>False</td>\n",
       "    </tr>\n",
       "    <tr>\n",
       "      <th>2</th>\n",
       "      <td>['Clothing, Shoes &amp; Jewelry', 'Novelty &amp; More'...</td>\n",
       "      <td>Brand New.  Hat Centre Length: adult about 8cm...</td>\n",
       "      <td>bettyhome Unisex Adult Winter Spring Thicken C...</td>\n",
       "      <td>bettyhome</td>\n",
       "      <td>5061041</td>\n",
       "      <td>5 star5 star (0%)</td>\n",
       "      <td>0206313535</td>\n",
       "      <td>18.99</td>\n",
       "      <td>False</td>\n",
       "      <td>False</td>\n",
       "      <td>...</td>\n",
       "      <td>False</td>\n",
       "      <td>False</td>\n",
       "      <td>False</td>\n",
       "      <td>False</td>\n",
       "      <td>False</td>\n",
       "      <td>False</td>\n",
       "      <td>False</td>\n",
       "      <td>False</td>\n",
       "      <td>False</td>\n",
       "      <td>False</td>\n",
       "    </tr>\n",
       "    <tr>\n",
       "      <th>3</th>\n",
       "      <td>['Clothing, Shoes &amp; Jewelry', 'Women', 'Clothi...</td>\n",
       "      <td>Please allow 1-2cm dimension deviation. 100% b...</td>\n",
       "      <td>bettyhome Womens Lace Short Sleeves Top Printi...</td>\n",
       "      <td>bettyhome</td>\n",
       "      <td>10635107</td>\n",
       "      <td>5 star</td>\n",
       "      <td>0206335962</td>\n",
       "      <td>23.99</td>\n",
       "      <td>False</td>\n",
       "      <td>False</td>\n",
       "      <td>...</td>\n",
       "      <td>False</td>\n",
       "      <td>False</td>\n",
       "      <td>False</td>\n",
       "      <td>False</td>\n",
       "      <td>False</td>\n",
       "      <td>False</td>\n",
       "      <td>False</td>\n",
       "      <td>False</td>\n",
       "      <td>False</td>\n",
       "      <td>False</td>\n",
       "    </tr>\n",
       "    <tr>\n",
       "      <th>4</th>\n",
       "      <td>['Clothing, Shoes &amp; Jewelry', 'Luggage &amp; Trave...</td>\n",
       "      <td>2 Way Shoulder Handle Polyester Canvas Boston ...</td>\n",
       "      <td>Japan Anello LARGE CAMO 2 Way Unisex Shoulder ...</td>\n",
       "      <td>Anello</td>\n",
       "      <td>1615335</td>\n",
       "      <td>5 star</td>\n",
       "      <td>024444448X</td>\n",
       "      <td>65.33</td>\n",
       "      <td>True</td>\n",
       "      <td>True</td>\n",
       "      <td>...</td>\n",
       "      <td>False</td>\n",
       "      <td>False</td>\n",
       "      <td>False</td>\n",
       "      <td>False</td>\n",
       "      <td>False</td>\n",
       "      <td>False</td>\n",
       "      <td>False</td>\n",
       "      <td>False</td>\n",
       "      <td>False</td>\n",
       "      <td>False</td>\n",
       "    </tr>\n",
       "  </tbody>\n",
       "</table>\n",
       "<p>5 rows × 62 columns</p>\n",
       "</div>"
      ],
      "text/plain": [
       "                                            category  \\\n",
       "0  ['Clothing, Shoes & Jewelry', 'Luggage & Trave...   \n",
       "1  ['Clothing, Shoes & Jewelry', 'Luggage & Trave...   \n",
       "2  ['Clothing, Shoes & Jewelry', 'Novelty & More'...   \n",
       "3  ['Clothing, Shoes & Jewelry', 'Women', 'Clothi...   \n",
       "4  ['Clothing, Shoes & Jewelry', 'Luggage & Trave...   \n",
       "\n",
       "                                         description  \\\n",
       "0  The Hottest Bag in Town! Brand: Anello Conditi...   \n",
       "1  The Hottest Bag in Town! Brand: Anello Conditi...   \n",
       "2  Brand New.  Hat Centre Length: adult about 8cm...   \n",
       "3  Please allow 1-2cm dimension deviation. 100% b...   \n",
       "4  2 Way Shoulder Handle Polyester Canvas Boston ...   \n",
       "\n",
       "                                               title      brand      rank  \\\n",
       "0  Japan Anello Backpack Unisex PINK BEIGE LARGE ...     Anello   3994472   \n",
       "1  Japan Anello Backpack Unisex BLACK LARGE PU LE...     Anello    635761   \n",
       "2  bettyhome Unisex Adult Winter Spring Thicken C...  bettyhome   5061041   \n",
       "3  bettyhome Womens Lace Short Sleeves Top Printi...  bettyhome  10635107   \n",
       "4  Japan Anello LARGE CAMO 2 Way Unisex Shoulder ...     Anello   1615335   \n",
       "\n",
       "                date        asin  price  maincat_Luggage & Travel Gear  \\\n",
       "0             5 star  0204444454  70.00                           True   \n",
       "1             5 star  0204444403  65.99                           True   \n",
       "2  5 star5 star (0%)  0206313535  18.99                          False   \n",
       "3             5 star  0206335962  23.99                          False   \n",
       "4             5 star  024444448X  65.33                           True   \n",
       "\n",
       "   maincat_Backpacks  ...  subcat_Shoes  subcat_Handbags & Wallets  \\\n",
       "0               True  ...         False                      False   \n",
       "1               True  ...         False                      False   \n",
       "2              False  ...         False                      False   \n",
       "3              False  ...         False                      False   \n",
       "4               True  ...         False                      False   \n",
       "\n",
       "   subcat_Girls  subcat_Boys  subcat_Shoe, Jewelry & Watch Accessories  \\\n",
       "0         False        False                                     False   \n",
       "1         False        False                                     False   \n",
       "2         False        False                                     False   \n",
       "3         False        False                                     False   \n",
       "4         False        False                                     False   \n",
       "\n",
       "   subcat_Jewelry Accessories  subcat_Shoe Care & Accessories  \\\n",
       "0                       False                           False   \n",
       "1                       False                           False   \n",
       "2                       False                           False   \n",
       "3                       False                           False   \n",
       "4                       False                           False   \n",
       "\n",
       "   subcat_Contemporary & Designer  subcat_Travel Accessories  \\\n",
       "0                           False                      False   \n",
       "1                           False                      False   \n",
       "2                           False                      False   \n",
       "3                           False                      False   \n",
       "4                           False                      False   \n",
       "\n",
       "   subcat_Surf, Skate & Street  \n",
       "0                        False  \n",
       "1                        False  \n",
       "2                        False  \n",
       "3                        False  \n",
       "4                        False  \n",
       "\n",
       "[5 rows x 62 columns]"
      ]
     },
     "execution_count": 9,
     "metadata": {},
     "output_type": "execute_result"
    }
   ],
   "source": [
    "products_df.head()"
   ]
  },
  {
   "cell_type": "code",
   "execution_count": 10,
   "id": "f9fec1db",
   "metadata": {},
   "outputs": [],
   "source": [
    "# creating empty dataframe\n",
    "reviews_summary = pd.DataFrame()\n",
    "\n",
    "# finding the average rating of a product and adding it to dataframe\n",
    "reviews_summary = (reviews_df.groupby(['asin'], as_index=False)['overall'].mean().round(1))\n",
    "\n",
    "# renaming column name\n",
    "reviews_summary.rename(columns={'overall':'average_rating'}, inplace=True)"
   ]
  },
  {
   "cell_type": "code",
   "execution_count": 11,
   "id": "58465bb7",
   "metadata": {},
   "outputs": [],
   "source": [
    "# finding the total number of reviews the product received\n",
    "reviews_summary['total_reviews'] = (reviews_df.groupby(['asin'], as_index=False)['overall'].count())['overall']"
   ]
  },
  {
   "cell_type": "code",
   "execution_count": 12,
   "id": "aa963cd1",
   "metadata": {},
   "outputs": [],
   "source": [
    "# setting the index of the product to the asin to be able to join on the products dataframe\n",
    "reviews_summary = reviews_summary.set_index('asin')\n",
    "\n",
    "# joining the review summary column on the \n",
    "products_df = products_df.join(reviews_summary, on='asin', how='inner')"
   ]
  },
  {
   "cell_type": "code",
   "execution_count": 13,
   "id": "f76b4b55",
   "metadata": {},
   "outputs": [
    {
     "data": {
      "text/html": [
       "<div>\n",
       "<style scoped>\n",
       "    .dataframe tbody tr th:only-of-type {\n",
       "        vertical-align: middle;\n",
       "    }\n",
       "\n",
       "    .dataframe tbody tr th {\n",
       "        vertical-align: top;\n",
       "    }\n",
       "\n",
       "    .dataframe thead th {\n",
       "        text-align: right;\n",
       "    }\n",
       "</style>\n",
       "<table border=\"1\" class=\"dataframe\">\n",
       "  <thead>\n",
       "    <tr style=\"text-align: right;\">\n",
       "      <th></th>\n",
       "      <th>category</th>\n",
       "      <th>description</th>\n",
       "      <th>title</th>\n",
       "      <th>brand</th>\n",
       "      <th>rank</th>\n",
       "      <th>date</th>\n",
       "      <th>asin</th>\n",
       "      <th>price</th>\n",
       "      <th>maincat_Luggage &amp; Travel Gear</th>\n",
       "      <th>maincat_Backpacks</th>\n",
       "      <th>...</th>\n",
       "      <th>subcat_Girls</th>\n",
       "      <th>subcat_Boys</th>\n",
       "      <th>subcat_Shoe, Jewelry &amp; Watch Accessories</th>\n",
       "      <th>subcat_Jewelry Accessories</th>\n",
       "      <th>subcat_Shoe Care &amp; Accessories</th>\n",
       "      <th>subcat_Contemporary &amp; Designer</th>\n",
       "      <th>subcat_Travel Accessories</th>\n",
       "      <th>subcat_Surf, Skate &amp; Street</th>\n",
       "      <th>average_rating</th>\n",
       "      <th>total_reviews</th>\n",
       "    </tr>\n",
       "  </thead>\n",
       "  <tbody>\n",
       "    <tr>\n",
       "      <th>0</th>\n",
       "      <td>['Clothing, Shoes &amp; Jewelry', 'Luggage &amp; Trave...</td>\n",
       "      <td>The Hottest Bag in Town! Brand: Anello Conditi...</td>\n",
       "      <td>Japan Anello Backpack Unisex PINK BEIGE LARGE ...</td>\n",
       "      <td>Anello</td>\n",
       "      <td>3994472</td>\n",
       "      <td>5 star</td>\n",
       "      <td>0204444454</td>\n",
       "      <td>70.00</td>\n",
       "      <td>True</td>\n",
       "      <td>True</td>\n",
       "      <td>...</td>\n",
       "      <td>False</td>\n",
       "      <td>False</td>\n",
       "      <td>False</td>\n",
       "      <td>False</td>\n",
       "      <td>False</td>\n",
       "      <td>False</td>\n",
       "      <td>False</td>\n",
       "      <td>False</td>\n",
       "      <td>4.5</td>\n",
       "      <td>2</td>\n",
       "    </tr>\n",
       "    <tr>\n",
       "      <th>1</th>\n",
       "      <td>['Clothing, Shoes &amp; Jewelry', 'Luggage &amp; Trave...</td>\n",
       "      <td>The Hottest Bag in Town! Brand: Anello Conditi...</td>\n",
       "      <td>Japan Anello Backpack Unisex BLACK LARGE PU LE...</td>\n",
       "      <td>Anello</td>\n",
       "      <td>635761</td>\n",
       "      <td>5 star</td>\n",
       "      <td>0204444403</td>\n",
       "      <td>65.99</td>\n",
       "      <td>True</td>\n",
       "      <td>True</td>\n",
       "      <td>...</td>\n",
       "      <td>False</td>\n",
       "      <td>False</td>\n",
       "      <td>False</td>\n",
       "      <td>False</td>\n",
       "      <td>False</td>\n",
       "      <td>False</td>\n",
       "      <td>False</td>\n",
       "      <td>False</td>\n",
       "      <td>5.0</td>\n",
       "      <td>2</td>\n",
       "    </tr>\n",
       "    <tr>\n",
       "      <th>5</th>\n",
       "      <td>['Clothing, Shoes &amp; Jewelry', 'Baby', 'Baby Bo...</td>\n",
       "      <td>Bambino Balls is the perfect gift for sports f...</td>\n",
       "      <td>Bambino Balls Short Sleeve Baseball Outfit</td>\n",
       "      <td>Bambino Balls</td>\n",
       "      <td>1502153</td>\n",
       "      <td>5 star</td>\n",
       "      <td>160832222X</td>\n",
       "      <td>21.99</td>\n",
       "      <td>False</td>\n",
       "      <td>False</td>\n",
       "      <td>...</td>\n",
       "      <td>False</td>\n",
       "      <td>False</td>\n",
       "      <td>False</td>\n",
       "      <td>False</td>\n",
       "      <td>False</td>\n",
       "      <td>False</td>\n",
       "      <td>False</td>\n",
       "      <td>False</td>\n",
       "      <td>5.0</td>\n",
       "      <td>2</td>\n",
       "    </tr>\n",
       "    <tr>\n",
       "      <th>6</th>\n",
       "      <td>['Clothing, Shoes &amp; Jewelry', 'Baby', 'Baby Bo...</td>\n",
       "      <td>Bambino Balls is the perfect gift for sports f...</td>\n",
       "      <td>Bambino Balls Short Sleeve Football Outfit. Sm...</td>\n",
       "      <td>Bambino Balls</td>\n",
       "      <td>2141312</td>\n",
       "      <td>5 star</td>\n",
       "      <td>1608322254</td>\n",
       "      <td>18.99</td>\n",
       "      <td>False</td>\n",
       "      <td>False</td>\n",
       "      <td>...</td>\n",
       "      <td>False</td>\n",
       "      <td>False</td>\n",
       "      <td>False</td>\n",
       "      <td>False</td>\n",
       "      <td>False</td>\n",
       "      <td>False</td>\n",
       "      <td>False</td>\n",
       "      <td>False</td>\n",
       "      <td>4.0</td>\n",
       "      <td>3</td>\n",
       "    </tr>\n",
       "    <tr>\n",
       "      <th>7</th>\n",
       "      <td>['Clothing, Shoes &amp; Jewelry', 'Men', 'Clothing...</td>\n",
       "      <td>Slip into the tight leather jeans by Bockle.Th...</td>\n",
       "      <td>Bockle® 1991 Tube White Men Leather Pants Trou...</td>\n",
       "      <td>Bockle</td>\n",
       "      <td>3160501</td>\n",
       "      <td>5 star</td>\n",
       "      <td>3999852739</td>\n",
       "      <td>169.00</td>\n",
       "      <td>False</td>\n",
       "      <td>False</td>\n",
       "      <td>...</td>\n",
       "      <td>False</td>\n",
       "      <td>False</td>\n",
       "      <td>False</td>\n",
       "      <td>False</td>\n",
       "      <td>False</td>\n",
       "      <td>False</td>\n",
       "      <td>False</td>\n",
       "      <td>False</td>\n",
       "      <td>4.0</td>\n",
       "      <td>1</td>\n",
       "    </tr>\n",
       "  </tbody>\n",
       "</table>\n",
       "<p>5 rows × 64 columns</p>\n",
       "</div>"
      ],
      "text/plain": [
       "                                            category  \\\n",
       "0  ['Clothing, Shoes & Jewelry', 'Luggage & Trave...   \n",
       "1  ['Clothing, Shoes & Jewelry', 'Luggage & Trave...   \n",
       "5  ['Clothing, Shoes & Jewelry', 'Baby', 'Baby Bo...   \n",
       "6  ['Clothing, Shoes & Jewelry', 'Baby', 'Baby Bo...   \n",
       "7  ['Clothing, Shoes & Jewelry', 'Men', 'Clothing...   \n",
       "\n",
       "                                         description  \\\n",
       "0  The Hottest Bag in Town! Brand: Anello Conditi...   \n",
       "1  The Hottest Bag in Town! Brand: Anello Conditi...   \n",
       "5  Bambino Balls is the perfect gift for sports f...   \n",
       "6  Bambino Balls is the perfect gift for sports f...   \n",
       "7  Slip into the tight leather jeans by Bockle.Th...   \n",
       "\n",
       "                                               title          brand     rank  \\\n",
       "0  Japan Anello Backpack Unisex PINK BEIGE LARGE ...         Anello  3994472   \n",
       "1  Japan Anello Backpack Unisex BLACK LARGE PU LE...         Anello   635761   \n",
       "5         Bambino Balls Short Sleeve Baseball Outfit  Bambino Balls  1502153   \n",
       "6  Bambino Balls Short Sleeve Football Outfit. Sm...  Bambino Balls  2141312   \n",
       "7  Bockle® 1991 Tube White Men Leather Pants Trou...         Bockle  3160501   \n",
       "\n",
       "     date        asin   price  maincat_Luggage & Travel Gear  \\\n",
       "0  5 star  0204444454   70.00                           True   \n",
       "1  5 star  0204444403   65.99                           True   \n",
       "5  5 star  160832222X   21.99                          False   \n",
       "6  5 star  1608322254   18.99                          False   \n",
       "7  5 star  3999852739  169.00                          False   \n",
       "\n",
       "   maincat_Backpacks  ...  subcat_Girls  subcat_Boys  \\\n",
       "0               True  ...         False        False   \n",
       "1               True  ...         False        False   \n",
       "5              False  ...         False        False   \n",
       "6              False  ...         False        False   \n",
       "7              False  ...         False        False   \n",
       "\n",
       "   subcat_Shoe, Jewelry & Watch Accessories  subcat_Jewelry Accessories  \\\n",
       "0                                     False                       False   \n",
       "1                                     False                       False   \n",
       "5                                     False                       False   \n",
       "6                                     False                       False   \n",
       "7                                     False                       False   \n",
       "\n",
       "   subcat_Shoe Care & Accessories  subcat_Contemporary & Designer  \\\n",
       "0                           False                           False   \n",
       "1                           False                           False   \n",
       "5                           False                           False   \n",
       "6                           False                           False   \n",
       "7                           False                           False   \n",
       "\n",
       "   subcat_Travel Accessories  subcat_Surf, Skate & Street  average_rating  \\\n",
       "0                      False                        False             4.5   \n",
       "1                      False                        False             5.0   \n",
       "5                      False                        False             5.0   \n",
       "6                      False                        False             4.0   \n",
       "7                      False                        False             4.0   \n",
       "\n",
       "   total_reviews  \n",
       "0              2  \n",
       "1              2  \n",
       "5              2  \n",
       "6              3  \n",
       "7              1  \n",
       "\n",
       "[5 rows x 64 columns]"
      ]
     },
     "execution_count": 13,
     "metadata": {},
     "output_type": "execute_result"
    }
   ],
   "source": [
    "products_df.head()"
   ]
  },
  {
   "cell_type": "code",
   "execution_count": 14,
   "id": "fb519967",
   "metadata": {},
   "outputs": [],
   "source": [
    "# saving new products data \n",
    "products_df.to_csv('Data/products_summary.csv', index=False)"
   ]
  },
  {
   "attachments": {},
   "cell_type": "markdown",
   "id": "7dfcd483",
   "metadata": {},
   "source": [
    "## Data Visualizations <a id='visualizations'></a>"
   ]
  },
  {
   "cell_type": "markdown",
   "id": "11025b2e",
   "metadata": {},
   "source": [
    "#### `overall`"
   ]
  },
  {
   "cell_type": "code",
   "execution_count": 17,
   "id": "2c4147db",
   "metadata": {},
   "outputs": [
    {
     "data": {
      "text/plain": [
       "array([3, 1, 5, 4, 2], dtype=int64)"
      ]
     },
     "execution_count": 17,
     "metadata": {},
     "output_type": "execute_result"
    }
   ],
   "source": [
    "reviews_df['overall'].unique()"
   ]
  },
  {
   "cell_type": "code",
   "execution_count": 28,
   "id": "2044baf7",
   "metadata": {},
   "outputs": [
    {
     "data": {
      "image/png": "[encoded data removed]",
      "text/plain": [
       "<Figure size 1920x1440 with 1 Axes>"
      ]
     },
     "metadata": {},
     "output_type": "display_data"
    }
   ],
   "source": [
    "reviews_df['overall'].value_counts(normalize=True).sort_index().plot(kind='bar', rot=0, title='Distribution of Ratings', \\\n",
    "                                                                     color = 'darkred')\n",
    "plt.xlabel('Ratings')\n",
    "plt.ylabel('Percentage of Reviews')\n",
    "plt.show()"
   ]
  },
  {
   "cell_type": "markdown",
   "id": "4baf8d8a",
   "metadata": {},
   "source": [
    "### Basic Numbers "
   ]
  },
  {
   "cell_type": "code",
   "execution_count": 86,
   "id": "8578373a",
   "metadata": {},
   "outputs": [
    {
     "name": "stdout",
     "output_type": "stream",
     "text": [
      "There are 1925088 reviews\n",
      "There are 313645 products being reviewed\n",
      "There are 1613845 unique reviewers\n"
     ]
    }
   ],
   "source": [
    "unique_asin = reviews_df['asin'].nunique()\n",
    "unique_reviewers = reviews_df['reviewerID'].nunique()\n",
    "\n",
    "print(f'There are {reviews_df.shape[0]} reviews')\n",
    "\n",
    "print(f'There are {unique_asin} products being reviewed')\n",
    "\n",
    "print(f'There are {unique_reviewers} unique reviewers')"
   ]
  },
  {
   "cell_type": "code",
   "execution_count": 35,
   "id": "f529e428",
   "metadata": {},
   "outputs": [],
   "source": [
    "no_reviews_per_reviewer = reviews_df.groupby(by='reviewerID')['overall'].count().sort_values(ascending=False)"
   ]
  },
  {
   "cell_type": "code",
   "execution_count": 31,
   "id": "fb302524",
   "metadata": {},
   "outputs": [
    {
     "data": {
      "text/plain": [
       "reviewerID\n",
       "ALFRMOGTO1K4M     47\n",
       "AVU1ILDDYW301     39\n",
       "A2503LT8PZIHAD    31\n",
       "A3W5A9X3HHACQT    30\n",
       "A2RYWPOL4NN2KG    30\n",
       "                  ..\n",
       "A2CMIKZT0XTU5I     1\n",
       "A2CMIFAQDEAI9S     1\n",
       "A2CMIDSTMH02FR     1\n",
       "A2CMIBQ95AVP3T     1\n",
       "AZZZZJYGA32        1\n",
       "Name: overall, Length: 1613845, dtype: int64"
      ]
     },
     "execution_count": 31,
     "metadata": {},
     "output_type": "execute_result"
    }
   ],
   "source": [
    "no_reviews_per_reviewer"
   ]
  },
  {
   "cell_type": "code",
   "execution_count": 36,
   "id": "e7ed5990",
   "metadata": {},
   "outputs": [
    {
     "data": {
      "text/plain": [
       "count    4.124367e+06\n",
       "mean     1.516786e+00\n",
       "std      1.319759e+00\n",
       "min      1.000000e+00\n",
       "25%      1.000000e+00\n",
       "50%      1.000000e+00\n",
       "75%      2.000000e+00\n",
       "max      1.120000e+02\n",
       "Name: overall, dtype: float64"
      ]
     },
     "execution_count": 36,
     "metadata": {},
     "output_type": "execute_result"
    }
   ],
   "source": [
    "no_reviews_per_reviewer.describe()"
   ]
  },
  {
   "cell_type": "markdown",
   "id": "150c837e",
   "metadata": {},
   "source": [
    "Majority of reviewers leave one review."
   ]
  },
  {
   "cell_type": "code",
   "execution_count": 37,
   "id": "be53c836",
   "metadata": {},
   "outputs": [],
   "source": [
    "quantiles = no_reviews_per_reviewer.quantile(np.arange(0,1.01,0.01))"
   ]
  },
  {
   "cell_type": "code",
   "execution_count": 119,
   "id": "be1b0e8d",
   "metadata": {},
   "outputs": [
    {
     "data": {
      "text/plain": [
       "0.00      1.0\n",
       "0.01      1.0\n",
       "0.02      1.0\n",
       "0.03      1.0\n",
       "0.04      1.0\n",
       "        ...  \n",
       "0.96      4.0\n",
       "0.97      4.0\n",
       "0.98      5.0\n",
       "0.99      7.0\n",
       "1.00    112.0\n",
       "Name: overall, Length: 101, dtype: float64"
      ]
     },
     "execution_count": 119,
     "metadata": {},
     "output_type": "execute_result"
    }
   ],
   "source": [
    "quantiles"
   ]
  },
  {
   "cell_type": "code",
   "execution_count": 62,
   "id": "57575562",
   "metadata": {},
   "outputs": [
    {
     "data": {
      "image/png": "[encoded data removed]",
      "text/plain": [
       "<Figure size 640x480 with 1 Axes>"
      ]
     },
     "metadata": {},
     "output_type": "display_data"
    }
   ],
   "source": [
    "plt.scatter(x=quantiles.index[::5], y=quantiles.values[::5], c='firebrick')\n",
    "plt.plot(quantiles, 'orange')\n",
    "\n",
    "plt.title('Number of Reviews per Reviewer per Quantile')\n",
    "plt.xlabel('Quantile')\n",
    "plt.ylabel('Number of Reviews per Reviewer')\n",
    "\n",
    "plt.yticks(np.arange(0, max(quantiles)+5, 5))\n",
    "\n",
    "plt.show()"
   ]
  },
  {
   "attachments": {},
   "cell_type": "markdown",
   "id": "266ab111",
   "metadata": {},
   "source": [
    "### Number of Reviews per Product"
   ]
  },
  {
   "cell_type": "code",
   "execution_count": 8,
   "id": "69fff545",
   "metadata": {},
   "outputs": [],
   "source": [
    "no_reviews_per_product = reviews_df.groupby(by='asin')['overall'].count().sort_values(ascending=False)"
   ]
  },
  {
   "cell_type": "code",
   "execution_count": 9,
   "id": "fb302524",
   "metadata": {},
   "outputs": [
    {
     "data": {
      "text/plain": [
       "asin\n",
       "B000YXC2LI    5785\n",
       "B00M4NF9H0    5110\n",
       "B00F3EDEOC    4397\n",
       "B00GAPACC0    4357\n",
       "B000HTICY0    4334\n",
       "              ... \n",
       "B011PM0WCC       1\n",
       "B00G1V794W       1\n",
       "B011PM0ZHO       1\n",
       "B00G1V5HA0       1\n",
       "B00NPA5QNI       1\n",
       "Name: overall, Length: 476029, dtype: int64"
      ]
     },
     "execution_count": 9,
     "metadata": {},
     "output_type": "execute_result"
    }
   ],
   "source": [
    "no_reviews_per_product"
   ]
  },
  {
   "cell_type": "code",
   "execution_count": 11,
   "id": "e7ed5990",
   "metadata": {},
   "outputs": [
    {
     "data": {
      "text/plain": [
       "count    476029.000000\n",
       "mean         12.314017\n",
       "std          64.484277\n",
       "min           1.000000\n",
       "25%           1.000000\n",
       "50%           2.000000\n",
       "75%           6.000000\n",
       "max        5785.000000\n",
       "Name: overall, dtype: float64"
      ]
     },
     "execution_count": 11,
     "metadata": {},
     "output_type": "execute_result"
    }
   ],
   "source": [
    "no_reviews_per_product.describe()"
   ]
  },
  {
   "cell_type": "markdown",
   "id": "150c837e",
   "metadata": {},
   "source": [
    "Majority of reviewers leave one review."
   ]
  },
  {
   "cell_type": "code",
   "execution_count": 12,
   "id": "be53c836",
   "metadata": {},
   "outputs": [],
   "source": [
    "quantiles = no_reviews_per_product.quantile(np.arange(0,1.01,0.01))"
   ]
  },
  {
   "cell_type": "code",
   "execution_count": 13,
   "id": "be1b0e8d",
   "metadata": {},
   "outputs": [
    {
     "data": {
      "text/plain": [
       "0.00       1.0\n",
       "0.01       1.0\n",
       "0.02       1.0\n",
       "0.03       1.0\n",
       "0.04       1.0\n",
       "         ...  \n",
       "0.96      55.0\n",
       "0.97      72.0\n",
       "0.98     102.0\n",
       "0.99     180.0\n",
       "1.00    5785.0\n",
       "Name: overall, Length: 101, dtype: float64"
      ]
     },
     "execution_count": 13,
     "metadata": {},
     "output_type": "execute_result"
    }
   ],
   "source": [
    "quantiles"
   ]
  },
  {
   "cell_type": "code",
   "execution_count": 15,
   "id": "57575562",
   "metadata": {},
   "outputs": [
    {
     "data": {
      "image/png": "[encoded data removed]",
      "text/plain": [
       "<Figure size 640x480 with 1 Axes>"
      ]
     },
     "metadata": {},
     "output_type": "display_data"
    }
   ],
   "source": [
    "plt.scatter(x=quantiles.index[::5], y=quantiles.values[::5], c='firebrick')\n",
    "plt.plot(quantiles, 'orange')\n",
    "\n",
    "plt.title('Number of Reviews per Product per Quantile')\n",
    "plt.xlabel('Quantile')\n",
    "plt.ylabel('Number of Reviews per Product')\n",
    "\n",
    "#plt.yticks(np.arange(0, max(quantiles)+5, 5))\n",
    "\n",
    "plt.show()"
   ]
  },
  {
   "cell_type": "code",
   "execution_count": null,
   "id": "f75c74f8",
   "metadata": {},
   "outputs": [],
   "source": []
  },
  {
   "cell_type": "code",
   "execution_count": null,
   "id": "e6d6e844",
   "metadata": {},
   "outputs": [],
   "source": []
  },
  {
   "cell_type": "code",
   "execution_count": null,
   "id": "fb12ae8e",
   "metadata": {},
   "outputs": [],
   "source": []
  },
  {
   "cell_type": "markdown",
   "id": "73239051",
   "metadata": {},
   "source": [
    "---\n",
    "## Preparing Products Data for Popularity-Based Recommendation System"
   ]
  },
  {
   "cell_type": "code",
   "execution_count": 4,
   "id": "b606c58d",
   "metadata": {},
   "outputs": [],
   "source": [
    "products_basicboolean = pd.read_csv('Data/products_basicboolean.csv')"
   ]
  },
  {
   "cell_type": "code",
   "execution_count": 5,
   "id": "64899106",
   "metadata": {},
   "outputs": [
    {
     "name": "stdout",
     "output_type": "stream",
     "text": [
      "<class 'pandas.core.frame.DataFrame'>\n",
      "RangeIndex: 680980 entries, 0 to 680979\n",
      "Data columns (total 59 columns):\n",
      " #   Column                                     Non-Null Count   Dtype  \n",
      "---  ------                                     --------------   -----  \n",
      " 0   title                                      680980 non-null  object \n",
      " 1   brand                                      680980 non-null  object \n",
      " 2   rank                                       680980 non-null  int64  \n",
      " 3   asin                                       680980 non-null  object \n",
      " 4   price                                      680980 non-null  float64\n",
      " 5   maincat_Luggage & Travel Gear              680980 non-null  bool   \n",
      " 6   maincat_Backpacks                          680980 non-null  bool   \n",
      " 7   maincat_Novelty & More                     680980 non-null  bool   \n",
      " 8   maincat_Clothing                           680980 non-null  bool   \n",
      " 9   maincat_Women                              680980 non-null  bool   \n",
      " 10  maincat_Baby                               680980 non-null  bool   \n",
      " 11  maincat_Baby Boys                          680980 non-null  bool   \n",
      " 12  maincat_Men                                680980 non-null  bool   \n",
      " 13  maincat_Maternity                          680980 non-null  bool   \n",
      " 14  maincat_Baby Girls                         680980 non-null  bool   \n",
      " 15  maincat_Traditional & Cultural Wear        680980 non-null  bool   \n",
      " 16  maincat_Accessories                        680980 non-null  bool   \n",
      " 17  maincat_Jewelry                            680980 non-null  bool   \n",
      " 18  maincat_Costumes & Accessories             680980 non-null  bool   \n",
      " 19  maincat_Watches                            680980 non-null  bool   \n",
      " 20  maincat_Kids & Baby                        680980 non-null  bool   \n",
      " 21  maincat_Uniforms, Work & Safety            680980 non-null  bool   \n",
      " 22  maincat_Shoes                              680980 non-null  bool   \n",
      " 23  maincat_Handbags & Wallets                 680980 non-null  bool   \n",
      " 24  maincat_Girls                              680980 non-null  bool   \n",
      " 25  maincat_Boys                               680980 non-null  bool   \n",
      " 26  maincat_Shoe, Jewelry & Watch Accessories  680980 non-null  bool   \n",
      " 27  maincat_Jewelry Accessories                680980 non-null  bool   \n",
      " 28  maincat_Shoe Care & Accessories            680980 non-null  bool   \n",
      " 29  maincat_Contemporary & Designer            680980 non-null  bool   \n",
      " 30  maincat_Travel Accessories                 680980 non-null  bool   \n",
      " 31  maincat_Surf, Skate & Street               680980 non-null  bool   \n",
      " 32  subcat_Luggage & Travel Gear               680980 non-null  bool   \n",
      " 33  subcat_Backpacks                           680980 non-null  bool   \n",
      " 34  subcat_Novelty & More                      680980 non-null  bool   \n",
      " 35  subcat_Clothing                            680980 non-null  bool   \n",
      " 36  subcat_Women                               680980 non-null  bool   \n",
      " 37  subcat_Baby                                680980 non-null  bool   \n",
      " 38  subcat_Baby Boys                           680980 non-null  bool   \n",
      " 39  subcat_Men                                 680980 non-null  bool   \n",
      " 40  subcat_Maternity                           680980 non-null  bool   \n",
      " 41  subcat_Baby Girls                          680980 non-null  bool   \n",
      " 42  subcat_Traditional & Cultural Wear         680980 non-null  bool   \n",
      " 43  subcat_Accessories                         680980 non-null  bool   \n",
      " 44  subcat_Jewelry                             680980 non-null  bool   \n",
      " 45  subcat_Costumes & Accessories              680980 non-null  bool   \n",
      " 46  subcat_Watches                             680980 non-null  bool   \n",
      " 47  subcat_Kids & Baby                         680980 non-null  bool   \n",
      " 48  subcat_Uniforms, Work & Safety             680980 non-null  bool   \n",
      " 49  subcat_Shoes                               680980 non-null  bool   \n",
      " 50  subcat_Handbags & Wallets                  680980 non-null  bool   \n",
      " 51  subcat_Girls                               680980 non-null  bool   \n",
      " 52  subcat_Boys                                680980 non-null  bool   \n",
      " 53  subcat_Shoe, Jewelry & Watch Accessories   680980 non-null  bool   \n",
      " 54  subcat_Jewelry Accessories                 680980 non-null  bool   \n",
      " 55  subcat_Shoe Care & Accessories             680980 non-null  bool   \n",
      " 56  subcat_Contemporary & Designer             680980 non-null  bool   \n",
      " 57  subcat_Travel Accessories                  680980 non-null  bool   \n",
      " 58  subcat_Surf, Skate & Street                680980 non-null  bool   \n",
      "dtypes: bool(54), float64(1), int64(1), object(3)\n",
      "memory usage: 61.0+ MB\n"
     ]
    }
   ],
   "source": [
    "products_basicboolean.info()"
   ]
  },
  {
   "cell_type": "code",
   "execution_count": 6,
   "id": "7e2b727c",
   "metadata": {},
   "outputs": [
    {
     "data": {
      "text/html": [
       "<div>\n",
       "<style scoped>\n",
       "    .dataframe tbody tr th:only-of-type {\n",
       "        vertical-align: middle;\n",
       "    }\n",
       "\n",
       "    .dataframe tbody tr th {\n",
       "        vertical-align: top;\n",
       "    }\n",
       "\n",
       "    .dataframe thead th {\n",
       "        text-align: right;\n",
       "    }\n",
       "</style>\n",
       "<table border=\"1\" class=\"dataframe\">\n",
       "  <thead>\n",
       "    <tr style=\"text-align: right;\">\n",
       "      <th></th>\n",
       "      <th>title</th>\n",
       "      <th>brand</th>\n",
       "      <th>rank</th>\n",
       "      <th>asin</th>\n",
       "      <th>price</th>\n",
       "      <th>maincat_Luggage &amp; Travel Gear</th>\n",
       "      <th>maincat_Backpacks</th>\n",
       "      <th>maincat_Novelty &amp; More</th>\n",
       "      <th>maincat_Clothing</th>\n",
       "      <th>maincat_Women</th>\n",
       "      <th>...</th>\n",
       "      <th>subcat_Shoes</th>\n",
       "      <th>subcat_Handbags &amp; Wallets</th>\n",
       "      <th>subcat_Girls</th>\n",
       "      <th>subcat_Boys</th>\n",
       "      <th>subcat_Shoe, Jewelry &amp; Watch Accessories</th>\n",
       "      <th>subcat_Jewelry Accessories</th>\n",
       "      <th>subcat_Shoe Care &amp; Accessories</th>\n",
       "      <th>subcat_Contemporary &amp; Designer</th>\n",
       "      <th>subcat_Travel Accessories</th>\n",
       "      <th>subcat_Surf, Skate &amp; Street</th>\n",
       "    </tr>\n",
       "  </thead>\n",
       "  <tbody>\n",
       "    <tr>\n",
       "      <th>0</th>\n",
       "      <td>Japan Anello Backpack Unisex PINK BEIGE LARGE ...</td>\n",
       "      <td>Anello</td>\n",
       "      <td>3994472</td>\n",
       "      <td>0204444454</td>\n",
       "      <td>70.00</td>\n",
       "      <td>True</td>\n",
       "      <td>True</td>\n",
       "      <td>False</td>\n",
       "      <td>False</td>\n",
       "      <td>False</td>\n",
       "      <td>...</td>\n",
       "      <td>False</td>\n",
       "      <td>False</td>\n",
       "      <td>False</td>\n",
       "      <td>False</td>\n",
       "      <td>False</td>\n",
       "      <td>False</td>\n",
       "      <td>False</td>\n",
       "      <td>False</td>\n",
       "      <td>False</td>\n",
       "      <td>False</td>\n",
       "    </tr>\n",
       "    <tr>\n",
       "      <th>1</th>\n",
       "      <td>Japan Anello Backpack Unisex BLACK LARGE PU LE...</td>\n",
       "      <td>Anello</td>\n",
       "      <td>635761</td>\n",
       "      <td>0204444403</td>\n",
       "      <td>65.99</td>\n",
       "      <td>True</td>\n",
       "      <td>True</td>\n",
       "      <td>False</td>\n",
       "      <td>False</td>\n",
       "      <td>False</td>\n",
       "      <td>...</td>\n",
       "      <td>False</td>\n",
       "      <td>False</td>\n",
       "      <td>False</td>\n",
       "      <td>False</td>\n",
       "      <td>False</td>\n",
       "      <td>False</td>\n",
       "      <td>False</td>\n",
       "      <td>False</td>\n",
       "      <td>False</td>\n",
       "      <td>False</td>\n",
       "    </tr>\n",
       "    <tr>\n",
       "      <th>2</th>\n",
       "      <td>bettyhome Unisex Adult Winter Spring Thicken C...</td>\n",
       "      <td>bettyhome</td>\n",
       "      <td>5061041</td>\n",
       "      <td>0206313535</td>\n",
       "      <td>18.99</td>\n",
       "      <td>False</td>\n",
       "      <td>False</td>\n",
       "      <td>True</td>\n",
       "      <td>True</td>\n",
       "      <td>True</td>\n",
       "      <td>...</td>\n",
       "      <td>False</td>\n",
       "      <td>False</td>\n",
       "      <td>False</td>\n",
       "      <td>False</td>\n",
       "      <td>False</td>\n",
       "      <td>False</td>\n",
       "      <td>False</td>\n",
       "      <td>False</td>\n",
       "      <td>False</td>\n",
       "      <td>False</td>\n",
       "    </tr>\n",
       "    <tr>\n",
       "      <th>3</th>\n",
       "      <td>bettyhome Womens Lace Short Sleeves Top Printi...</td>\n",
       "      <td>bettyhome</td>\n",
       "      <td>10635107</td>\n",
       "      <td>0206335962</td>\n",
       "      <td>23.99</td>\n",
       "      <td>False</td>\n",
       "      <td>False</td>\n",
       "      <td>False</td>\n",
       "      <td>True</td>\n",
       "      <td>True</td>\n",
       "      <td>...</td>\n",
       "      <td>False</td>\n",
       "      <td>False</td>\n",
       "      <td>False</td>\n",
       "      <td>False</td>\n",
       "      <td>False</td>\n",
       "      <td>False</td>\n",
       "      <td>False</td>\n",
       "      <td>False</td>\n",
       "      <td>False</td>\n",
       "      <td>False</td>\n",
       "    </tr>\n",
       "    <tr>\n",
       "      <th>4</th>\n",
       "      <td>Japan Anello LARGE CAMO 2 Way Unisex Shoulder ...</td>\n",
       "      <td>Anello</td>\n",
       "      <td>1615335</td>\n",
       "      <td>024444448X</td>\n",
       "      <td>65.33</td>\n",
       "      <td>True</td>\n",
       "      <td>True</td>\n",
       "      <td>False</td>\n",
       "      <td>False</td>\n",
       "      <td>False</td>\n",
       "      <td>...</td>\n",
       "      <td>False</td>\n",
       "      <td>False</td>\n",
       "      <td>False</td>\n",
       "      <td>False</td>\n",
       "      <td>False</td>\n",
       "      <td>False</td>\n",
       "      <td>False</td>\n",
       "      <td>False</td>\n",
       "      <td>False</td>\n",
       "      <td>False</td>\n",
       "    </tr>\n",
       "  </tbody>\n",
       "</table>\n",
       "<p>5 rows × 59 columns</p>\n",
       "</div>"
      ],
      "text/plain": [
       "                                               title      brand      rank  \\\n",
       "0  Japan Anello Backpack Unisex PINK BEIGE LARGE ...     Anello   3994472   \n",
       "1  Japan Anello Backpack Unisex BLACK LARGE PU LE...     Anello    635761   \n",
       "2  bettyhome Unisex Adult Winter Spring Thicken C...  bettyhome   5061041   \n",
       "3  bettyhome Womens Lace Short Sleeves Top Printi...  bettyhome  10635107   \n",
       "4  Japan Anello LARGE CAMO 2 Way Unisex Shoulder ...     Anello   1615335   \n",
       "\n",
       "         asin  price  maincat_Luggage & Travel Gear  maincat_Backpacks  \\\n",
       "0  0204444454  70.00                           True               True   \n",
       "1  0204444403  65.99                           True               True   \n",
       "2  0206313535  18.99                          False              False   \n",
       "3  0206335962  23.99                          False              False   \n",
       "4  024444448X  65.33                           True               True   \n",
       "\n",
       "   maincat_Novelty & More  maincat_Clothing  maincat_Women  ...  subcat_Shoes  \\\n",
       "0                   False             False          False  ...         False   \n",
       "1                   False             False          False  ...         False   \n",
       "2                    True              True           True  ...         False   \n",
       "3                   False              True           True  ...         False   \n",
       "4                   False             False          False  ...         False   \n",
       "\n",
       "   subcat_Handbags & Wallets  subcat_Girls  subcat_Boys  \\\n",
       "0                      False         False        False   \n",
       "1                      False         False        False   \n",
       "2                      False         False        False   \n",
       "3                      False         False        False   \n",
       "4                      False         False        False   \n",
       "\n",
       "   subcat_Shoe, Jewelry & Watch Accessories  subcat_Jewelry Accessories  \\\n",
       "0                                     False                       False   \n",
       "1                                     False                       False   \n",
       "2                                     False                       False   \n",
       "3                                     False                       False   \n",
       "4                                     False                       False   \n",
       "\n",
       "   subcat_Shoe Care & Accessories  subcat_Contemporary & Designer  \\\n",
       "0                           False                           False   \n",
       "1                           False                           False   \n",
       "2                           False                           False   \n",
       "3                           False                           False   \n",
       "4                           False                           False   \n",
       "\n",
       "   subcat_Travel Accessories  subcat_Surf, Skate & Street  \n",
       "0                      False                        False  \n",
       "1                      False                        False  \n",
       "2                      False                        False  \n",
       "3                      False                        False  \n",
       "4                      False                        False  \n",
       "\n",
       "[5 rows x 59 columns]"
      ]
     },
     "execution_count": 6,
     "metadata": {},
     "output_type": "execute_result"
    }
   ],
   "source": [
    "products_basicboolean.head()"
   ]
  },
  {
   "cell_type": "code",
   "execution_count": 20,
   "id": "f9fec1db",
   "metadata": {},
   "outputs": [],
   "source": [
    "reviews_summary = pd.DataFrame()\n",
    "\n",
    "reviews_summary = (reviews_df.groupby(['asin'], as_index=False)['overall'].mean().round(1))\n",
    "\n",
    "# renaming column name\n",
    "reviews_summary.rename(columns={'overall':'average_rating'}, inplace=True)"
   ]
  },
  {
   "cell_type": "code",
   "execution_count": 21,
   "id": "58465bb7",
   "metadata": {},
   "outputs": [],
   "source": [
    "reviews_summary['total_reviews'] = (reviews_df.groupby(['asin'], as_index=False)['overall'].count())['overall']"
   ]
  },
  {
   "cell_type": "code",
   "execution_count": 22,
   "id": "a358502a",
   "metadata": {},
   "outputs": [],
   "source": [
    "reviews_summary = reviews_summary.set_index('asin')"
   ]
  },
  {
   "cell_type": "code",
   "execution_count": 23,
   "id": "aa963cd1",
   "metadata": {},
   "outputs": [],
   "source": [
    "products_basicboolean_reviews_summary = products_basicboolean.join(reviews_summary, on='asin', how='inner')"
   ]
  },
  {
   "cell_type": "code",
   "execution_count": 24,
   "id": "f76b4b55",
   "metadata": {},
   "outputs": [
    {
     "data": {
      "text/html": [
       "<div>\n",
       "<style scoped>\n",
       "    .dataframe tbody tr th:only-of-type {\n",
       "        vertical-align: middle;\n",
       "    }\n",
       "\n",
       "    .dataframe tbody tr th {\n",
       "        vertical-align: top;\n",
       "    }\n",
       "\n",
       "    .dataframe thead th {\n",
       "        text-align: right;\n",
       "    }\n",
       "</style>\n",
       "<table border=\"1\" class=\"dataframe\">\n",
       "  <thead>\n",
       "    <tr style=\"text-align: right;\">\n",
       "      <th></th>\n",
       "      <th>title</th>\n",
       "      <th>brand</th>\n",
       "      <th>rank</th>\n",
       "      <th>asin</th>\n",
       "      <th>price</th>\n",
       "      <th>maincat_Luggage &amp; Travel Gear</th>\n",
       "      <th>maincat_Backpacks</th>\n",
       "      <th>maincat_Novelty &amp; More</th>\n",
       "      <th>maincat_Clothing</th>\n",
       "      <th>maincat_Women</th>\n",
       "      <th>...</th>\n",
       "      <th>subcat_Girls</th>\n",
       "      <th>subcat_Boys</th>\n",
       "      <th>subcat_Shoe, Jewelry &amp; Watch Accessories</th>\n",
       "      <th>subcat_Jewelry Accessories</th>\n",
       "      <th>subcat_Shoe Care &amp; Accessories</th>\n",
       "      <th>subcat_Contemporary &amp; Designer</th>\n",
       "      <th>subcat_Travel Accessories</th>\n",
       "      <th>subcat_Surf, Skate &amp; Street</th>\n",
       "      <th>average_rating</th>\n",
       "      <th>total_reviews</th>\n",
       "    </tr>\n",
       "  </thead>\n",
       "  <tbody>\n",
       "    <tr>\n",
       "      <th>0</th>\n",
       "      <td>Japan Anello Backpack Unisex PINK BEIGE LARGE ...</td>\n",
       "      <td>Anello</td>\n",
       "      <td>3994472</td>\n",
       "      <td>0204444454</td>\n",
       "      <td>70.00</td>\n",
       "      <td>True</td>\n",
       "      <td>True</td>\n",
       "      <td>False</td>\n",
       "      <td>False</td>\n",
       "      <td>False</td>\n",
       "      <td>...</td>\n",
       "      <td>False</td>\n",
       "      <td>False</td>\n",
       "      <td>False</td>\n",
       "      <td>False</td>\n",
       "      <td>False</td>\n",
       "      <td>False</td>\n",
       "      <td>False</td>\n",
       "      <td>False</td>\n",
       "      <td>4.5</td>\n",
       "      <td>2</td>\n",
       "    </tr>\n",
       "    <tr>\n",
       "      <th>1</th>\n",
       "      <td>Japan Anello Backpack Unisex BLACK LARGE PU LE...</td>\n",
       "      <td>Anello</td>\n",
       "      <td>635761</td>\n",
       "      <td>0204444403</td>\n",
       "      <td>65.99</td>\n",
       "      <td>True</td>\n",
       "      <td>True</td>\n",
       "      <td>False</td>\n",
       "      <td>False</td>\n",
       "      <td>False</td>\n",
       "      <td>...</td>\n",
       "      <td>False</td>\n",
       "      <td>False</td>\n",
       "      <td>False</td>\n",
       "      <td>False</td>\n",
       "      <td>False</td>\n",
       "      <td>False</td>\n",
       "      <td>False</td>\n",
       "      <td>False</td>\n",
       "      <td>5.0</td>\n",
       "      <td>2</td>\n",
       "    </tr>\n",
       "    <tr>\n",
       "      <th>5</th>\n",
       "      <td>Bambino Balls Short Sleeve Baseball Outfit</td>\n",
       "      <td>Bambino Balls</td>\n",
       "      <td>1502153</td>\n",
       "      <td>160832222X</td>\n",
       "      <td>21.99</td>\n",
       "      <td>False</td>\n",
       "      <td>False</td>\n",
       "      <td>False</td>\n",
       "      <td>True</td>\n",
       "      <td>False</td>\n",
       "      <td>...</td>\n",
       "      <td>False</td>\n",
       "      <td>False</td>\n",
       "      <td>False</td>\n",
       "      <td>False</td>\n",
       "      <td>False</td>\n",
       "      <td>False</td>\n",
       "      <td>False</td>\n",
       "      <td>False</td>\n",
       "      <td>5.0</td>\n",
       "      <td>3</td>\n",
       "    </tr>\n",
       "    <tr>\n",
       "      <th>6</th>\n",
       "      <td>Bambino Balls Short Sleeve Football Outfit. Sm...</td>\n",
       "      <td>Bambino Balls</td>\n",
       "      <td>2141312</td>\n",
       "      <td>1608322254</td>\n",
       "      <td>18.99</td>\n",
       "      <td>False</td>\n",
       "      <td>False</td>\n",
       "      <td>False</td>\n",
       "      <td>True</td>\n",
       "      <td>False</td>\n",
       "      <td>...</td>\n",
       "      <td>False</td>\n",
       "      <td>False</td>\n",
       "      <td>False</td>\n",
       "      <td>False</td>\n",
       "      <td>False</td>\n",
       "      <td>False</td>\n",
       "      <td>False</td>\n",
       "      <td>False</td>\n",
       "      <td>4.0</td>\n",
       "      <td>3</td>\n",
       "    </tr>\n",
       "    <tr>\n",
       "      <th>7</th>\n",
       "      <td>Bockle® 1991 Tube White Men Leather Pants Trou...</td>\n",
       "      <td>Bockle</td>\n",
       "      <td>3160501</td>\n",
       "      <td>3999852739</td>\n",
       "      <td>169.00</td>\n",
       "      <td>False</td>\n",
       "      <td>False</td>\n",
       "      <td>False</td>\n",
       "      <td>True</td>\n",
       "      <td>False</td>\n",
       "      <td>...</td>\n",
       "      <td>False</td>\n",
       "      <td>False</td>\n",
       "      <td>False</td>\n",
       "      <td>False</td>\n",
       "      <td>False</td>\n",
       "      <td>False</td>\n",
       "      <td>False</td>\n",
       "      <td>False</td>\n",
       "      <td>4.0</td>\n",
       "      <td>1</td>\n",
       "    </tr>\n",
       "  </tbody>\n",
       "</table>\n",
       "<p>5 rows × 61 columns</p>\n",
       "</div>"
      ],
      "text/plain": [
       "                                               title          brand     rank  \\\n",
       "0  Japan Anello Backpack Unisex PINK BEIGE LARGE ...         Anello  3994472   \n",
       "1  Japan Anello Backpack Unisex BLACK LARGE PU LE...         Anello   635761   \n",
       "5         Bambino Balls Short Sleeve Baseball Outfit  Bambino Balls  1502153   \n",
       "6  Bambino Balls Short Sleeve Football Outfit. Sm...  Bambino Balls  2141312   \n",
       "7  Bockle® 1991 Tube White Men Leather Pants Trou...         Bockle  3160501   \n",
       "\n",
       "         asin   price  maincat_Luggage & Travel Gear  maincat_Backpacks  \\\n",
       "0  0204444454   70.00                           True               True   \n",
       "1  0204444403   65.99                           True               True   \n",
       "5  160832222X   21.99                          False              False   \n",
       "6  1608322254   18.99                          False              False   \n",
       "7  3999852739  169.00                          False              False   \n",
       "\n",
       "   maincat_Novelty & More  maincat_Clothing  maincat_Women  ...  subcat_Girls  \\\n",
       "0                   False             False          False  ...         False   \n",
       "1                   False             False          False  ...         False   \n",
       "5                   False              True          False  ...         False   \n",
       "6                   False              True          False  ...         False   \n",
       "7                   False              True          False  ...         False   \n",
       "\n",
       "   subcat_Boys  subcat_Shoe, Jewelry & Watch Accessories  \\\n",
       "0        False                                     False   \n",
       "1        False                                     False   \n",
       "5        False                                     False   \n",
       "6        False                                     False   \n",
       "7        False                                     False   \n",
       "\n",
       "   subcat_Jewelry Accessories  subcat_Shoe Care & Accessories  \\\n",
       "0                       False                           False   \n",
       "1                       False                           False   \n",
       "5                       False                           False   \n",
       "6                       False                           False   \n",
       "7                       False                           False   \n",
       "\n",
       "   subcat_Contemporary & Designer  subcat_Travel Accessories  \\\n",
       "0                           False                      False   \n",
       "1                           False                      False   \n",
       "5                           False                      False   \n",
       "6                           False                      False   \n",
       "7                           False                      False   \n",
       "\n",
       "   subcat_Surf, Skate & Street  average_rating  total_reviews  \n",
       "0                        False             4.5              2  \n",
       "1                        False             5.0              2  \n",
       "5                        False             5.0              3  \n",
       "6                        False             4.0              3  \n",
       "7                        False             4.0              1  \n",
       "\n",
       "[5 rows x 61 columns]"
      ]
     },
     "execution_count": 24,
     "metadata": {},
     "output_type": "execute_result"
    }
   ],
   "source": [
    "products_basicboolean_reviews_summary.head()"
   ]
  },
  {
   "cell_type": "code",
   "execution_count": 25,
   "id": "fb519967",
   "metadata": {},
   "outputs": [],
   "source": [
    "products_basicboolean_reviews_summary.to_csv('Data/products_basicboolean_reviews_summary.csv', index=False)"
   ]
  },
  {
   "attachments": {},
   "cell_type": "markdown",
   "id": "3cf2f667",
   "metadata": {},
   "source": [
    "## Conclusion <a class=\"anchor\" id=\"conc\"></a>\n",
    "\n"
   ]
  }
 ],
 "metadata": {
  "kernelspec": {
   "display_name": "Python 3.8.13 ('capstone')",
   "language": "python",
   "name": "python3"
  },
  "language_info": {
   "codemirror_mode": {
    "name": "ipython",
    "version": 3
   },
   "file_extension": ".py",
   "mimetype": "text/x-python",
   "name": "python",
   "nbconvert_exporter": "python",
   "pygments_lexer": "ipython3",
   "version": "3.8.13"
  },
  "vscode": {
   "interpreter": {
    "hash": "c00c601d3f38ad2e37b277cd0cd275a9a30a80a510aacf75ed2a8e31765d3396"
   }
  }
 },
 "nbformat": 4,
 "nbformat_minor": 5
}
