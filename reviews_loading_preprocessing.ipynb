{
 "cells": [
  {
   "cell_type": "markdown",
   "id": "5a76d96f",
   "metadata": {},
   "source": [
    "# Reviews Data Loading and Preprocessing"
   ]
  },
  {
   "cell_type": "code",
   "execution_count": 2,
   "id": "6d0be6e3",
   "metadata": {},
   "outputs": [],
   "source": [
    "import numpy as np\n",
    "import pandas as pd\n",
    "import matplotlib.pyplot as plt"
   ]
  },
  {
   "cell_type": "code",
   "execution_count": 27,
   "id": "006435cd",
   "metadata": {},
   "outputs": [],
   "source": [
    "plt.rcParams['figure.dpi'] = 300"
   ]
  },
  {
   "cell_type": "code",
   "execution_count": 2,
   "id": "6e0750c7",
   "metadata": {},
   "outputs": [],
   "source": [
    "asins_products = np.loadtxt('Data/asins_products.csv', dtype='object')"
   ]
  },
  {
   "cell_type": "code",
   "execution_count": 3,
   "id": "bd5ae50b",
   "metadata": {},
   "outputs": [
    {
     "data": {
      "text/plain": [
       "680980"
      ]
     },
     "execution_count": 3,
     "metadata": {},
     "output_type": "execute_result"
    }
   ],
   "source": [
    "len(asins_products)"
   ]
  },
  {
   "cell_type": "code",
   "execution_count": 4,
   "id": "7e651933",
   "metadata": {},
   "outputs": [
    {
     "name": "stdout",
     "output_type": "stream",
     "text": [
      "100.6438138319841 and the shape is 62557812\r"
     ]
    }
   ],
   "source": [
    "reviews_df = pd.DataFrame()\n",
    "\n",
    "with open('data/Clothing_Shoes_and_Jewelry.json', 'r') as f:\n",
    "    \n",
    "    reader = pd.read_json(f, orient = 'records', lines = True, chunksize = 500_000, nrows = 32_292_099)\n",
    "    \n",
    "    total = 32_292_099/500_000\n",
    "    counter = 0\n",
    "    \n",
    "    for chunk in reader:\n",
    "        \n",
    "        chunk_dropped = chunk.drop(columns=['image', 'unixReviewTime', 'style', 'reviewerName'])\\\n",
    "                         .sample(frac=0.4, random_state=42)\n",
    "        \n",
    "        chunk_dropped = chunk_dropped.query('asin in @asins_products')\n",
    "                                                                                                   \n",
    "        reviews_df = pd.concat([reviews_df, chunk_dropped], axis = 0)\n",
    "                \n",
    "        counter += 1\n",
    "        print(counter/total*100, 'and the shape is', reviews_df.shape[0], end=\"\\r\")"
   ]
  },
  {
   "cell_type": "code",
   "execution_count": 6,
   "id": "6c450dd2",
   "metadata": {},
   "outputs": [
    {
     "data": {
      "text/html": [
       "<div>\n",
       "<style scoped>\n",
       "    .dataframe tbody tr th:only-of-type {\n",
       "        vertical-align: middle;\n",
       "    }\n",
       "\n",
       "    .dataframe tbody tr th {\n",
       "        vertical-align: top;\n",
       "    }\n",
       "\n",
       "    .dataframe thead th {\n",
       "        text-align: right;\n",
       "    }\n",
       "</style>\n",
       "<table border=\"1\" class=\"dataframe\">\n",
       "  <thead>\n",
       "    <tr style=\"text-align: right;\">\n",
       "      <th></th>\n",
       "      <th>overall</th>\n",
       "      <th>vote</th>\n",
       "      <th>verified</th>\n",
       "      <th>reviewTime</th>\n",
       "      <th>reviewerID</th>\n",
       "      <th>asin</th>\n",
       "      <th>reviewText</th>\n",
       "      <th>summary</th>\n",
       "    </tr>\n",
       "  </thead>\n",
       "  <tbody>\n",
       "    <tr>\n",
       "      <th>104241</th>\n",
       "      <td>3</td>\n",
       "      <td>3</td>\n",
       "      <td>True</td>\n",
       "      <td>06 20, 2016</td>\n",
       "      <td>A3EHNOVMY77W0U</td>\n",
       "      <td>B0001N5WMW</td>\n",
       "      <td>Bought them for a vacation to Costa Rica. Not ...</td>\n",
       "      <td>Lower quality than expected</td>\n",
       "    </tr>\n",
       "    <tr>\n",
       "      <th>199676</th>\n",
       "      <td>1</td>\n",
       "      <td>NaN</td>\n",
       "      <td>False</td>\n",
       "      <td>07 21, 2014</td>\n",
       "      <td>A1RVPZ44BNCOL0</td>\n",
       "      <td>B0002NYUE2</td>\n",
       "      <td>completely wrong size</td>\n",
       "      <td>men size not boys</td>\n",
       "    </tr>\n",
       "    <tr>\n",
       "      <th>132814</th>\n",
       "      <td>5</td>\n",
       "      <td>NaN</td>\n",
       "      <td>True</td>\n",
       "      <td>07 8, 2013</td>\n",
       "      <td>A3NNMXQ7P1HEHP</td>\n",
       "      <td>B00020BFSE</td>\n",
       "      <td>Smells great, works fine with my size 9 work s...</td>\n",
       "      <td>Great, though I wonder how strong the loop is</td>\n",
       "    </tr>\n",
       "    <tr>\n",
       "      <th>408697</th>\n",
       "      <td>5</td>\n",
       "      <td>NaN</td>\n",
       "      <td>True</td>\n",
       "      <td>06 6, 2017</td>\n",
       "      <td>AYJ7HFE42ZZFS</td>\n",
       "      <td>B0009B35DY</td>\n",
       "      <td>Good</td>\n",
       "      <td>Five Stars</td>\n",
       "    </tr>\n",
       "    <tr>\n",
       "      <th>163280</th>\n",
       "      <td>5</td>\n",
       "      <td>NaN</td>\n",
       "      <td>True</td>\n",
       "      <td>12 25, 2012</td>\n",
       "      <td>A1U04XCUUGJMDL</td>\n",
       "      <td>B0002L0P9I</td>\n",
       "      <td>This slipper is perfect.  It is true to size, ...</td>\n",
       "      <td>Warm Feet on Bamboo</td>\n",
       "    </tr>\n",
       "  </tbody>\n",
       "</table>\n",
       "</div>"
      ],
      "text/plain": [
       "        overall vote  verified   reviewTime      reviewerID        asin  \\\n",
       "104241        3    3      True  06 20, 2016  A3EHNOVMY77W0U  B0001N5WMW   \n",
       "199676        1  NaN     False  07 21, 2014  A1RVPZ44BNCOL0  B0002NYUE2   \n",
       "132814        5  NaN      True   07 8, 2013  A3NNMXQ7P1HEHP  B00020BFSE   \n",
       "408697        5  NaN      True   06 6, 2017   AYJ7HFE42ZZFS  B0009B35DY   \n",
       "163280        5  NaN      True  12 25, 2012  A1U04XCUUGJMDL  B0002L0P9I   \n",
       "\n",
       "                                               reviewText  \\\n",
       "104241  Bought them for a vacation to Costa Rica. Not ...   \n",
       "199676                              completely wrong size   \n",
       "132814  Smells great, works fine with my size 9 work s...   \n",
       "408697                                               Good   \n",
       "163280  This slipper is perfect.  It is true to size, ...   \n",
       "\n",
       "                                              summary  \n",
       "104241                    Lower quality than expected  \n",
       "199676                              men size not boys  \n",
       "132814  Great, though I wonder how strong the loop is  \n",
       "408697                                     Five Stars  \n",
       "163280                            Warm Feet on Bamboo  "
      ]
     },
     "execution_count": 6,
     "metadata": {},
     "output_type": "execute_result"
    }
   ],
   "source": [
    "reviews_df.head()"
   ]
  },
  {
   "cell_type": "code",
   "execution_count": 7,
   "id": "dc784ca5",
   "metadata": {},
   "outputs": [
    {
     "name": "stdout",
     "output_type": "stream",
     "text": [
      "<class 'pandas.core.frame.DataFrame'>\n",
      "Int64Index: 6255781 entries, 104241 to 32075573\n",
      "Data columns (total 8 columns):\n",
      " #   Column      Dtype \n",
      "---  ------      ----- \n",
      " 0   overall     int64 \n",
      " 1   vote        object\n",
      " 2   verified    bool  \n",
      " 3   reviewTime  object\n",
      " 4   reviewerID  object\n",
      " 5   asin        object\n",
      " 6   reviewText  object\n",
      " 7   summary     object\n",
      "dtypes: bool(1), int64(1), object(6)\n",
      "memory usage: 387.8+ MB\n"
     ]
    }
   ],
   "source": [
    "reviews_df.info()"
   ]
  },
  {
   "cell_type": "code",
   "execution_count": 10,
   "id": "eb5c5257",
   "metadata": {},
   "outputs": [
    {
     "data": {
      "text/html": [
       "<div>\n",
       "<style scoped>\n",
       "    .dataframe tbody tr th:only-of-type {\n",
       "        vertical-align: middle;\n",
       "    }\n",
       "\n",
       "    .dataframe tbody tr th {\n",
       "        vertical-align: top;\n",
       "    }\n",
       "\n",
       "    .dataframe thead th {\n",
       "        text-align: right;\n",
       "    }\n",
       "</style>\n",
       "<table border=\"1\" class=\"dataframe\">\n",
       "  <thead>\n",
       "    <tr style=\"text-align: right;\">\n",
       "      <th></th>\n",
       "      <th>overall</th>\n",
       "      <th>vote</th>\n",
       "      <th>verified</th>\n",
       "      <th>reviewTime</th>\n",
       "      <th>reviewerID</th>\n",
       "      <th>asin</th>\n",
       "      <th>reviewText</th>\n",
       "      <th>summary</th>\n",
       "    </tr>\n",
       "  </thead>\n",
       "  <tbody>\n",
       "    <tr>\n",
       "      <th>0</th>\n",
       "      <td>3</td>\n",
       "      <td>3.0</td>\n",
       "      <td>True</td>\n",
       "      <td>06 20, 2016</td>\n",
       "      <td>A3EHNOVMY77W0U</td>\n",
       "      <td>B0001N5WMW</td>\n",
       "      <td>Bought them for a vacation to Costa Rica. Not ...</td>\n",
       "      <td>Lower quality than expected</td>\n",
       "    </tr>\n",
       "    <tr>\n",
       "      <th>1</th>\n",
       "      <td>1</td>\n",
       "      <td>NaN</td>\n",
       "      <td>False</td>\n",
       "      <td>07 21, 2014</td>\n",
       "      <td>A1RVPZ44BNCOL0</td>\n",
       "      <td>B0002NYUE2</td>\n",
       "      <td>completely wrong size</td>\n",
       "      <td>men size not boys</td>\n",
       "    </tr>\n",
       "    <tr>\n",
       "      <th>2</th>\n",
       "      <td>5</td>\n",
       "      <td>NaN</td>\n",
       "      <td>True</td>\n",
       "      <td>07 8, 2013</td>\n",
       "      <td>A3NNMXQ7P1HEHP</td>\n",
       "      <td>B00020BFSE</td>\n",
       "      <td>Smells great, works fine with my size 9 work s...</td>\n",
       "      <td>Great, though I wonder how strong the loop is</td>\n",
       "    </tr>\n",
       "    <tr>\n",
       "      <th>3</th>\n",
       "      <td>5</td>\n",
       "      <td>NaN</td>\n",
       "      <td>True</td>\n",
       "      <td>06 6, 2017</td>\n",
       "      <td>AYJ7HFE42ZZFS</td>\n",
       "      <td>B0009B35DY</td>\n",
       "      <td>Good</td>\n",
       "      <td>Five Stars</td>\n",
       "    </tr>\n",
       "    <tr>\n",
       "      <th>4</th>\n",
       "      <td>5</td>\n",
       "      <td>NaN</td>\n",
       "      <td>True</td>\n",
       "      <td>12 25, 2012</td>\n",
       "      <td>A1U04XCUUGJMDL</td>\n",
       "      <td>B0002L0P9I</td>\n",
       "      <td>This slipper is perfect.  It is true to size, ...</td>\n",
       "      <td>Warm Feet on Bamboo</td>\n",
       "    </tr>\n",
       "    <tr>\n",
       "      <th>...</th>\n",
       "      <td>...</td>\n",
       "      <td>...</td>\n",
       "      <td>...</td>\n",
       "      <td>...</td>\n",
       "      <td>...</td>\n",
       "      <td>...</td>\n",
       "      <td>...</td>\n",
       "      <td>...</td>\n",
       "    </tr>\n",
       "    <tr>\n",
       "      <th>6255776</th>\n",
       "      <td>5</td>\n",
       "      <td>NaN</td>\n",
       "      <td>True</td>\n",
       "      <td>06 15, 2018</td>\n",
       "      <td>A13XFA6HDDHXQK</td>\n",
       "      <td>B01HH6WWZ0</td>\n",
       "      <td>Super cute. Fits great!</td>\n",
       "      <td>Five Stars</td>\n",
       "    </tr>\n",
       "    <tr>\n",
       "      <th>6255777</th>\n",
       "      <td>3</td>\n",
       "      <td>NaN</td>\n",
       "      <td>True</td>\n",
       "      <td>03 4, 2018</td>\n",
       "      <td>AXETI2EZT77G0</td>\n",
       "      <td>B01HJCNFDU</td>\n",
       "      <td>these shoes seem like they could be so comfort...</td>\n",
       "      <td>these shoes seem like they could be so comfort...</td>\n",
       "    </tr>\n",
       "    <tr>\n",
       "      <th>6255778</th>\n",
       "      <td>4</td>\n",
       "      <td>NaN</td>\n",
       "      <td>True</td>\n",
       "      <td>04 10, 2017</td>\n",
       "      <td>A13QWLE4LR3N01</td>\n",
       "      <td>B01GD5EPR4</td>\n",
       "      <td>Very nice purse, fits a lot of cards and has a...</td>\n",
       "      <td>Lovely!</td>\n",
       "    </tr>\n",
       "    <tr>\n",
       "      <th>6255779</th>\n",
       "      <td>5</td>\n",
       "      <td>NaN</td>\n",
       "      <td>True</td>\n",
       "      <td>07 18, 2018</td>\n",
       "      <td>A1CEK51A1EZDQ7</td>\n",
       "      <td>B01HHA3X04</td>\n",
       "      <td>I bought these for my girlfriend and she loves...</td>\n",
       "      <td>Comfortable and comes as pictured, but runs la...</td>\n",
       "    </tr>\n",
       "    <tr>\n",
       "      <th>6255780</th>\n",
       "      <td>2</td>\n",
       "      <td>NaN</td>\n",
       "      <td>True</td>\n",
       "      <td>09 8, 2018</td>\n",
       "      <td>ASS7V3MX1SOS4</td>\n",
       "      <td>B01G0K2NS0</td>\n",
       "      <td>to small around arms but around chest was good...</td>\n",
       "      <td>to small around arms but around chest was good...</td>\n",
       "    </tr>\n",
       "  </tbody>\n",
       "</table>\n",
       "<p>6255781 rows × 8 columns</p>\n",
       "</div>"
      ],
      "text/plain": [
       "         overall vote  verified   reviewTime      reviewerID        asin  \\\n",
       "0              3  3.0      True  06 20, 2016  A3EHNOVMY77W0U  B0001N5WMW   \n",
       "1              1  NaN     False  07 21, 2014  A1RVPZ44BNCOL0  B0002NYUE2   \n",
       "2              5  NaN      True   07 8, 2013  A3NNMXQ7P1HEHP  B00020BFSE   \n",
       "3              5  NaN      True   06 6, 2017   AYJ7HFE42ZZFS  B0009B35DY   \n",
       "4              5  NaN      True  12 25, 2012  A1U04XCUUGJMDL  B0002L0P9I   \n",
       "...          ...  ...       ...          ...             ...         ...   \n",
       "6255776        5  NaN      True  06 15, 2018  A13XFA6HDDHXQK  B01HH6WWZ0   \n",
       "6255777        3  NaN      True   03 4, 2018   AXETI2EZT77G0  B01HJCNFDU   \n",
       "6255778        4  NaN      True  04 10, 2017  A13QWLE4LR3N01  B01GD5EPR4   \n",
       "6255779        5  NaN      True  07 18, 2018  A1CEK51A1EZDQ7  B01HHA3X04   \n",
       "6255780        2  NaN      True   09 8, 2018   ASS7V3MX1SOS4  B01G0K2NS0   \n",
       "\n",
       "                                                reviewText  \\\n",
       "0        Bought them for a vacation to Costa Rica. Not ...   \n",
       "1                                    completely wrong size   \n",
       "2        Smells great, works fine with my size 9 work s...   \n",
       "3                                                     Good   \n",
       "4        This slipper is perfect.  It is true to size, ...   \n",
       "...                                                    ...   \n",
       "6255776                            Super cute. Fits great!   \n",
       "6255777  these shoes seem like they could be so comfort...   \n",
       "6255778  Very nice purse, fits a lot of cards and has a...   \n",
       "6255779  I bought these for my girlfriend and she loves...   \n",
       "6255780  to small around arms but around chest was good...   \n",
       "\n",
       "                                                   summary  \n",
       "0                              Lower quality than expected  \n",
       "1                                        men size not boys  \n",
       "2            Great, though I wonder how strong the loop is  \n",
       "3                                               Five Stars  \n",
       "4                                      Warm Feet on Bamboo  \n",
       "...                                                    ...  \n",
       "6255776                                         Five Stars  \n",
       "6255777  these shoes seem like they could be so comfort...  \n",
       "6255778                                            Lovely!  \n",
       "6255779  Comfortable and comes as pictured, but runs la...  \n",
       "6255780  to small around arms but around chest was good...  \n",
       "\n",
       "[6255781 rows x 8 columns]"
      ]
     },
     "execution_count": 10,
     "metadata": {},
     "output_type": "execute_result"
    }
   ],
   "source": [
    "reviews_df"
   ]
  },
  {
   "cell_type": "markdown",
   "id": "8b29ee68",
   "metadata": {},
   "source": [
    "#### `vote`"
   ]
  },
  {
   "cell_type": "code",
   "execution_count": 4,
   "id": "da0c0997",
   "metadata": {},
   "outputs": [],
   "source": [
    "reviews_votes = reviews_df['vote']"
   ]
  },
  {
   "cell_type": "code",
   "execution_count": 5,
   "id": "76180737",
   "metadata": {},
   "outputs": [
    {
     "data": {
      "text/plain": [
       "0          3.0\n",
       "1          NaN\n",
       "2          NaN\n",
       "3          NaN\n",
       "4          NaN\n",
       "          ... \n",
       "6255776    NaN\n",
       "6255777    NaN\n",
       "6255778    NaN\n",
       "6255779    NaN\n",
       "6255780    NaN\n",
       "Name: vote, Length: 6255781, dtype: object"
      ]
     },
     "execution_count": 5,
     "metadata": {},
     "output_type": "execute_result"
    }
   ],
   "source": [
    "reviews_votes"
   ]
  },
  {
   "cell_type": "code",
   "execution_count": 12,
   "id": "a5e1a4da",
   "metadata": {},
   "outputs": [],
   "source": [
    "reviews_votes = reviews_votes.fillna(0)"
   ]
  },
  {
   "cell_type": "code",
   "execution_count": 14,
   "id": "590722d4",
   "metadata": {},
   "outputs": [
    {
     "data": {
      "text/plain": [
       "0          3.0\n",
       "1          0.0\n",
       "2          0.0\n",
       "3          0.0\n",
       "4          0.0\n",
       "          ... \n",
       "6255776    0.0\n",
       "6255777    0.0\n",
       "6255778    0.0\n",
       "6255779    0.0\n",
       "6255780    0.0\n",
       "Name: vote, Length: 6255781, dtype: float64"
      ]
     },
     "execution_count": 14,
     "metadata": {},
     "output_type": "execute_result"
    }
   ],
   "source": [
    "reviews_votes"
   ]
  },
  {
   "cell_type": "code",
   "execution_count": 15,
   "id": "f98c19b3",
   "metadata": {},
   "outputs": [],
   "source": [
    "reviews_votes = pd.to_numeric(reviews_votes, errors='coerce')"
   ]
  },
  {
   "cell_type": "code",
   "execution_count": 21,
   "id": "0f1513f1",
   "metadata": {},
   "outputs": [
    {
     "data": {
      "text/plain": [
       "0"
      ]
     },
     "execution_count": 21,
     "metadata": {},
     "output_type": "execute_result"
    }
   ],
   "source": [
    "reviews_votes.isna().sum()"
   ]
  },
  {
   "cell_type": "code",
   "execution_count": 22,
   "id": "b8303eea",
   "metadata": {},
   "outputs": [],
   "source": [
    "reviews_votes = reviews_votes.astype(int)"
   ]
  },
  {
   "cell_type": "code",
   "execution_count": 26,
   "id": "c8693b7a",
   "metadata": {},
   "outputs": [
    {
     "data": {
      "text/plain": [
       "0          3\n",
       "1          0\n",
       "2          0\n",
       "3          0\n",
       "4          0\n",
       "          ..\n",
       "6255776    0\n",
       "6255777    0\n",
       "6255778    0\n",
       "6255779    0\n",
       "6255780    0\n",
       "Name: vote, Length: 6255781, dtype: int32"
      ]
     },
     "execution_count": 26,
     "metadata": {},
     "output_type": "execute_result"
    }
   ],
   "source": [
    "reviews_votes"
   ]
  },
  {
   "cell_type": "code",
   "execution_count": 25,
   "metadata": {},
   "outputs": [
    {
     "data": {
      "text/plain": [
       "0          3\n",
       "26         5\n",
       "68         3\n",
       "80         3\n",
       "96         2\n",
       "          ..\n",
       "6255645    4\n",
       "6255675    3\n",
       "6255702    2\n",
       "6255753    5\n",
       "6255767    2\n",
       "Name: vote, Length: 518128, dtype: int32"
      ]
     },
     "execution_count": 25,
     "metadata": {},
     "output_type": "execute_result"
    }
   ],
   "source": [
    "reviews_votes[reviews_votes != 0]"
   ]
  },
  {
   "cell_type": "code",
   "execution_count": 27,
   "id": "b9fcf656",
   "metadata": {},
   "outputs": [],
   "source": [
    "reviews_df['vote'] = reviews_votes"
   ]
  },
  {
   "cell_type": "code",
   "execution_count": 28,
   "id": "44706e53",
   "metadata": {},
   "outputs": [
    {
     "data": {
      "text/html": [
       "<div>\n",
       "<style scoped>\n",
       "    .dataframe tbody tr th:only-of-type {\n",
       "        vertical-align: middle;\n",
       "    }\n",
       "\n",
       "    .dataframe tbody tr th {\n",
       "        vertical-align: top;\n",
       "    }\n",
       "\n",
       "    .dataframe thead th {\n",
       "        text-align: right;\n",
       "    }\n",
       "</style>\n",
       "<table border=\"1\" class=\"dataframe\">\n",
       "  <thead>\n",
       "    <tr style=\"text-align: right;\">\n",
       "      <th></th>\n",
       "      <th>overall</th>\n",
       "      <th>vote</th>\n",
       "      <th>verified</th>\n",
       "      <th>reviewTime</th>\n",
       "      <th>reviewerID</th>\n",
       "      <th>asin</th>\n",
       "      <th>reviewText</th>\n",
       "      <th>summary</th>\n",
       "    </tr>\n",
       "  </thead>\n",
       "  <tbody>\n",
       "    <tr>\n",
       "      <th>0</th>\n",
       "      <td>3</td>\n",
       "      <td>3</td>\n",
       "      <td>True</td>\n",
       "      <td>06 20, 2016</td>\n",
       "      <td>A3EHNOVMY77W0U</td>\n",
       "      <td>B0001N5WMW</td>\n",
       "      <td>Bought them for a vacation to Costa Rica. Not ...</td>\n",
       "      <td>Lower quality than expected</td>\n",
       "    </tr>\n",
       "    <tr>\n",
       "      <th>1</th>\n",
       "      <td>1</td>\n",
       "      <td>0</td>\n",
       "      <td>False</td>\n",
       "      <td>07 21, 2014</td>\n",
       "      <td>A1RVPZ44BNCOL0</td>\n",
       "      <td>B0002NYUE2</td>\n",
       "      <td>completely wrong size</td>\n",
       "      <td>men size not boys</td>\n",
       "    </tr>\n",
       "    <tr>\n",
       "      <th>2</th>\n",
       "      <td>5</td>\n",
       "      <td>0</td>\n",
       "      <td>True</td>\n",
       "      <td>07 8, 2013</td>\n",
       "      <td>A3NNMXQ7P1HEHP</td>\n",
       "      <td>B00020BFSE</td>\n",
       "      <td>Smells great, works fine with my size 9 work s...</td>\n",
       "      <td>Great, though I wonder how strong the loop is</td>\n",
       "    </tr>\n",
       "    <tr>\n",
       "      <th>3</th>\n",
       "      <td>5</td>\n",
       "      <td>0</td>\n",
       "      <td>True</td>\n",
       "      <td>06 6, 2017</td>\n",
       "      <td>AYJ7HFE42ZZFS</td>\n",
       "      <td>B0009B35DY</td>\n",
       "      <td>Good</td>\n",
       "      <td>Five Stars</td>\n",
       "    </tr>\n",
       "    <tr>\n",
       "      <th>4</th>\n",
       "      <td>5</td>\n",
       "      <td>0</td>\n",
       "      <td>True</td>\n",
       "      <td>12 25, 2012</td>\n",
       "      <td>A1U04XCUUGJMDL</td>\n",
       "      <td>B0002L0P9I</td>\n",
       "      <td>This slipper is perfect.  It is true to size, ...</td>\n",
       "      <td>Warm Feet on Bamboo</td>\n",
       "    </tr>\n",
       "    <tr>\n",
       "      <th>...</th>\n",
       "      <td>...</td>\n",
       "      <td>...</td>\n",
       "      <td>...</td>\n",
       "      <td>...</td>\n",
       "      <td>...</td>\n",
       "      <td>...</td>\n",
       "      <td>...</td>\n",
       "      <td>...</td>\n",
       "    </tr>\n",
       "    <tr>\n",
       "      <th>6255776</th>\n",
       "      <td>5</td>\n",
       "      <td>0</td>\n",
       "      <td>True</td>\n",
       "      <td>06 15, 2018</td>\n",
       "      <td>A13XFA6HDDHXQK</td>\n",
       "      <td>B01HH6WWZ0</td>\n",
       "      <td>Super cute. Fits great!</td>\n",
       "      <td>Five Stars</td>\n",
       "    </tr>\n",
       "    <tr>\n",
       "      <th>6255777</th>\n",
       "      <td>3</td>\n",
       "      <td>0</td>\n",
       "      <td>True</td>\n",
       "      <td>03 4, 2018</td>\n",
       "      <td>AXETI2EZT77G0</td>\n",
       "      <td>B01HJCNFDU</td>\n",
       "      <td>these shoes seem like they could be so comfort...</td>\n",
       "      <td>these shoes seem like they could be so comfort...</td>\n",
       "    </tr>\n",
       "    <tr>\n",
       "      <th>6255778</th>\n",
       "      <td>4</td>\n",
       "      <td>0</td>\n",
       "      <td>True</td>\n",
       "      <td>04 10, 2017</td>\n",
       "      <td>A13QWLE4LR3N01</td>\n",
       "      <td>B01GD5EPR4</td>\n",
       "      <td>Very nice purse, fits a lot of cards and has a...</td>\n",
       "      <td>Lovely!</td>\n",
       "    </tr>\n",
       "    <tr>\n",
       "      <th>6255779</th>\n",
       "      <td>5</td>\n",
       "      <td>0</td>\n",
       "      <td>True</td>\n",
       "      <td>07 18, 2018</td>\n",
       "      <td>A1CEK51A1EZDQ7</td>\n",
       "      <td>B01HHA3X04</td>\n",
       "      <td>I bought these for my girlfriend and she loves...</td>\n",
       "      <td>Comfortable and comes as pictured, but runs la...</td>\n",
       "    </tr>\n",
       "    <tr>\n",
       "      <th>6255780</th>\n",
       "      <td>2</td>\n",
       "      <td>0</td>\n",
       "      <td>True</td>\n",
       "      <td>09 8, 2018</td>\n",
       "      <td>ASS7V3MX1SOS4</td>\n",
       "      <td>B01G0K2NS0</td>\n",
       "      <td>to small around arms but around chest was good...</td>\n",
       "      <td>to small around arms but around chest was good...</td>\n",
       "    </tr>\n",
       "  </tbody>\n",
       "</table>\n",
       "<p>6255781 rows × 8 columns</p>\n",
       "</div>"
      ],
      "text/plain": [
       "         overall  vote  verified   reviewTime      reviewerID        asin  \\\n",
       "0              3     3      True  06 20, 2016  A3EHNOVMY77W0U  B0001N5WMW   \n",
       "1              1     0     False  07 21, 2014  A1RVPZ44BNCOL0  B0002NYUE2   \n",
       "2              5     0      True   07 8, 2013  A3NNMXQ7P1HEHP  B00020BFSE   \n",
       "3              5     0      True   06 6, 2017   AYJ7HFE42ZZFS  B0009B35DY   \n",
       "4              5     0      True  12 25, 2012  A1U04XCUUGJMDL  B0002L0P9I   \n",
       "...          ...   ...       ...          ...             ...         ...   \n",
       "6255776        5     0      True  06 15, 2018  A13XFA6HDDHXQK  B01HH6WWZ0   \n",
       "6255777        3     0      True   03 4, 2018   AXETI2EZT77G0  B01HJCNFDU   \n",
       "6255778        4     0      True  04 10, 2017  A13QWLE4LR3N01  B01GD5EPR4   \n",
       "6255779        5     0      True  07 18, 2018  A1CEK51A1EZDQ7  B01HHA3X04   \n",
       "6255780        2     0      True   09 8, 2018   ASS7V3MX1SOS4  B01G0K2NS0   \n",
       "\n",
       "                                                reviewText  \\\n",
       "0        Bought them for a vacation to Costa Rica. Not ...   \n",
       "1                                    completely wrong size   \n",
       "2        Smells great, works fine with my size 9 work s...   \n",
       "3                                                     Good   \n",
       "4        This slipper is perfect.  It is true to size, ...   \n",
       "...                                                    ...   \n",
       "6255776                            Super cute. Fits great!   \n",
       "6255777  these shoes seem like they could be so comfort...   \n",
       "6255778  Very nice purse, fits a lot of cards and has a...   \n",
       "6255779  I bought these for my girlfriend and she loves...   \n",
       "6255780  to small around arms but around chest was good...   \n",
       "\n",
       "                                                   summary  \n",
       "0                              Lower quality than expected  \n",
       "1                                        men size not boys  \n",
       "2            Great, though I wonder how strong the loop is  \n",
       "3                                               Five Stars  \n",
       "4                                      Warm Feet on Bamboo  \n",
       "...                                                    ...  \n",
       "6255776                                         Five Stars  \n",
       "6255777  these shoes seem like they could be so comfort...  \n",
       "6255778                                            Lovely!  \n",
       "6255779  Comfortable and comes as pictured, but runs la...  \n",
       "6255780  to small around arms but around chest was good...  \n",
       "\n",
       "[6255781 rows x 8 columns]"
      ]
     },
     "execution_count": 28,
     "metadata": {},
     "output_type": "execute_result"
    }
   ],
   "source": [
    "reviews_df"
   ]
  },
  {
   "cell_type": "markdown",
   "id": "cce62513",
   "metadata": {},
   "source": [
    "## `verified`"
   ]
  },
  {
   "cell_type": "code",
   "execution_count": 31,
   "id": "247bc9cf",
   "metadata": {},
   "outputs": [
    {
     "data": {
      "text/plain": [
       "326469"
      ]
     },
     "execution_count": 31,
     "metadata": {},
     "output_type": "execute_result"
    }
   ],
   "source": [
    "reviews_df['verified'].count() - reviews_df['verified'].sum()"
   ]
  },
  {
   "cell_type": "code",
   "execution_count": 32,
   "id": "59d1ca19",
   "metadata": {},
   "outputs": [
    {
     "data": {
      "text/plain": [
       "5929312"
      ]
     },
     "execution_count": 32,
     "metadata": {},
     "output_type": "execute_result"
    }
   ],
   "source": [
    "reviews_df['verified'].sum()"
   ]
  },
  {
   "cell_type": "markdown",
   "id": "e3dd108b",
   "metadata": {},
   "source": [
    "Lets drop the unverified reviews."
   ]
  },
  {
   "cell_type": "code",
   "execution_count": null,
   "id": "c32eb090",
   "metadata": {},
   "outputs": [],
   "source": []
  },
  {
   "cell_type": "code",
   "execution_count": 30,
   "id": "9303f493",
   "metadata": {},
   "outputs": [
    {
     "name": "stdout",
     "output_type": "stream",
     "text": [
      "<class 'pandas.core.frame.DataFrame'>\n",
      "RangeIndex: 6255781 entries, 0 to 6255780\n",
      "Data columns (total 8 columns):\n",
      " #   Column      Dtype \n",
      "---  ------      ----- \n",
      " 0   overall     int64 \n",
      " 1   vote        int32 \n",
      " 2   verified    bool  \n",
      " 3   reviewTime  object\n",
      " 4   reviewerID  object\n",
      " 5   asin        object\n",
      " 6   reviewText  object\n",
      " 7   summary     object\n",
      "dtypes: bool(1), int32(1), int64(1), object(5)\n",
      "memory usage: 316.2+ MB\n"
     ]
    }
   ],
   "source": [
    "reviews_df.info()"
   ]
  },
  {
   "cell_type": "markdown",
   "id": "21395214",
   "metadata": {},
   "source": [
    "## `reviewTime`"
   ]
  },
  {
   "cell_type": "code",
   "execution_count": null,
   "id": "afa1cfae",
   "metadata": {},
   "outputs": [],
   "source": []
  },
  {
   "cell_type": "code",
   "execution_count": null,
   "id": "f7a5300e",
   "metadata": {},
   "outputs": [],
   "source": []
  },
  {
   "cell_type": "code",
   "execution_count": null,
   "id": "4101b35b",
   "metadata": {},
   "outputs": [],
   "source": []
  },
  {
   "cell_type": "code",
   "execution_count": 8,
   "id": "92d8554c",
   "metadata": {},
   "outputs": [],
   "source": [
    "reviews_df.to_csv('Data/reviews_sampled40.csv', index=False)"
   ]
  },
  {
   "cell_type": "code",
   "execution_count": 3,
   "id": "26b18c34",
   "metadata": {},
   "outputs": [
    {
     "name": "stderr",
     "output_type": "stream",
     "text": [
      "<ipython-input-3-8a311f30a0ef>:1: DtypeWarning: Columns (1) have mixed types. Specify dtype option on import or set low_memory=False.\n",
      "  reviews_df = pd.read_csv('Data/reviews_sampled40.csv')\n"
     ]
    }
   ],
   "source": [
    "reviews_df = pd.read_csv('Data/reviews_sampled40.csv')"
   ]
  },
  {
   "cell_type": "code",
   "execution_count": 9,
   "id": "0bfc678d",
   "metadata": {},
   "outputs": [
    {
     "data": {
      "text/html": [
       "<div>\n",
       "<style scoped>\n",
       "    .dataframe tbody tr th:only-of-type {\n",
       "        vertical-align: middle;\n",
       "    }\n",
       "\n",
       "    .dataframe tbody tr th {\n",
       "        vertical-align: top;\n",
       "    }\n",
       "\n",
       "    .dataframe thead th {\n",
       "        text-align: right;\n",
       "    }\n",
       "</style>\n",
       "<table border=\"1\" class=\"dataframe\">\n",
       "  <thead>\n",
       "    <tr style=\"text-align: right;\">\n",
       "      <th></th>\n",
       "      <th>overall</th>\n",
       "      <th>vote</th>\n",
       "      <th>verified</th>\n",
       "      <th>reviewTime</th>\n",
       "      <th>reviewerID</th>\n",
       "      <th>asin</th>\n",
       "      <th>reviewText</th>\n",
       "      <th>summary</th>\n",
       "    </tr>\n",
       "  </thead>\n",
       "  <tbody>\n",
       "    <tr>\n",
       "      <th>2</th>\n",
       "      <td>5</td>\n",
       "      <td>NaN</td>\n",
       "      <td>True</td>\n",
       "      <td>07 8, 2013</td>\n",
       "      <td>A3NNMXQ7P1HEHP</td>\n",
       "      <td>B00020BFSE</td>\n",
       "      <td>Smells great, works fine with my size 9 work s...</td>\n",
       "      <td>Great, though I wonder how strong the loop is</td>\n",
       "    </tr>\n",
       "    <tr>\n",
       "      <th>458</th>\n",
       "      <td>5</td>\n",
       "      <td>NaN</td>\n",
       "      <td>True</td>\n",
       "      <td>05 31, 2015</td>\n",
       "      <td>APAFRG5M0L0TU</td>\n",
       "      <td>B00020BFSE</td>\n",
       "      <td>The trees fill the shoes very well, and hold t...</td>\n",
       "      <td>and hold the shape excellent.</td>\n",
       "    </tr>\n",
       "    <tr>\n",
       "      <th>515</th>\n",
       "      <td>5</td>\n",
       "      <td>NaN</td>\n",
       "      <td>True</td>\n",
       "      <td>01 11, 2015</td>\n",
       "      <td>A1NRLAT0L31ES3</td>\n",
       "      <td>B00020BFSE</td>\n",
       "      <td>Smells incredible. Immediately after opening t...</td>\n",
       "      <td>For the love of cedar.</td>\n",
       "    </tr>\n",
       "    <tr>\n",
       "      <th>544</th>\n",
       "      <td>5</td>\n",
       "      <td>NaN</td>\n",
       "      <td>True</td>\n",
       "      <td>09 3, 2015</td>\n",
       "      <td>A3OI8W0G652Y5W</td>\n",
       "      <td>B00020BFSE</td>\n",
       "      <td>Good shoe trees.</td>\n",
       "      <td>Five Stars</td>\n",
       "    </tr>\n",
       "    <tr>\n",
       "      <th>631</th>\n",
       "      <td>5</td>\n",
       "      <td>NaN</td>\n",
       "      <td>True</td>\n",
       "      <td>12 27, 2013</td>\n",
       "      <td>A2K0SQBAKKFIP5</td>\n",
       "      <td>B00020BFSE</td>\n",
       "      <td>Sturdy, works great and smells good! Not much ...</td>\n",
       "      <td>Works Great!</td>\n",
       "    </tr>\n",
       "    <tr>\n",
       "      <th>...</th>\n",
       "      <td>...</td>\n",
       "      <td>...</td>\n",
       "      <td>...</td>\n",
       "      <td>...</td>\n",
       "      <td>...</td>\n",
       "      <td>...</td>\n",
       "      <td>...</td>\n",
       "      <td>...</td>\n",
       "    </tr>\n",
       "    <tr>\n",
       "      <th>39242</th>\n",
       "      <td>5</td>\n",
       "      <td>NaN</td>\n",
       "      <td>True</td>\n",
       "      <td>01 20, 2013</td>\n",
       "      <td>AKNWUASLZ109N</td>\n",
       "      <td>B00020BFSE</td>\n",
       "      <td>I was buying a pair of Atlanta Lace-Ups from E...</td>\n",
       "      <td>A Simple, Uncomplicated Shoe Tree Made of Qual...</td>\n",
       "    </tr>\n",
       "    <tr>\n",
       "      <th>39657</th>\n",
       "      <td>5</td>\n",
       "      <td>NaN</td>\n",
       "      <td>True</td>\n",
       "      <td>03 25, 2015</td>\n",
       "      <td>ATWZWW292Y0AS</td>\n",
       "      <td>B00020BFSE</td>\n",
       "      <td>Great quality!</td>\n",
       "      <td>Five Stars</td>\n",
       "    </tr>\n",
       "    <tr>\n",
       "      <th>39876</th>\n",
       "      <td>5</td>\n",
       "      <td>NaN</td>\n",
       "      <td>True</td>\n",
       "      <td>03 31, 2014</td>\n",
       "      <td>A1CUYE8PKZE3GL</td>\n",
       "      <td>B00020BFSE</td>\n",
       "      <td>Bought these to fit a new pair of nice leather...</td>\n",
       "      <td>Well made, easy to use, great value.</td>\n",
       "    </tr>\n",
       "    <tr>\n",
       "      <th>39885</th>\n",
       "      <td>4</td>\n",
       "      <td>NaN</td>\n",
       "      <td>True</td>\n",
       "      <td>08 10, 2015</td>\n",
       "      <td>A2CHABJI60DXOS</td>\n",
       "      <td>B00020BFSE</td>\n",
       "      <td>Good value for cedar shoe tree</td>\n",
       "      <td>Four Stars</td>\n",
       "    </tr>\n",
       "    <tr>\n",
       "      <th>40130</th>\n",
       "      <td>5</td>\n",
       "      <td>NaN</td>\n",
       "      <td>True</td>\n",
       "      <td>02 24, 2018</td>\n",
       "      <td>ADCUMK2YN361Q</td>\n",
       "      <td>B00020BFSE</td>\n",
       "      <td>Excellent well made product</td>\n",
       "      <td>Recommend for over 13 size shoes</td>\n",
       "    </tr>\n",
       "  </tbody>\n",
       "</table>\n",
       "<p>174 rows × 8 columns</p>\n",
       "</div>"
      ],
      "text/plain": [
       "       overall vote  verified   reviewTime      reviewerID        asin  \\\n",
       "2            5  NaN      True   07 8, 2013  A3NNMXQ7P1HEHP  B00020BFSE   \n",
       "458          5  NaN      True  05 31, 2015   APAFRG5M0L0TU  B00020BFSE   \n",
       "515          5  NaN      True  01 11, 2015  A1NRLAT0L31ES3  B00020BFSE   \n",
       "544          5  NaN      True   09 3, 2015  A3OI8W0G652Y5W  B00020BFSE   \n",
       "631          5  NaN      True  12 27, 2013  A2K0SQBAKKFIP5  B00020BFSE   \n",
       "...        ...  ...       ...          ...             ...         ...   \n",
       "39242        5  NaN      True  01 20, 2013   AKNWUASLZ109N  B00020BFSE   \n",
       "39657        5  NaN      True  03 25, 2015   ATWZWW292Y0AS  B00020BFSE   \n",
       "39876        5  NaN      True  03 31, 2014  A1CUYE8PKZE3GL  B00020BFSE   \n",
       "39885        4  NaN      True  08 10, 2015  A2CHABJI60DXOS  B00020BFSE   \n",
       "40130        5  NaN      True  02 24, 2018   ADCUMK2YN361Q  B00020BFSE   \n",
       "\n",
       "                                              reviewText  \\\n",
       "2      Smells great, works fine with my size 9 work s...   \n",
       "458    The trees fill the shoes very well, and hold t...   \n",
       "515    Smells incredible. Immediately after opening t...   \n",
       "544                                     Good shoe trees.   \n",
       "631    Sturdy, works great and smells good! Not much ...   \n",
       "...                                                  ...   \n",
       "39242  I was buying a pair of Atlanta Lace-Ups from E...   \n",
       "39657                                     Great quality!   \n",
       "39876  Bought these to fit a new pair of nice leather...   \n",
       "39885                     Good value for cedar shoe tree   \n",
       "40130                        Excellent well made product   \n",
       "\n",
       "                                                 summary  \n",
       "2          Great, though I wonder how strong the loop is  \n",
       "458                        and hold the shape excellent.  \n",
       "515                               For the love of cedar.  \n",
       "544                                           Five Stars  \n",
       "631                                         Works Great!  \n",
       "...                                                  ...  \n",
       "39242  A Simple, Uncomplicated Shoe Tree Made of Qual...  \n",
       "39657                                         Five Stars  \n",
       "39876               Well made, easy to use, great value.  \n",
       "39885                                         Four Stars  \n",
       "40130                   Recommend for over 13 size shoes  \n",
       "\n",
       "[174 rows x 8 columns]"
      ]
     },
     "execution_count": 9,
     "metadata": {},
     "output_type": "execute_result"
    }
   ],
   "source": [
    "reviews_df[reviews_df['asin'] == 'B00020BFSE']"
   ]
  },
  {
   "cell_type": "code",
   "execution_count": null,
   "id": "0212218d",
   "metadata": {},
   "outputs": [],
   "source": []
  },
  {
   "cell_type": "code",
   "execution_count": 10,
   "id": "ad929580",
   "metadata": {},
   "outputs": [
    {
     "data": {
      "text/plain": [
       "overall        0.000000\n",
       "vote          91.573372\n",
       "verified       0.000000\n",
       "reviewTime     0.000000\n",
       "reviewerID     0.000000\n",
       "asin           0.000000\n",
       "reviewText     0.132773\n",
       "summary        0.049452\n",
       "dtype: float64"
      ]
     },
     "execution_count": 10,
     "metadata": {},
     "output_type": "execute_result"
    }
   ],
   "source": [
    "reviews_df.isna().sum() / reviews_df.isna().count() * 100"
   ]
  },
  {
   "cell_type": "code",
   "execution_count": 11,
   "id": "131102ac",
   "metadata": {},
   "outputs": [
    {
     "name": "stdout",
     "output_type": "stream",
     "text": [
      "<class 'pandas.core.frame.DataFrame'>\n",
      "RangeIndex: 1925088 entries, 0 to 1925087\n",
      "Data columns (total 8 columns):\n",
      " #   Column      Dtype \n",
      "---  ------      ----- \n",
      " 0   overall     int64 \n",
      " 1   vote        object\n",
      " 2   verified    bool  \n",
      " 3   reviewTime  object\n",
      " 4   reviewerID  object\n",
      " 5   asin        object\n",
      " 6   reviewText  object\n",
      " 7   summary     object\n",
      "dtypes: bool(1), int64(1), object(6)\n",
      "memory usage: 104.6+ MB\n"
     ]
    }
   ],
   "source": [
    "reviews_df.info()"
   ]
  },
  {
   "cell_type": "code",
   "execution_count": null,
   "id": "169b9e01",
   "metadata": {},
   "outputs": [],
   "source": []
  },
  {
   "cell_type": "code",
   "execution_count": null,
   "id": "cd402675",
   "metadata": {},
   "outputs": [],
   "source": []
  },
  {
   "cell_type": "markdown",
   "id": "7dfcd483",
   "metadata": {},
   "source": [
    "## Data Visualizations"
   ]
  },
  {
   "cell_type": "markdown",
   "id": "11025b2e",
   "metadata": {},
   "source": [
    "#### `overall`"
   ]
  },
  {
   "cell_type": "code",
   "execution_count": 17,
   "id": "2c4147db",
   "metadata": {},
   "outputs": [
    {
     "data": {
      "text/plain": [
       "array([3, 1, 5, 4, 2], dtype=int64)"
      ]
     },
     "execution_count": 17,
     "metadata": {},
     "output_type": "execute_result"
    }
   ],
   "source": [
    "reviews_df['overall'].unique()"
   ]
  },
  {
   "cell_type": "code",
   "execution_count": 28,
   "id": "2044baf7",
   "metadata": {},
   "outputs": [
    {
     "data": {
      "image/png": "[encoded data removed]",
      "text/plain": [
       "<Figure size 1920x1440 with 1 Axes>"
      ]
     },
     "metadata": {},
     "output_type": "display_data"
    }
   ],
   "source": [
    "reviews_df['overall'].value_counts(normalize=True).sort_index().plot(kind='bar', rot=0, title='Distribution of Ratings', \\\n",
    "                                                                     color = 'darkred')\n",
    "plt.xlabel('Ratings')\n",
    "plt.ylabel('Percentage of Reviews')\n",
    "plt.show()"
   ]
  },
  {
   "cell_type": "markdown",
   "id": "4baf8d8a",
   "metadata": {},
   "source": [
    "### Basic Numbers "
   ]
  },
  {
   "cell_type": "code",
   "execution_count": 86,
   "id": "8578373a",
   "metadata": {},
   "outputs": [
    {
     "name": "stdout",
     "output_type": "stream",
     "text": [
      "There are 1925088 reviews\n",
      "There are 313645 products being reviewed\n",
      "There are 1613845 unique reviewers\n"
     ]
    }
   ],
   "source": [
    "unique_asin = reviews_df['asin'].nunique()\n",
    "unique_reviewers = reviews_df['reviewerID'].nunique()\n",
    "\n",
    "print(f'There are {reviews_df.shape[0]} reviews')\n",
    "\n",
    "print(f'There are {unique_asin} products being reviewed')\n",
    "\n",
    "print(f'There are {unique_reviewers} unique reviewers')"
   ]
  },
  {
   "cell_type": "code",
   "execution_count": null,
   "id": "dec2e0a5",
   "metadata": {},
   "outputs": [],
   "source": []
  },
  {
   "cell_type": "code",
   "execution_count": 35,
   "id": "f529e428",
   "metadata": {},
   "outputs": [],
   "source": [
    "no_reviews_per_reviewer = reviews_df.groupby(by='reviewerID')['overall'].count().sort_values(ascending=False)"
   ]
  },
  {
   "cell_type": "code",
   "execution_count": 31,
   "id": "fb302524",
   "metadata": {},
   "outputs": [
    {
     "data": {
      "text/plain": [
       "reviewerID\n",
       "ALFRMOGTO1K4M     47\n",
       "AVU1ILDDYW301     39\n",
       "A2503LT8PZIHAD    31\n",
       "A3W5A9X3HHACQT    30\n",
       "A2RYWPOL4NN2KG    30\n",
       "                  ..\n",
       "A2CMIKZT0XTU5I     1\n",
       "A2CMIFAQDEAI9S     1\n",
       "A2CMIDSTMH02FR     1\n",
       "A2CMIBQ95AVP3T     1\n",
       "AZZZZJYGA32        1\n",
       "Name: overall, Length: 1613845, dtype: int64"
      ]
     },
     "execution_count": 31,
     "metadata": {},
     "output_type": "execute_result"
    }
   ],
   "source": [
    "no_reviews_per_reviewer"
   ]
  },
  {
   "cell_type": "code",
   "execution_count": 36,
   "id": "e7ed5990",
   "metadata": {},
   "outputs": [
    {
     "data": {
      "text/plain": [
       "count    4.124367e+06\n",
       "mean     1.516786e+00\n",
       "std      1.319759e+00\n",
       "min      1.000000e+00\n",
       "25%      1.000000e+00\n",
       "50%      1.000000e+00\n",
       "75%      2.000000e+00\n",
       "max      1.120000e+02\n",
       "Name: overall, dtype: float64"
      ]
     },
     "execution_count": 36,
     "metadata": {},
     "output_type": "execute_result"
    }
   ],
   "source": [
    "no_reviews_per_reviewer.describe()"
   ]
  },
  {
   "cell_type": "markdown",
   "id": "150c837e",
   "metadata": {},
   "source": [
    "Majority of reviewers leave one review."
   ]
  },
  {
   "cell_type": "code",
   "execution_count": 37,
   "id": "be53c836",
   "metadata": {},
   "outputs": [],
   "source": [
    "quantiles = no_reviews_per_reviewer.quantile(np.arange(0,1.01,0.01))"
   ]
  },
  {
   "cell_type": "code",
   "execution_count": 38,
   "id": "57575562",
   "metadata": {},
   "outputs": [
    {
     "data": {
      "image/png": "[encoded data removed]",
      "text/plain": [
       "<Figure size 640x480 with 1 Axes>"
      ]
     },
     "metadata": {},
     "output_type": "display_data"
    }
   ],
   "source": [
    "plt.scatter(x=quantiles.index[::5], y=quantiles.values[::5], c='firebrick')\n",
    "plt.plot(quantiles, 'orange')\n",
    "\n",
    "plt.title('Number of Reviews per Reviewer per Quantile')\n",
    "plt.xlabel('Quantile')\n",
    "plt.ylabel('Number of Reviews per Reviewer')\n",
    "\n",
    "plt.yticks(np.arange(0, max(quantiles)+3, 3))\n",
    "\n",
    "plt.show()"
   ]
  },
  {
   "cell_type": "code",
   "execution_count": null,
   "id": "73239051",
   "metadata": {},
   "outputs": [],
   "source": []
  },
  {
   "cell_type": "code",
   "execution_count": null,
   "id": "b606c58d",
   "metadata": {},
   "outputs": [],
   "source": []
  }
 ],
 "metadata": {
  "kernelspec": {
   "display_name": "capstone",
   "language": "python",
   "name": "capstone"
  },
  "language_info": {
   "codemirror_mode": {
    "name": "ipython",
    "version": 3
   },
   "file_extension": ".py",
   "mimetype": "text/x-python",
   "name": "python",
   "nbconvert_exporter": "python",
   "pygments_lexer": "ipython3",
   "version": "3.8.5"
  },
  "vscode": {
   "interpreter": {
    "hash": "c00c601d3f38ad2e37b277cd0cd275a9a30a80a510aacf75ed2a8e31765d3396"
   }
  }
 },
 "nbformat": 4,
 "nbformat_minor": 5
}
