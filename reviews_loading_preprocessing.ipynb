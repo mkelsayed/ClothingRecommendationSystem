{
 "cells": [
  {
   "attachments": {},
   "cell_type": "markdown",
   "id": "ab422e01",
   "metadata": {},
   "source": [
    "# Recommendation System for Amazon Clothing Products\n",
    "---\n",
    "## 2. Reviews Data Loading and Preprocessing\n",
    "\n",
    "*Author*: Mariam Elsayed\n",
    "\n",
    "*Contact*: mariamkelsayed@gmail.com\n",
    "\n",
    "*Notebook*: 2 of 5\n",
    "\n",
    "*Previous Notebook*: `products_loading_preprocessing.ipynb`\n",
    "\n",
    "*Next Notebook*: `popularity_rec.ipynb`"
   ]
  },
  {
   "cell_type": "code",
   "execution_count": 1,
   "id": "6d0be6e3",
   "metadata": {},
   "outputs": [],
   "source": [
    "import numpy as np\n",
    "import pandas as pd\n",
    "import matplotlib.pyplot as plt\n",
    "import seaborn as sns"
   ]
  },
  {
   "cell_type": "code",
   "execution_count": 2,
   "id": "006435cd",
   "metadata": {},
   "outputs": [],
   "source": [
    "plt.rcParams['figure.dpi'] = 300"
   ]
  },
  {
   "attachments": {},
   "cell_type": "markdown",
   "id": "c2c56810",
   "metadata": {},
   "source": [
    "## Table of Contents\n",
    "\n",
    "* [Introduction](#intro)\n",
    "\n",
    "    * [Data Dictionary](#datadic)\n",
    "\n",
    "* [Loading the Raw Data](#loading)\n",
    "\n",
    "* [Formatting and Cleaning the Data](#cleaning)\n",
    "\n",
    "    * [`overall` column](#overall)\n",
    "\n",
    "    * [`vote` column](#vote)\n",
    "\n",
    "    * [`verified` column](#verified)\n",
    "\n",
    "    * [`reviewTime` column](#reviewTime)\n",
    "\n",
    "    * [`reviewText` and `reviewSummary` column](#reviewText)\n",
    "\n",
    "    * [`style` column](#style)\n",
    "\n",
    "* [Saving the Data](#saving)\n",
    "\n",
    "* [Data Visualizations](#visualizations)\n",
    "\n",
    "* [Conclusion](#conc)"
   ]
  },
  {
   "attachments": {},
   "cell_type": "markdown",
   "id": "26674c3a",
   "metadata": {},
   "source": [
    "## Introduction <a class=\"anchor\" id=\"intro\"></a>\n",
    "This notebook focuses on loading the reviews data from the original source's JSON file and to filter, clean and appropriately format the data for later use. The products dataframe from the last notebook will also be updated to include the number of reviews the product received and the average rating of the product.\n",
    "\n",
    "### Data Dictionary <a class=\"anchor\" id=\"datadic\"></a>\n",
    "\n",
    "The completed products dataframe would look like:\n",
    "\n",
    "| Column Name   | Data Type | Description                                                               |\n",
    "|---------------|-----------|---------------------------------------------------------------------------|\n",
    "| `category`    | object    | list of categories of the product                                         |\n",
    "| `description` | object    | description of the product                                                |\n",
    "| `title`       | object    | title of the product                                                      |\n",
    "| `brand`       | object    | brand of the product                                                      |\n",
    "| `rank`        | integer   | rank of the product in the Clothing, Shoes & Jewelry category             |\n",
    "| `asin`        | object    | unique identifier of the product                                          |\n",
    "| `price`       | float     | price of the item                                                         |\n",
    "| `maincat_`    | boolean   | boolean columns that indicate whether a product is in the a main category |\n",
    "| `subcat_`     | boolean   | boolean columns that indicate whether a product is in the a subcategory   |\n",
    "| `average_rating` | float | average rating of the product |\n",
    "| `total_reviews` | integer | total number of reviews the product received |\n",
    "\n",
    "Note that a column containing the average rating of the product and the total number of reviews the product received was added.\n",
    "\n",
    "The completed reviews dataframe would look like:\n",
    "\n",
    "| Column Name   | Data Type | Description                                                               |\n",
    "|---------------|-----------|---------------------------------------------------------------------------|\n",
    "| `overall`     | int64     | overall rating given in the review                                        |\n",
    "| `vote`        | object    | number of other people finding the review helpful                         |\n",
    "| `verified`    | bool      | whether the purchase of the product by reviewer is verified               |\n",
    "| `reviewTime`  | datetime64| time of the review was made                                               |\n",
    "| `reviewerID`  | object    | unique identifier of the reviewer                                         |\n",
    "| `asin`        | object    | unique identifier of the product                                          |\n",
    "| `reviewText`  | object    | text of the review                                                        |\n",
    "| `summary`     | object    | summary of the review                                                     |"
   ]
  },
  {
   "attachments": {},
   "cell_type": "markdown",
   "id": "62da429c",
   "metadata": {},
   "source": [
    "## Loading the Raw Data <a id = 'loading'></a>\n",
    "\n",
    "The reviews data was retrieved from the `Clothing_Shoes_and_Jewelry_5.json` file. The file is too large to load (~32 million rows), so it was randomly sampled first then the reviews on the products that were not in the final cleaned products dataframe were filtered out. "
   ]
  },
  {
   "cell_type": "code",
   "execution_count": 3,
   "id": "6e0750c7",
   "metadata": {},
   "outputs": [],
   "source": [
    "# Loading ASINs from previous notebook\n",
    "asins_products = np.loadtxt('Data/asins_products.csv', dtype='object')"
   ]
  },
  {
   "cell_type": "code",
   "execution_count": 4,
   "id": "bd5ae50b",
   "metadata": {},
   "outputs": [
    {
     "data": {
      "text/plain": [
       "680980"
      ]
     },
     "execution_count": 4,
     "metadata": {},
     "output_type": "execute_result"
    }
   ],
   "source": [
    "len(asins_products)"
   ]
  },
  {
   "cell_type": "code",
   "execution_count": 5,
   "id": "7e651933",
   "metadata": {},
   "outputs": [
    {
     "name": "stdout",
     "output_type": "stream",
     "text": [
      "101.90099405748848\r"
     ]
    }
   ],
   "source": [
    "reviews_df = pd.DataFrame()\n",
    "\n",
    "with open('data/Clothing_Shoes_and_Jewelry_5.json', 'r') as f:\n",
    "    \n",
    "    reader = pd.read_json(f, orient = 'records', lines = True, chunksize = 500_000, nrows = 11_285_464)\n",
    "    \n",
    "    total = 11_285_464/500_000\n",
    "    counter = 0\n",
    "    \n",
    "    for chunk in reader:\n",
    "        \n",
    "        # dropping unnecessary columns and sampling dataframe\n",
    "        chunk_dropped = chunk.drop(columns=['image', 'unixReviewTime', 'reviewerName'])\n",
    "\n",
    "        # filtering for products in products dataframe\n",
    "        chunk_dropped = chunk_dropped.query('asin in @asins_products')\n",
    "                                                                                                   \n",
    "        reviews_df = pd.concat([reviews_df, chunk_dropped], axis = 0)\n",
    "                \n",
    "        counter += 1\n",
    "        print(counter/total*100, end=\"\\r\")"
   ]
  },
  {
   "cell_type": "code",
   "execution_count": 6,
   "id": "eb5c5257",
   "metadata": {},
   "outputs": [
    {
     "data": {
      "text/html": [
       "<div>\n",
       "<style scoped>\n",
       "    .dataframe tbody tr th:only-of-type {\n",
       "        vertical-align: middle;\n",
       "    }\n",
       "\n",
       "    .dataframe tbody tr th {\n",
       "        vertical-align: top;\n",
       "    }\n",
       "\n",
       "    .dataframe thead th {\n",
       "        text-align: right;\n",
       "    }\n",
       "</style>\n",
       "<table border=\"1\" class=\"dataframe\">\n",
       "  <thead>\n",
       "    <tr style=\"text-align: right;\">\n",
       "      <th></th>\n",
       "      <th>overall</th>\n",
       "      <th>vote</th>\n",
       "      <th>verified</th>\n",
       "      <th>reviewTime</th>\n",
       "      <th>reviewerID</th>\n",
       "      <th>asin</th>\n",
       "      <th>style</th>\n",
       "      <th>reviewText</th>\n",
       "      <th>summary</th>\n",
       "    </tr>\n",
       "  </thead>\n",
       "  <tbody>\n",
       "    <tr>\n",
       "      <th>212</th>\n",
       "      <td>5</td>\n",
       "      <td>2</td>\n",
       "      <td>False</td>\n",
       "      <td>06 11, 2016</td>\n",
       "      <td>A2M7UK1YP3FF7J</td>\n",
       "      <td>5120053890</td>\n",
       "      <td>{'Size:': ' X-Large', 'Color:': ' Dark Purple'}</td>\n",
       "      <td>As someone who's not exactly skinny, I am not ...</td>\n",
       "      <td>Best dress I've ever bought online and it's wo...</td>\n",
       "    </tr>\n",
       "    <tr>\n",
       "      <th>213</th>\n",
       "      <td>4</td>\n",
       "      <td>NaN</td>\n",
       "      <td>False</td>\n",
       "      <td>06 10, 2016</td>\n",
       "      <td>A39GPHP2RT4E82</td>\n",
       "      <td>5120053890</td>\n",
       "      <td>{'Size:': ' X-Large', 'Color:': ' Olive Green'}</td>\n",
       "      <td>This is a very nice dress, good quality.  The ...</td>\n",
       "      <td>Love the feel of this fabric - very nice.</td>\n",
       "    </tr>\n",
       "    <tr>\n",
       "      <th>221</th>\n",
       "      <td>5</td>\n",
       "      <td>NaN</td>\n",
       "      <td>True</td>\n",
       "      <td>10 17, 2017</td>\n",
       "      <td>A1SUF16ND4E9C6</td>\n",
       "      <td>5120053890</td>\n",
       "      <td>{'Size:': ' Medium', 'Color:': ' Dark Purple'}</td>\n",
       "      <td>I LOVE this dress! It makes nursing a breeze a...</td>\n",
       "      <td>love it unless I spill milk on it!</td>\n",
       "    </tr>\n",
       "    <tr>\n",
       "      <th>222</th>\n",
       "      <td>5</td>\n",
       "      <td>NaN</td>\n",
       "      <td>True</td>\n",
       "      <td>09 5, 2017</td>\n",
       "      <td>A5D7DXJSJB4D2</td>\n",
       "      <td>5120053890</td>\n",
       "      <td>{'Size:': ' Medium', 'Color:': ' Dark Purple'}</td>\n",
       "      <td>the S is perfect - I am 5ft 4 inches - 155lbs ...</td>\n",
       "      <td>Practical nursing dress - good quality.</td>\n",
       "    </tr>\n",
       "    <tr>\n",
       "      <th>229</th>\n",
       "      <td>5</td>\n",
       "      <td>18</td>\n",
       "      <td>True</td>\n",
       "      <td>05 5, 2017</td>\n",
       "      <td>A3HBX14MPC46LY</td>\n",
       "      <td>5120053890</td>\n",
       "      <td>{'Size:': ' Large', 'Color:': ' Charcoal'}</td>\n",
       "      <td>I purchase the size Large charcoal colored nur...</td>\n",
       "      <td>Perfect nursing dress- formal or casual</td>\n",
       "    </tr>\n",
       "    <tr>\n",
       "      <th>...</th>\n",
       "      <td>...</td>\n",
       "      <td>...</td>\n",
       "      <td>...</td>\n",
       "      <td>...</td>\n",
       "      <td>...</td>\n",
       "      <td>...</td>\n",
       "      <td>...</td>\n",
       "      <td>...</td>\n",
       "      <td>...</td>\n",
       "    </tr>\n",
       "    <tr>\n",
       "      <th>11285452</th>\n",
       "      <td>5</td>\n",
       "      <td>NaN</td>\n",
       "      <td>True</td>\n",
       "      <td>06 30, 2017</td>\n",
       "      <td>A3SLLSQUXREDRN</td>\n",
       "      <td>B01HJHR8A6</td>\n",
       "      <td>{'Size:': ' 12-18 Months', 'Color:': ' Floral ...</td>\n",
       "      <td>Excellent</td>\n",
       "      <td>Excellent</td>\n",
       "    </tr>\n",
       "    <tr>\n",
       "      <th>11285453</th>\n",
       "      <td>5</td>\n",
       "      <td>NaN</td>\n",
       "      <td>True</td>\n",
       "      <td>05 3, 2017</td>\n",
       "      <td>A1K36IPP1IDPR3</td>\n",
       "      <td>B01HJHR8A6</td>\n",
       "      <td>{'Size:': ' 3-6 Months', 'Color:': ' Floral Red'}</td>\n",
       "      <td>This outfit came in the mail&amp; it's sooo precio...</td>\n",
       "      <td>It will be perfect for this summer heat coming</td>\n",
       "    </tr>\n",
       "    <tr>\n",
       "      <th>11285454</th>\n",
       "      <td>4</td>\n",
       "      <td>NaN</td>\n",
       "      <td>True</td>\n",
       "      <td>03 27, 2017</td>\n",
       "      <td>A2ENZHR6N5WV6S</td>\n",
       "      <td>B01HJHR8A6</td>\n",
       "      <td>NaN</td>\n",
       "      <td>Very cute. Looks a bit big though. (Ordered 6-...</td>\n",
       "      <td>Cute but inconvenient</td>\n",
       "    </tr>\n",
       "    <tr>\n",
       "      <th>11285455</th>\n",
       "      <td>2</td>\n",
       "      <td>NaN</td>\n",
       "      <td>True</td>\n",
       "      <td>02 6, 2017</td>\n",
       "      <td>ALOIB506XZBQP</td>\n",
       "      <td>B01HJHR8A6</td>\n",
       "      <td>{'Size:': ' 6-12 Months', 'Color:': ' Floral B...</td>\n",
       "      <td>It of course looks cute but the lace irritated...</td>\n",
       "      <td>It of course looks cute but the lace irritated...</td>\n",
       "    </tr>\n",
       "    <tr>\n",
       "      <th>11285456</th>\n",
       "      <td>5</td>\n",
       "      <td>NaN</td>\n",
       "      <td>True</td>\n",
       "      <td>12 30, 2016</td>\n",
       "      <td>A25IAJ2112FA09</td>\n",
       "      <td>B01HJHR8A6</td>\n",
       "      <td>{'Size:': ' 3-6 Months', 'Color:': ' Floral Red'}</td>\n",
       "      <td>So cute, can't wait for my granddaughters to w...</td>\n",
       "      <td>Five Stars</td>\n",
       "    </tr>\n",
       "  </tbody>\n",
       "</table>\n",
       "<p>6194199 rows × 9 columns</p>\n",
       "</div>"
      ],
      "text/plain": [
       "          overall vote  verified   reviewTime      reviewerID        asin  \\\n",
       "212             5    2     False  06 11, 2016  A2M7UK1YP3FF7J  5120053890   \n",
       "213             4  NaN     False  06 10, 2016  A39GPHP2RT4E82  5120053890   \n",
       "221             5  NaN      True  10 17, 2017  A1SUF16ND4E9C6  5120053890   \n",
       "222             5  NaN      True   09 5, 2017   A5D7DXJSJB4D2  5120053890   \n",
       "229             5   18      True   05 5, 2017  A3HBX14MPC46LY  5120053890   \n",
       "...           ...  ...       ...          ...             ...         ...   \n",
       "11285452        5  NaN      True  06 30, 2017  A3SLLSQUXREDRN  B01HJHR8A6   \n",
       "11285453        5  NaN      True   05 3, 2017  A1K36IPP1IDPR3  B01HJHR8A6   \n",
       "11285454        4  NaN      True  03 27, 2017  A2ENZHR6N5WV6S  B01HJHR8A6   \n",
       "11285455        2  NaN      True   02 6, 2017   ALOIB506XZBQP  B01HJHR8A6   \n",
       "11285456        5  NaN      True  12 30, 2016  A25IAJ2112FA09  B01HJHR8A6   \n",
       "\n",
       "                                                      style  \\\n",
       "212         {'Size:': ' X-Large', 'Color:': ' Dark Purple'}   \n",
       "213         {'Size:': ' X-Large', 'Color:': ' Olive Green'}   \n",
       "221          {'Size:': ' Medium', 'Color:': ' Dark Purple'}   \n",
       "222          {'Size:': ' Medium', 'Color:': ' Dark Purple'}   \n",
       "229              {'Size:': ' Large', 'Color:': ' Charcoal'}   \n",
       "...                                                     ...   \n",
       "11285452  {'Size:': ' 12-18 Months', 'Color:': ' Floral ...   \n",
       "11285453  {'Size:': ' 3-6 Months', 'Color:': ' Floral Red'}   \n",
       "11285454                                                NaN   \n",
       "11285455  {'Size:': ' 6-12 Months', 'Color:': ' Floral B...   \n",
       "11285456  {'Size:': ' 3-6 Months', 'Color:': ' Floral Red'}   \n",
       "\n",
       "                                                 reviewText  \\\n",
       "212       As someone who's not exactly skinny, I am not ...   \n",
       "213       This is a very nice dress, good quality.  The ...   \n",
       "221       I LOVE this dress! It makes nursing a breeze a...   \n",
       "222       the S is perfect - I am 5ft 4 inches - 155lbs ...   \n",
       "229       I purchase the size Large charcoal colored nur...   \n",
       "...                                                     ...   \n",
       "11285452                                          Excellent   \n",
       "11285453  This outfit came in the mail& it's sooo precio...   \n",
       "11285454  Very cute. Looks a bit big though. (Ordered 6-...   \n",
       "11285455  It of course looks cute but the lace irritated...   \n",
       "11285456  So cute, can't wait for my granddaughters to w...   \n",
       "\n",
       "                                                    summary  \n",
       "212       Best dress I've ever bought online and it's wo...  \n",
       "213               Love the feel of this fabric - very nice.  \n",
       "221                      love it unless I spill milk on it!  \n",
       "222                 Practical nursing dress - good quality.  \n",
       "229                 Perfect nursing dress- formal or casual  \n",
       "...                                                     ...  \n",
       "11285452                                          Excellent  \n",
       "11285453     It will be perfect for this summer heat coming  \n",
       "11285454                              Cute but inconvenient  \n",
       "11285455  It of course looks cute but the lace irritated...  \n",
       "11285456                                         Five Stars  \n",
       "\n",
       "[6194199 rows x 9 columns]"
      ]
     },
     "execution_count": 6,
     "metadata": {},
     "output_type": "execute_result"
    }
   ],
   "source": [
    "reviews_df"
   ]
  },
  {
   "cell_type": "code",
   "execution_count": 4,
   "id": "dc784ca5",
   "metadata": {},
   "outputs": [
    {
     "name": "stdout",
     "output_type": "stream",
     "text": [
      "<class 'pandas.core.frame.DataFrame'>\n",
      "RangeIndex: 6194199 entries, 0 to 6194198\n",
      "Data columns (total 9 columns):\n",
      " #   Column      Dtype \n",
      "---  ------      ----- \n",
      " 0   overall     int64 \n",
      " 1   vote        object\n",
      " 2   verified    bool  \n",
      " 3   reviewTime  object\n",
      " 4   reviewerID  object\n",
      " 5   asin        object\n",
      " 6   style       object\n",
      " 7   reviewText  object\n",
      " 8   summary     object\n",
      "dtypes: bool(1), int64(1), object(7)\n",
      "memory usage: 384.0+ MB\n"
     ]
    }
   ],
   "source": [
    "reviews_df.info()"
   ]
  },
  {
   "cell_type": "code",
   "execution_count": 8,
   "id": "7a2a8b0c",
   "metadata": {},
   "outputs": [],
   "source": [
    "# saving data\n",
    "reviews_df.to_csv('Data/raw_reviews.csv', index=False)"
   ]
  },
  {
   "attachments": {},
   "cell_type": "markdown",
   "id": "93093f1e",
   "metadata": {},
   "source": [
    "## Reloading the Data <a id='reloading'></a>"
   ]
  },
  {
   "cell_type": "code",
   "execution_count": 3,
   "id": "ff597042",
   "metadata": {},
   "outputs": [
    {
     "name": "stderr",
     "output_type": "stream",
     "text": [
      "C:\\Users\\maria\\AppData\\Local\\Temp\\ipykernel_3200\\1631210996.py:2: DtypeWarning: Columns (1) have mixed types. Specify dtype option on import or set low_memory=False.\n",
      "  reviews_df = pd.read_csv('Data/raw_reviews.csv')\n"
     ]
    }
   ],
   "source": [
    "# reloading data\n",
    "reviews_df = pd.read_csv('Data/raw_reviews.csv')"
   ]
  },
  {
   "cell_type": "code",
   "execution_count": 5,
   "id": "c19aa4c5",
   "metadata": {},
   "outputs": [
    {
     "name": "stdout",
     "output_type": "stream",
     "text": [
      "<class 'pandas.core.frame.DataFrame'>\n",
      "RangeIndex: 6194199 entries, 0 to 6194198\n",
      "Data columns (total 9 columns):\n",
      " #   Column      Dtype \n",
      "---  ------      ----- \n",
      " 0   overall     int64 \n",
      " 1   vote        object\n",
      " 2   verified    bool  \n",
      " 3   reviewTime  object\n",
      " 4   reviewerID  object\n",
      " 5   asin        object\n",
      " 6   style       object\n",
      " 7   reviewText  object\n",
      " 8   summary     object\n",
      "dtypes: bool(1), int64(1), object(7)\n",
      "memory usage: 384.0+ MB\n"
     ]
    }
   ],
   "source": [
    "reviews_df.info()"
   ]
  },
  {
   "cell_type": "code",
   "execution_count": 6,
   "id": "37bbf12d",
   "metadata": {},
   "outputs": [
    {
     "data": {
      "text/html": [
       "<div>\n",
       "<style scoped>\n",
       "    .dataframe tbody tr th:only-of-type {\n",
       "        vertical-align: middle;\n",
       "    }\n",
       "\n",
       "    .dataframe tbody tr th {\n",
       "        vertical-align: top;\n",
       "    }\n",
       "\n",
       "    .dataframe thead th {\n",
       "        text-align: right;\n",
       "    }\n",
       "</style>\n",
       "<table border=\"1\" class=\"dataframe\">\n",
       "  <thead>\n",
       "    <tr style=\"text-align: right;\">\n",
       "      <th></th>\n",
       "      <th>overall</th>\n",
       "      <th>vote</th>\n",
       "      <th>verified</th>\n",
       "      <th>reviewTime</th>\n",
       "      <th>reviewerID</th>\n",
       "      <th>asin</th>\n",
       "      <th>style</th>\n",
       "      <th>reviewText</th>\n",
       "      <th>summary</th>\n",
       "    </tr>\n",
       "  </thead>\n",
       "  <tbody>\n",
       "    <tr>\n",
       "      <th>0</th>\n",
       "      <td>5</td>\n",
       "      <td>2.0</td>\n",
       "      <td>False</td>\n",
       "      <td>06 11, 2016</td>\n",
       "      <td>A2M7UK1YP3FF7J</td>\n",
       "      <td>5120053890</td>\n",
       "      <td>{'Size:': ' X-Large', 'Color:': ' Dark Purple'}</td>\n",
       "      <td>As someone who's not exactly skinny, I am not ...</td>\n",
       "      <td>Best dress I've ever bought online and it's wo...</td>\n",
       "    </tr>\n",
       "    <tr>\n",
       "      <th>1</th>\n",
       "      <td>4</td>\n",
       "      <td>NaN</td>\n",
       "      <td>False</td>\n",
       "      <td>06 10, 2016</td>\n",
       "      <td>A39GPHP2RT4E82</td>\n",
       "      <td>5120053890</td>\n",
       "      <td>{'Size:': ' X-Large', 'Color:': ' Olive Green'}</td>\n",
       "      <td>This is a very nice dress, good quality.  The ...</td>\n",
       "      <td>Love the feel of this fabric - very nice.</td>\n",
       "    </tr>\n",
       "    <tr>\n",
       "      <th>2</th>\n",
       "      <td>5</td>\n",
       "      <td>NaN</td>\n",
       "      <td>True</td>\n",
       "      <td>10 17, 2017</td>\n",
       "      <td>A1SUF16ND4E9C6</td>\n",
       "      <td>5120053890</td>\n",
       "      <td>{'Size:': ' Medium', 'Color:': ' Dark Purple'}</td>\n",
       "      <td>I LOVE this dress! It makes nursing a breeze a...</td>\n",
       "      <td>love it unless I spill milk on it!</td>\n",
       "    </tr>\n",
       "    <tr>\n",
       "      <th>3</th>\n",
       "      <td>5</td>\n",
       "      <td>NaN</td>\n",
       "      <td>True</td>\n",
       "      <td>09 5, 2017</td>\n",
       "      <td>A5D7DXJSJB4D2</td>\n",
       "      <td>5120053890</td>\n",
       "      <td>{'Size:': ' Medium', 'Color:': ' Dark Purple'}</td>\n",
       "      <td>the S is perfect - I am 5ft 4 inches - 155lbs ...</td>\n",
       "      <td>Practical nursing dress - good quality.</td>\n",
       "    </tr>\n",
       "    <tr>\n",
       "      <th>4</th>\n",
       "      <td>5</td>\n",
       "      <td>18.0</td>\n",
       "      <td>True</td>\n",
       "      <td>05 5, 2017</td>\n",
       "      <td>A3HBX14MPC46LY</td>\n",
       "      <td>5120053890</td>\n",
       "      <td>{'Size:': ' Large', 'Color:': ' Charcoal'}</td>\n",
       "      <td>I purchase the size Large charcoal colored nur...</td>\n",
       "      <td>Perfect nursing dress- formal or casual</td>\n",
       "    </tr>\n",
       "    <tr>\n",
       "      <th>...</th>\n",
       "      <td>...</td>\n",
       "      <td>...</td>\n",
       "      <td>...</td>\n",
       "      <td>...</td>\n",
       "      <td>...</td>\n",
       "      <td>...</td>\n",
       "      <td>...</td>\n",
       "      <td>...</td>\n",
       "      <td>...</td>\n",
       "    </tr>\n",
       "    <tr>\n",
       "      <th>6194194</th>\n",
       "      <td>5</td>\n",
       "      <td>NaN</td>\n",
       "      <td>True</td>\n",
       "      <td>06 30, 2017</td>\n",
       "      <td>A3SLLSQUXREDRN</td>\n",
       "      <td>B01HJHR8A6</td>\n",
       "      <td>{'Size:': ' 12-18 Months', 'Color:': ' Floral ...</td>\n",
       "      <td>Excellent</td>\n",
       "      <td>Excellent</td>\n",
       "    </tr>\n",
       "    <tr>\n",
       "      <th>6194195</th>\n",
       "      <td>5</td>\n",
       "      <td>NaN</td>\n",
       "      <td>True</td>\n",
       "      <td>05 3, 2017</td>\n",
       "      <td>A1K36IPP1IDPR3</td>\n",
       "      <td>B01HJHR8A6</td>\n",
       "      <td>{'Size:': ' 3-6 Months', 'Color:': ' Floral Red'}</td>\n",
       "      <td>This outfit came in the mail&amp; it's sooo precio...</td>\n",
       "      <td>It will be perfect for this summer heat coming</td>\n",
       "    </tr>\n",
       "    <tr>\n",
       "      <th>6194196</th>\n",
       "      <td>4</td>\n",
       "      <td>NaN</td>\n",
       "      <td>True</td>\n",
       "      <td>03 27, 2017</td>\n",
       "      <td>A2ENZHR6N5WV6S</td>\n",
       "      <td>B01HJHR8A6</td>\n",
       "      <td>NaN</td>\n",
       "      <td>Very cute. Looks a bit big though. (Ordered 6-...</td>\n",
       "      <td>Cute but inconvenient</td>\n",
       "    </tr>\n",
       "    <tr>\n",
       "      <th>6194197</th>\n",
       "      <td>2</td>\n",
       "      <td>NaN</td>\n",
       "      <td>True</td>\n",
       "      <td>02 6, 2017</td>\n",
       "      <td>ALOIB506XZBQP</td>\n",
       "      <td>B01HJHR8A6</td>\n",
       "      <td>{'Size:': ' 6-12 Months', 'Color:': ' Floral B...</td>\n",
       "      <td>It of course looks cute but the lace irritated...</td>\n",
       "      <td>It of course looks cute but the lace irritated...</td>\n",
       "    </tr>\n",
       "    <tr>\n",
       "      <th>6194198</th>\n",
       "      <td>5</td>\n",
       "      <td>NaN</td>\n",
       "      <td>True</td>\n",
       "      <td>12 30, 2016</td>\n",
       "      <td>A25IAJ2112FA09</td>\n",
       "      <td>B01HJHR8A6</td>\n",
       "      <td>{'Size:': ' 3-6 Months', 'Color:': ' Floral Red'}</td>\n",
       "      <td>So cute, can't wait for my granddaughters to w...</td>\n",
       "      <td>Five Stars</td>\n",
       "    </tr>\n",
       "  </tbody>\n",
       "</table>\n",
       "<p>6194199 rows × 9 columns</p>\n",
       "</div>"
      ],
      "text/plain": [
       "         overall  vote  verified   reviewTime      reviewerID        asin  \\\n",
       "0              5   2.0     False  06 11, 2016  A2M7UK1YP3FF7J  5120053890   \n",
       "1              4   NaN     False  06 10, 2016  A39GPHP2RT4E82  5120053890   \n",
       "2              5   NaN      True  10 17, 2017  A1SUF16ND4E9C6  5120053890   \n",
       "3              5   NaN      True   09 5, 2017   A5D7DXJSJB4D2  5120053890   \n",
       "4              5  18.0      True   05 5, 2017  A3HBX14MPC46LY  5120053890   \n",
       "...          ...   ...       ...          ...             ...         ...   \n",
       "6194194        5   NaN      True  06 30, 2017  A3SLLSQUXREDRN  B01HJHR8A6   \n",
       "6194195        5   NaN      True   05 3, 2017  A1K36IPP1IDPR3  B01HJHR8A6   \n",
       "6194196        4   NaN      True  03 27, 2017  A2ENZHR6N5WV6S  B01HJHR8A6   \n",
       "6194197        2   NaN      True   02 6, 2017   ALOIB506XZBQP  B01HJHR8A6   \n",
       "6194198        5   NaN      True  12 30, 2016  A25IAJ2112FA09  B01HJHR8A6   \n",
       "\n",
       "                                                     style  \\\n",
       "0          {'Size:': ' X-Large', 'Color:': ' Dark Purple'}   \n",
       "1          {'Size:': ' X-Large', 'Color:': ' Olive Green'}   \n",
       "2           {'Size:': ' Medium', 'Color:': ' Dark Purple'}   \n",
       "3           {'Size:': ' Medium', 'Color:': ' Dark Purple'}   \n",
       "4               {'Size:': ' Large', 'Color:': ' Charcoal'}   \n",
       "...                                                    ...   \n",
       "6194194  {'Size:': ' 12-18 Months', 'Color:': ' Floral ...   \n",
       "6194195  {'Size:': ' 3-6 Months', 'Color:': ' Floral Red'}   \n",
       "6194196                                                NaN   \n",
       "6194197  {'Size:': ' 6-12 Months', 'Color:': ' Floral B...   \n",
       "6194198  {'Size:': ' 3-6 Months', 'Color:': ' Floral Red'}   \n",
       "\n",
       "                                                reviewText  \\\n",
       "0        As someone who's not exactly skinny, I am not ...   \n",
       "1        This is a very nice dress, good quality.  The ...   \n",
       "2        I LOVE this dress! It makes nursing a breeze a...   \n",
       "3        the S is perfect - I am 5ft 4 inches - 155lbs ...   \n",
       "4        I purchase the size Large charcoal colored nur...   \n",
       "...                                                    ...   \n",
       "6194194                                          Excellent   \n",
       "6194195  This outfit came in the mail& it's sooo precio...   \n",
       "6194196  Very cute. Looks a bit big though. (Ordered 6-...   \n",
       "6194197  It of course looks cute but the lace irritated...   \n",
       "6194198  So cute, can't wait for my granddaughters to w...   \n",
       "\n",
       "                                                   summary  \n",
       "0        Best dress I've ever bought online and it's wo...  \n",
       "1                Love the feel of this fabric - very nice.  \n",
       "2                       love it unless I spill milk on it!  \n",
       "3                  Practical nursing dress - good quality.  \n",
       "4                  Perfect nursing dress- formal or casual  \n",
       "...                                                    ...  \n",
       "6194194                                          Excellent  \n",
       "6194195     It will be perfect for this summer heat coming  \n",
       "6194196                              Cute but inconvenient  \n",
       "6194197  It of course looks cute but the lace irritated...  \n",
       "6194198                                         Five Stars  \n",
       "\n",
       "[6194199 rows x 9 columns]"
      ]
     },
     "execution_count": 6,
     "metadata": {},
     "output_type": "execute_result"
    }
   ],
   "source": [
    "reviews_df"
   ]
  },
  {
   "attachments": {},
   "cell_type": "markdown",
   "id": "bc8b7532",
   "metadata": {},
   "source": [
    "## Formatting and Cleaning the Data <a class=\"anchor\" id=\"cleaning\"></a>\n",
    "\n",
    "Lets first begin with dropping any duplicates and finding the percentage of null values in the reviews dataframe. Then we will go through dealing with null values in the columns and fixing the data types."
   ]
  },
  {
   "cell_type": "code",
   "execution_count": 28,
   "id": "cd59380e",
   "metadata": {},
   "outputs": [
    {
     "data": {
      "text/plain": [
       "0"
      ]
     },
     "execution_count": 28,
     "metadata": {},
     "output_type": "execute_result"
    }
   ],
   "source": [
    "reviews_df.duplicated().sum()"
   ]
  },
  {
   "cell_type": "code",
   "execution_count": 8,
   "id": "be785e29",
   "metadata": {},
   "outputs": [
    {
     "data": {
      "text/plain": [
       "0"
      ]
     },
     "execution_count": 8,
     "metadata": {},
     "output_type": "execute_result"
    }
   ],
   "source": [
    "# dropping duplicate reviews\n",
    "reviews_df = reviews_df.drop_duplicates()\n",
    "\n",
    "# checking\n",
    "reviews_df.duplicated().sum()"
   ]
  },
  {
   "cell_type": "code",
   "execution_count": 9,
   "id": "08b61d96",
   "metadata": {},
   "outputs": [
    {
     "data": {
      "text/plain": [
       "overall        0.000000\n",
       "vote          91.214879\n",
       "verified       0.000000\n",
       "reviewTime     0.000000\n",
       "reviewerID     0.000000\n",
       "asin           0.000000\n",
       "style         14.776766\n",
       "reviewText     0.096673\n",
       "summary        0.043217\n",
       "dtype: float64"
      ]
     },
     "execution_count": 9,
     "metadata": {},
     "output_type": "execute_result"
    }
   ],
   "source": [
    "# finding the percentage of null values\n",
    "reviews_df.isna().sum() / reviews_df.isna().count() * 100"
   ]
  },
  {
   "attachments": {},
   "cell_type": "markdown",
   "id": "f6fdc4be",
   "metadata": {},
   "source": [
    "### `overall` column <a class=\"anchor\" id=\"overall\"></a>\n",
    "\n",
    "The `overall` column contains no null values and the rating ranges between 1 to 5, 5 being the highest rating a reviewer could give. The data types are appropriate, so we can move on."
   ]
  },
  {
   "cell_type": "code",
   "execution_count": 10,
   "id": "666008cc",
   "metadata": {},
   "outputs": [
    {
     "data": {
      "text/plain": [
       "array([5, 4, 3, 2, 1], dtype=int64)"
      ]
     },
     "execution_count": 10,
     "metadata": {},
     "output_type": "execute_result"
    }
   ],
   "source": [
    "# showing the unique number of ratings\n",
    "reviews_df['overall'].unique()"
   ]
  },
  {
   "attachments": {},
   "cell_type": "markdown",
   "id": "8b29ee68",
   "metadata": {},
   "source": [
    "### `vote` column\n",
    "\n",
    "The `vote` column has many null values, but that probably means that many reviews did not receive any votes. Let's fill the null values with 0."
   ]
  },
  {
   "cell_type": "code",
   "execution_count": 11,
   "id": "da0c0997",
   "metadata": {},
   "outputs": [
    {
     "data": {
      "text/plain": [
       "0           2.0\n",
       "1           NaN\n",
       "2           NaN\n",
       "3           NaN\n",
       "4          18.0\n",
       "           ... \n",
       "6194194     NaN\n",
       "6194195     NaN\n",
       "6194196     NaN\n",
       "6194197     NaN\n",
       "6194198     NaN\n",
       "Name: vote, Length: 5967510, dtype: object"
      ]
     },
     "execution_count": 11,
     "metadata": {},
     "output_type": "execute_result"
    }
   ],
   "source": [
    "# defining a series containing the votes\n",
    "reviews_votes = reviews_df['vote']\n",
    "reviews_votes"
   ]
  },
  {
   "cell_type": "code",
   "execution_count": 12,
   "id": "1077bb4f",
   "metadata": {},
   "outputs": [
    {
     "data": {
      "text/plain": [
       "0           2.0\n",
       "1             0\n",
       "2             0\n",
       "3             0\n",
       "4          18.0\n",
       "           ... \n",
       "6194194       0\n",
       "6194195       0\n",
       "6194196       0\n",
       "6194197       0\n",
       "6194198       0\n",
       "Name: vote, Length: 5967510, dtype: object"
      ]
     },
     "execution_count": 12,
     "metadata": {},
     "output_type": "execute_result"
    }
   ],
   "source": [
    "# filling null values with 0\n",
    "reviews_votes = reviews_votes.fillna(0)\n",
    "reviews_votes"
   ]
  },
  {
   "cell_type": "code",
   "execution_count": 13,
   "id": "6934b850",
   "metadata": {},
   "outputs": [
    {
     "data": {
      "text/plain": [
       "0           2\n",
       "1           0\n",
       "2           0\n",
       "3           0\n",
       "4          18\n",
       "           ..\n",
       "6194194     0\n",
       "6194195     0\n",
       "6194196     0\n",
       "6194197     0\n",
       "6194198     0\n",
       "Name: vote, Length: 5967510, dtype: int32"
      ]
     },
     "execution_count": 13,
     "metadata": {},
     "output_type": "execute_result"
    }
   ],
   "source": [
    "# converting the mixed object types into int\n",
    "reviews_votes = reviews_votes.astype(str).str.replace(',', '').astype(float).astype(int)\n",
    "reviews_votes"
   ]
  },
  {
   "cell_type": "code",
   "execution_count": 16,
   "id": "b9fcf656",
   "metadata": {},
   "outputs": [
    {
     "name": "stderr",
     "output_type": "stream",
     "text": [
      "C:\\Users\\maria\\AppData\\Local\\Temp\\ipykernel_3200\\2043430726.py:2: SettingWithCopyWarning: \n",
      "A value is trying to be set on a copy of a slice from a DataFrame.\n",
      "Try using .loc[row_indexer,col_indexer] = value instead\n",
      "\n",
      "See the caveats in the documentation: https://pandas.pydata.org/pandas-docs/stable/user_guide/indexing.html#returning-a-view-versus-a-copy\n",
      "  reviews_df.loc[:, 'vote'] = reviews_votes\n"
     ]
    }
   ],
   "source": [
    "# Putting the clean data back into the main dataframe\n",
    "reviews_df.loc[:, 'vote'] = reviews_votes"
   ]
  },
  {
   "attachments": {},
   "cell_type": "markdown",
   "id": "21395214",
   "metadata": {},
   "source": [
    "### `reviewTime`\n",
    "\n",
    "The review time is stored as an object so it will be converted to the datetime64 data type."
   ]
  },
  {
   "cell_type": "code",
   "execution_count": 18,
   "id": "afa1cfae",
   "metadata": {},
   "outputs": [
    {
     "data": {
      "text/plain": [
       "0          06 11, 2016\n",
       "1          06 10, 2016\n",
       "2          10 17, 2017\n",
       "3           09 5, 2017\n",
       "4           05 5, 2017\n",
       "              ...     \n",
       "6194194    06 30, 2017\n",
       "6194195     05 3, 2017\n",
       "6194196    03 27, 2017\n",
       "6194197     02 6, 2017\n",
       "6194198    12 30, 2016\n",
       "Name: reviewTime, Length: 5967510, dtype: object"
      ]
     },
     "execution_count": 18,
     "metadata": {},
     "output_type": "execute_result"
    }
   ],
   "source": [
    "reviews_time = reviews_df['reviewTime']\n",
    "reviews_time"
   ]
  },
  {
   "cell_type": "code",
   "execution_count": 19,
   "id": "f7a5300e",
   "metadata": {},
   "outputs": [
    {
     "data": {
      "text/plain": [
       "0         2016-06-11\n",
       "1         2016-06-10\n",
       "2         2017-10-17\n",
       "3         2017-09-05\n",
       "4         2017-05-05\n",
       "             ...    \n",
       "6194194   2017-06-30\n",
       "6194195   2017-05-03\n",
       "6194196   2017-03-27\n",
       "6194197   2017-02-06\n",
       "6194198   2016-12-30\n",
       "Name: reviewTime, Length: 5967510, dtype: datetime64[ns]"
      ]
     },
     "execution_count": 19,
     "metadata": {},
     "output_type": "execute_result"
    }
   ],
   "source": [
    "reviews_time = pd.to_datetime(reviews_time, format='%m %d, %Y')\n",
    "reviews_time"
   ]
  },
  {
   "cell_type": "code",
   "execution_count": 20,
   "id": "5485cab2",
   "metadata": {},
   "outputs": [
    {
     "name": "stderr",
     "output_type": "stream",
     "text": [
      "C:\\Users\\maria\\AppData\\Local\\Temp\\ipykernel_3200\\3773871911.py:2: SettingWithCopyWarning: \n",
      "A value is trying to be set on a copy of a slice from a DataFrame.\n",
      "Try using .loc[row_indexer,col_indexer] = value instead\n",
      "\n",
      "See the caveats in the documentation: https://pandas.pydata.org/pandas-docs/stable/user_guide/indexing.html#returning-a-view-versus-a-copy\n",
      "  reviews_df.loc[:, 'reviewTime'] = reviews_time\n"
     ]
    }
   ],
   "source": [
    "# Putting the fixed data back into the main dataframe\n",
    "reviews_df.loc[:, 'reviewTime'] = reviews_time"
   ]
  },
  {
   "attachments": {},
   "cell_type": "markdown",
   "id": "cce62513",
   "metadata": {},
   "source": [
    "### `verified` column\n",
    "\n",
    "The `verified` column shows whether the reviewer of the product has actually bought the product. Let's drop the unverified reviews."
   ]
  },
  {
   "cell_type": "code",
   "execution_count": 23,
   "id": "247bc9cf",
   "metadata": {},
   "outputs": [
    {
     "name": "stdout",
     "output_type": "stream",
     "text": [
      "There are 5645012 reviews in total and 322498 reviews are unverified\n"
     ]
    }
   ],
   "source": [
    "total_reviews = reviews_df['verified'].sum()\n",
    "unverified_reviews = reviews_df['verified'].count() - reviews_df['verified'].sum()\n",
    "\n",
    "print(f'There are {total_reviews} reviews in total and {unverified_reviews} reviews are unverified')"
   ]
  },
  {
   "cell_type": "code",
   "execution_count": 24,
   "id": "c32eb090",
   "metadata": {},
   "outputs": [],
   "source": [
    "# Lets drop the reviews that are unverified\n",
    "reviews_df = reviews_df.drop(reviews_df[reviews_df['verified'] == False].index)"
   ]
  },
  {
   "attachments": {},
   "cell_type": "markdown",
   "id": "6868b1b6",
   "metadata": {},
   "source": [
    "Since all of the reviews are verified now, lets drop the `verified` column."
   ]
  },
  {
   "cell_type": "code",
   "execution_count": 25,
   "id": "d8f88d9d",
   "metadata": {},
   "outputs": [],
   "source": [
    "# Dropping the verified column\n",
    "reviews_df = reviews_df.drop(columns='verified')"
   ]
  },
  {
   "attachments": {},
   "cell_type": "markdown",
   "id": "907275b1",
   "metadata": {},
   "source": [
    "### `reviewText` and `reviewSummary`\n",
    "\n",
    "The `reviewText` column will later be vectorized for content-based recommendations while the `reviewSummary` column will be kept just incase for later analysis. Lets drop the rows containing no description."
   ]
  },
  {
   "cell_type": "code",
   "execution_count": 26,
   "id": "8ad94441",
   "metadata": {},
   "outputs": [],
   "source": [
    "# dropping rows with null description\n",
    "reviews_df = reviews_df.dropna(axis=0, subset=['reviewText'])"
   ]
  },
  {
   "cell_type": "code",
   "execution_count": 27,
   "id": "518a6652",
   "metadata": {},
   "outputs": [
    {
     "data": {
      "text/plain": [
       "overall        0.000000\n",
       "vote           0.000000\n",
       "reviewTime     0.000000\n",
       "reviewerID     0.000000\n",
       "asin           0.000000\n",
       "style         14.306884\n",
       "reviewText     0.000000\n",
       "summary        0.041475\n",
       "dtype: float64"
      ]
     },
     "execution_count": 27,
     "metadata": {},
     "output_type": "execute_result"
    }
   ],
   "source": [
    "# Checking nulls\n",
    "reviews_df.isna().sum() / reviews_df.isna().count() * 100"
   ]
  },
  {
   "attachments": {},
   "cell_type": "markdown",
   "id": "c78ea6f7",
   "metadata": {},
   "source": [
    "### `style` column <a id='style'>"
   ]
  },
  {
   "cell_type": "code",
   "execution_count": 34,
   "id": "0d703a65",
   "metadata": {},
   "outputs": [
    {
     "data": {
      "text/plain": [
       "2             {'Size:': ' Medium', 'Color:': ' Dark Purple'}\n",
       "3             {'Size:': ' Medium', 'Color:': ' Dark Purple'}\n",
       "4                 {'Size:': ' Large', 'Color:': ' Charcoal'}\n",
       "5                {'Size:': ' Medium', 'Color:': ' Charcoal'}\n",
       "6                    {'Size:': ' Large', 'Color:': ' Black'}\n",
       "                                 ...                        \n",
       "6194194    {'Size:': ' 12-18 Months', 'Color:': ' Floral ...\n",
       "6194195    {'Size:': ' 3-6 Months', 'Color:': ' Floral Red'}\n",
       "6194196                                                  NaN\n",
       "6194197    {'Size:': ' 6-12 Months', 'Color:': ' Floral B...\n",
       "6194198    {'Size:': ' 3-6 Months', 'Color:': ' Floral Red'}\n",
       "Name: style, Length: 5639572, dtype: object"
      ]
     },
     "execution_count": 34,
     "metadata": {},
     "output_type": "execute_result"
    }
   ],
   "source": [
    "reviews_style = reviews_df['style']\n",
    "reviews_style"
   ]
  },
  {
   "attachments": {},
   "cell_type": "markdown",
   "id": "81c41080",
   "metadata": {},
   "source": [
    "Let's incorporate this later..."
   ]
  },
  {
   "attachments": {},
   "cell_type": "markdown",
   "id": "3e0cab4e",
   "metadata": {},
   "source": [
    "## Saving the Data <a id = 'saving'></a>\n",
    "\n",
    "Let's save the cleaned reviews dataframe for later use."
   ]
  },
  {
   "cell_type": "code",
   "execution_count": 36,
   "id": "92d8554c",
   "metadata": {},
   "outputs": [],
   "source": [
    "# Saving dataframe\n",
    "reviews_df.to_csv('Data/reviews_cleaned.csv', index=False)"
   ]
  },
  {
   "cell_type": "code",
   "execution_count": 2,
   "id": "fa406a65",
   "metadata": {},
   "outputs": [],
   "source": [
    "reviews_df = pd.read_csv('Data/reviews_cleaned.csv')"
   ]
  },
  {
   "cell_type": "code",
   "execution_count": 3,
   "id": "0212218d",
   "metadata": {},
   "outputs": [
    {
     "data": {
      "text/html": [
       "<div>\n",
       "<style scoped>\n",
       "    .dataframe tbody tr th:only-of-type {\n",
       "        vertical-align: middle;\n",
       "    }\n",
       "\n",
       "    .dataframe tbody tr th {\n",
       "        vertical-align: top;\n",
       "    }\n",
       "\n",
       "    .dataframe thead th {\n",
       "        text-align: right;\n",
       "    }\n",
       "</style>\n",
       "<table border=\"1\" class=\"dataframe\">\n",
       "  <thead>\n",
       "    <tr style=\"text-align: right;\">\n",
       "      <th></th>\n",
       "      <th>overall</th>\n",
       "      <th>vote</th>\n",
       "      <th>reviewTime</th>\n",
       "      <th>reviewerID</th>\n",
       "      <th>asin</th>\n",
       "      <th>style</th>\n",
       "      <th>reviewText</th>\n",
       "      <th>summary</th>\n",
       "    </tr>\n",
       "  </thead>\n",
       "  <tbody>\n",
       "    <tr>\n",
       "      <th>0</th>\n",
       "      <td>5</td>\n",
       "      <td>0</td>\n",
       "      <td>2017-10-17</td>\n",
       "      <td>A1SUF16ND4E9C6</td>\n",
       "      <td>5120053890</td>\n",
       "      <td>{'Size:': ' Medium', 'Color:': ' Dark Purple'}</td>\n",
       "      <td>I LOVE this dress! It makes nursing a breeze a...</td>\n",
       "      <td>love it unless I spill milk on it!</td>\n",
       "    </tr>\n",
       "    <tr>\n",
       "      <th>1</th>\n",
       "      <td>5</td>\n",
       "      <td>0</td>\n",
       "      <td>2017-09-05</td>\n",
       "      <td>A5D7DXJSJB4D2</td>\n",
       "      <td>5120053890</td>\n",
       "      <td>{'Size:': ' Medium', 'Color:': ' Dark Purple'}</td>\n",
       "      <td>the S is perfect - I am 5ft 4 inches - 155lbs ...</td>\n",
       "      <td>Practical nursing dress - good quality.</td>\n",
       "    </tr>\n",
       "    <tr>\n",
       "      <th>2</th>\n",
       "      <td>5</td>\n",
       "      <td>18</td>\n",
       "      <td>2017-05-05</td>\n",
       "      <td>A3HBX14MPC46LY</td>\n",
       "      <td>5120053890</td>\n",
       "      <td>{'Size:': ' Large', 'Color:': ' Charcoal'}</td>\n",
       "      <td>I purchase the size Large charcoal colored nur...</td>\n",
       "      <td>Perfect nursing dress- formal or casual</td>\n",
       "    </tr>\n",
       "    <tr>\n",
       "      <th>3</th>\n",
       "      <td>5</td>\n",
       "      <td>0</td>\n",
       "      <td>2017-03-29</td>\n",
       "      <td>A2C4SF85GXJDRB</td>\n",
       "      <td>5120053890</td>\n",
       "      <td>{'Size:': ' Medium', 'Color:': ' Charcoal'}</td>\n",
       "      <td>I bought the purple nursing dress, and I absol...</td>\n",
       "      <td>Best nursing dress</td>\n",
       "    </tr>\n",
       "    <tr>\n",
       "      <th>4</th>\n",
       "      <td>5</td>\n",
       "      <td>0</td>\n",
       "      <td>2017-03-02</td>\n",
       "      <td>A1S8FSYVCLZCAY</td>\n",
       "      <td>5120053890</td>\n",
       "      <td>{'Size:': ' Large', 'Color:': ' Black'}</td>\n",
       "      <td>Amazing dress! The dress is knee length, doesn...</td>\n",
       "      <td>Perfect In Every Way</td>\n",
       "    </tr>\n",
       "    <tr>\n",
       "      <th>...</th>\n",
       "      <td>...</td>\n",
       "      <td>...</td>\n",
       "      <td>...</td>\n",
       "      <td>...</td>\n",
       "      <td>...</td>\n",
       "      <td>...</td>\n",
       "      <td>...</td>\n",
       "      <td>...</td>\n",
       "    </tr>\n",
       "    <tr>\n",
       "      <th>5639567</th>\n",
       "      <td>5</td>\n",
       "      <td>0</td>\n",
       "      <td>2017-06-30</td>\n",
       "      <td>A3SLLSQUXREDRN</td>\n",
       "      <td>B01HJHR8A6</td>\n",
       "      <td>{'Size:': ' 12-18 Months', 'Color:': ' Floral ...</td>\n",
       "      <td>Excellent</td>\n",
       "      <td>Excellent</td>\n",
       "    </tr>\n",
       "    <tr>\n",
       "      <th>5639568</th>\n",
       "      <td>5</td>\n",
       "      <td>0</td>\n",
       "      <td>2017-05-03</td>\n",
       "      <td>A1K36IPP1IDPR3</td>\n",
       "      <td>B01HJHR8A6</td>\n",
       "      <td>{'Size:': ' 3-6 Months', 'Color:': ' Floral Red'}</td>\n",
       "      <td>This outfit came in the mail&amp; it's sooo precio...</td>\n",
       "      <td>It will be perfect for this summer heat coming</td>\n",
       "    </tr>\n",
       "    <tr>\n",
       "      <th>5639569</th>\n",
       "      <td>4</td>\n",
       "      <td>0</td>\n",
       "      <td>2017-03-27</td>\n",
       "      <td>A2ENZHR6N5WV6S</td>\n",
       "      <td>B01HJHR8A6</td>\n",
       "      <td>NaN</td>\n",
       "      <td>Very cute. Looks a bit big though. (Ordered 6-...</td>\n",
       "      <td>Cute but inconvenient</td>\n",
       "    </tr>\n",
       "    <tr>\n",
       "      <th>5639570</th>\n",
       "      <td>2</td>\n",
       "      <td>0</td>\n",
       "      <td>2017-02-06</td>\n",
       "      <td>ALOIB506XZBQP</td>\n",
       "      <td>B01HJHR8A6</td>\n",
       "      <td>{'Size:': ' 6-12 Months', 'Color:': ' Floral B...</td>\n",
       "      <td>It of course looks cute but the lace irritated...</td>\n",
       "      <td>It of course looks cute but the lace irritated...</td>\n",
       "    </tr>\n",
       "    <tr>\n",
       "      <th>5639571</th>\n",
       "      <td>5</td>\n",
       "      <td>0</td>\n",
       "      <td>2016-12-30</td>\n",
       "      <td>A25IAJ2112FA09</td>\n",
       "      <td>B01HJHR8A6</td>\n",
       "      <td>{'Size:': ' 3-6 Months', 'Color:': ' Floral Red'}</td>\n",
       "      <td>So cute, can't wait for my granddaughters to w...</td>\n",
       "      <td>Five Stars</td>\n",
       "    </tr>\n",
       "  </tbody>\n",
       "</table>\n",
       "<p>5639572 rows × 8 columns</p>\n",
       "</div>"
      ],
      "text/plain": [
       "         overall  vote  reviewTime      reviewerID        asin  \\\n",
       "0              5     0  2017-10-17  A1SUF16ND4E9C6  5120053890   \n",
       "1              5     0  2017-09-05   A5D7DXJSJB4D2  5120053890   \n",
       "2              5    18  2017-05-05  A3HBX14MPC46LY  5120053890   \n",
       "3              5     0  2017-03-29  A2C4SF85GXJDRB  5120053890   \n",
       "4              5     0  2017-03-02  A1S8FSYVCLZCAY  5120053890   \n",
       "...          ...   ...         ...             ...         ...   \n",
       "5639567        5     0  2017-06-30  A3SLLSQUXREDRN  B01HJHR8A6   \n",
       "5639568        5     0  2017-05-03  A1K36IPP1IDPR3  B01HJHR8A6   \n",
       "5639569        4     0  2017-03-27  A2ENZHR6N5WV6S  B01HJHR8A6   \n",
       "5639570        2     0  2017-02-06   ALOIB506XZBQP  B01HJHR8A6   \n",
       "5639571        5     0  2016-12-30  A25IAJ2112FA09  B01HJHR8A6   \n",
       "\n",
       "                                                     style  \\\n",
       "0           {'Size:': ' Medium', 'Color:': ' Dark Purple'}   \n",
       "1           {'Size:': ' Medium', 'Color:': ' Dark Purple'}   \n",
       "2               {'Size:': ' Large', 'Color:': ' Charcoal'}   \n",
       "3              {'Size:': ' Medium', 'Color:': ' Charcoal'}   \n",
       "4                  {'Size:': ' Large', 'Color:': ' Black'}   \n",
       "...                                                    ...   \n",
       "5639567  {'Size:': ' 12-18 Months', 'Color:': ' Floral ...   \n",
       "5639568  {'Size:': ' 3-6 Months', 'Color:': ' Floral Red'}   \n",
       "5639569                                                NaN   \n",
       "5639570  {'Size:': ' 6-12 Months', 'Color:': ' Floral B...   \n",
       "5639571  {'Size:': ' 3-6 Months', 'Color:': ' Floral Red'}   \n",
       "\n",
       "                                                reviewText  \\\n",
       "0        I LOVE this dress! It makes nursing a breeze a...   \n",
       "1        the S is perfect - I am 5ft 4 inches - 155lbs ...   \n",
       "2        I purchase the size Large charcoal colored nur...   \n",
       "3        I bought the purple nursing dress, and I absol...   \n",
       "4        Amazing dress! The dress is knee length, doesn...   \n",
       "...                                                    ...   \n",
       "5639567                                          Excellent   \n",
       "5639568  This outfit came in the mail& it's sooo precio...   \n",
       "5639569  Very cute. Looks a bit big though. (Ordered 6-...   \n",
       "5639570  It of course looks cute but the lace irritated...   \n",
       "5639571  So cute, can't wait for my granddaughters to w...   \n",
       "\n",
       "                                                   summary  \n",
       "0                       love it unless I spill milk on it!  \n",
       "1                  Practical nursing dress - good quality.  \n",
       "2                  Perfect nursing dress- formal or casual  \n",
       "3                                       Best nursing dress  \n",
       "4                                     Perfect In Every Way  \n",
       "...                                                    ...  \n",
       "5639567                                          Excellent  \n",
       "5639568     It will be perfect for this summer heat coming  \n",
       "5639569                              Cute but inconvenient  \n",
       "5639570  It of course looks cute but the lace irritated...  \n",
       "5639571                                         Five Stars  \n",
       "\n",
       "[5639572 rows x 8 columns]"
      ]
     },
     "execution_count": 3,
     "metadata": {},
     "output_type": "execute_result"
    }
   ],
   "source": [
    "reviews_df"
   ]
  },
  {
   "attachments": {},
   "cell_type": "markdown",
   "id": "d747d032",
   "metadata": {},
   "source": [
    "Now let's add the summary of the products reviews to the products dataframe. We are going to add the average rating of the products and the number of reviews the product received."
   ]
  },
  {
   "cell_type": "code",
   "execution_count": 4,
   "id": "b606c58d",
   "metadata": {},
   "outputs": [],
   "source": [
    "products_df = pd.read_csv('Data/products_cleaned.csv')"
   ]
  },
  {
   "cell_type": "code",
   "execution_count": 5,
   "id": "64899106",
   "metadata": {},
   "outputs": [
    {
     "name": "stdout",
     "output_type": "stream",
     "text": [
      "<class 'pandas.core.frame.DataFrame'>\n",
      "RangeIndex: 678732 entries, 0 to 678731\n",
      "Data columns (total 62 columns):\n",
      " #   Column                                     Non-Null Count   Dtype  \n",
      "---  ------                                     --------------   -----  \n",
      " 0   category                                   678732 non-null  object \n",
      " 1   description                                678530 non-null  object \n",
      " 2   title                                      678732 non-null  object \n",
      " 3   brand                                      678732 non-null  object \n",
      " 4   rank                                       678732 non-null  int64  \n",
      " 5   asin                                       678732 non-null  object \n",
      " 6   imageURL                                   550904 non-null  object \n",
      " 7   price                                      678732 non-null  float64\n",
      " 8   maincat_Luggage & Travel Gear              678732 non-null  bool   \n",
      " 9   maincat_Backpacks                          678732 non-null  bool   \n",
      " 10  maincat_Novelty & More                     678732 non-null  bool   \n",
      " 11  maincat_Clothing                           678732 non-null  bool   \n",
      " 12  maincat_Women                              678732 non-null  bool   \n",
      " 13  maincat_Baby                               678732 non-null  bool   \n",
      " 14  maincat_Baby Boys                          678732 non-null  bool   \n",
      " 15  maincat_Men                                678732 non-null  bool   \n",
      " 16  maincat_Maternity                          678732 non-null  bool   \n",
      " 17  maincat_Baby Girls                         678732 non-null  bool   \n",
      " 18  maincat_Traditional & Cultural Wear        678732 non-null  bool   \n",
      " 19  maincat_Accessories                        678732 non-null  bool   \n",
      " 20  maincat_Jewelry                            678732 non-null  bool   \n",
      " 21  maincat_Costumes & Accessories             678732 non-null  bool   \n",
      " 22  maincat_Watches                            678732 non-null  bool   \n",
      " 23  maincat_Kids & Baby                        678732 non-null  bool   \n",
      " 24  maincat_Uniforms, Work & Safety            678732 non-null  bool   \n",
      " 25  maincat_Shoes                              678732 non-null  bool   \n",
      " 26  maincat_Handbags & Wallets                 678732 non-null  bool   \n",
      " 27  maincat_Girls                              678732 non-null  bool   \n",
      " 28  maincat_Boys                               678732 non-null  bool   \n",
      " 29  maincat_Shoe, Jewelry & Watch Accessories  678732 non-null  bool   \n",
      " 30  maincat_Jewelry Accessories                678732 non-null  bool   \n",
      " 31  maincat_Shoe Care & Accessories            678732 non-null  bool   \n",
      " 32  maincat_Contemporary & Designer            678732 non-null  bool   \n",
      " 33  maincat_Travel Accessories                 678732 non-null  bool   \n",
      " 34  maincat_Surf, Skate & Street               678732 non-null  bool   \n",
      " 35  subcat_Luggage & Travel Gear               678732 non-null  bool   \n",
      " 36  subcat_Backpacks                           678732 non-null  bool   \n",
      " 37  subcat_Novelty & More                      678732 non-null  bool   \n",
      " 38  subcat_Clothing                            678732 non-null  bool   \n",
      " 39  subcat_Women                               678732 non-null  bool   \n",
      " 40  subcat_Baby                                678732 non-null  bool   \n",
      " 41  subcat_Baby Boys                           678732 non-null  bool   \n",
      " 42  subcat_Men                                 678732 non-null  bool   \n",
      " 43  subcat_Maternity                           678732 non-null  bool   \n",
      " 44  subcat_Baby Girls                          678732 non-null  bool   \n",
      " 45  subcat_Traditional & Cultural Wear         678732 non-null  bool   \n",
      " 46  subcat_Accessories                         678732 non-null  bool   \n",
      " 47  subcat_Jewelry                             678732 non-null  bool   \n",
      " 48  subcat_Costumes & Accessories              678732 non-null  bool   \n",
      " 49  subcat_Watches                             678732 non-null  bool   \n",
      " 50  subcat_Kids & Baby                         678732 non-null  bool   \n",
      " 51  subcat_Uniforms, Work & Safety             678732 non-null  bool   \n",
      " 52  subcat_Shoes                               678732 non-null  bool   \n",
      " 53  subcat_Handbags & Wallets                  678732 non-null  bool   \n",
      " 54  subcat_Girls                               678732 non-null  bool   \n",
      " 55  subcat_Boys                                678732 non-null  bool   \n",
      " 56  subcat_Shoe, Jewelry & Watch Accessories   678732 non-null  bool   \n",
      " 57  subcat_Jewelry Accessories                 678732 non-null  bool   \n",
      " 58  subcat_Shoe Care & Accessories             678732 non-null  bool   \n",
      " 59  subcat_Contemporary & Designer             678732 non-null  bool   \n",
      " 60  subcat_Travel Accessories                  678732 non-null  bool   \n",
      " 61  subcat_Surf, Skate & Street                678732 non-null  bool   \n",
      "dtypes: bool(54), float64(1), int64(1), object(6)\n",
      "memory usage: 76.4+ MB\n"
     ]
    }
   ],
   "source": [
    "products_df.info()"
   ]
  },
  {
   "cell_type": "code",
   "execution_count": 6,
   "id": "7e2b727c",
   "metadata": {},
   "outputs": [
    {
     "data": {
      "text/html": [
       "<div>\n",
       "<style scoped>\n",
       "    .dataframe tbody tr th:only-of-type {\n",
       "        vertical-align: middle;\n",
       "    }\n",
       "\n",
       "    .dataframe tbody tr th {\n",
       "        vertical-align: top;\n",
       "    }\n",
       "\n",
       "    .dataframe thead th {\n",
       "        text-align: right;\n",
       "    }\n",
       "</style>\n",
       "<table border=\"1\" class=\"dataframe\">\n",
       "  <thead>\n",
       "    <tr style=\"text-align: right;\">\n",
       "      <th></th>\n",
       "      <th>category</th>\n",
       "      <th>description</th>\n",
       "      <th>title</th>\n",
       "      <th>brand</th>\n",
       "      <th>rank</th>\n",
       "      <th>asin</th>\n",
       "      <th>imageURL</th>\n",
       "      <th>price</th>\n",
       "      <th>maincat_Luggage &amp; Travel Gear</th>\n",
       "      <th>maincat_Backpacks</th>\n",
       "      <th>...</th>\n",
       "      <th>subcat_Shoes</th>\n",
       "      <th>subcat_Handbags &amp; Wallets</th>\n",
       "      <th>subcat_Girls</th>\n",
       "      <th>subcat_Boys</th>\n",
       "      <th>subcat_Shoe, Jewelry &amp; Watch Accessories</th>\n",
       "      <th>subcat_Jewelry Accessories</th>\n",
       "      <th>subcat_Shoe Care &amp; Accessories</th>\n",
       "      <th>subcat_Contemporary &amp; Designer</th>\n",
       "      <th>subcat_Travel Accessories</th>\n",
       "      <th>subcat_Surf, Skate &amp; Street</th>\n",
       "    </tr>\n",
       "  </thead>\n",
       "  <tbody>\n",
       "    <tr>\n",
       "      <th>0</th>\n",
       "      <td>['Clothing, Shoes &amp; Jewelry', 'Luggage &amp; Trave...</td>\n",
       "      <td>The Hottest Bag in Town! Brand: Anello Conditi...</td>\n",
       "      <td>Japan Anello Backpack Unisex PINK BEIGE LARGE ...</td>\n",
       "      <td>Anello</td>\n",
       "      <td>3994472</td>\n",
       "      <td>0204444454</td>\n",
       "      <td>['https://images-na.ssl-images-amazon.com/imag...</td>\n",
       "      <td>70.00</td>\n",
       "      <td>True</td>\n",
       "      <td>True</td>\n",
       "      <td>...</td>\n",
       "      <td>False</td>\n",
       "      <td>False</td>\n",
       "      <td>False</td>\n",
       "      <td>False</td>\n",
       "      <td>False</td>\n",
       "      <td>False</td>\n",
       "      <td>False</td>\n",
       "      <td>False</td>\n",
       "      <td>False</td>\n",
       "      <td>False</td>\n",
       "    </tr>\n",
       "    <tr>\n",
       "      <th>1</th>\n",
       "      <td>['Clothing, Shoes &amp; Jewelry', 'Luggage &amp; Trave...</td>\n",
       "      <td>The Hottest Bag in Town! Brand: Anello Conditi...</td>\n",
       "      <td>Japan Anello Backpack Unisex BLACK LARGE PU LE...</td>\n",
       "      <td>Anello</td>\n",
       "      <td>635761</td>\n",
       "      <td>0204444403</td>\n",
       "      <td>['https://images-na.ssl-images-amazon.com/imag...</td>\n",
       "      <td>65.99</td>\n",
       "      <td>True</td>\n",
       "      <td>True</td>\n",
       "      <td>...</td>\n",
       "      <td>False</td>\n",
       "      <td>False</td>\n",
       "      <td>False</td>\n",
       "      <td>False</td>\n",
       "      <td>False</td>\n",
       "      <td>False</td>\n",
       "      <td>False</td>\n",
       "      <td>False</td>\n",
       "      <td>False</td>\n",
       "      <td>False</td>\n",
       "    </tr>\n",
       "    <tr>\n",
       "      <th>2</th>\n",
       "      <td>['Clothing, Shoes &amp; Jewelry', 'Novelty &amp; More'...</td>\n",
       "      <td>Brand New.  Hat Centre Length: adult about 8cm...</td>\n",
       "      <td>bettyhome Unisex Adult Winter Spring Thicken C...</td>\n",
       "      <td>bettyhome</td>\n",
       "      <td>5061041</td>\n",
       "      <td>0206313535</td>\n",
       "      <td>['https://images-na.ssl-images-amazon.com/imag...</td>\n",
       "      <td>18.99</td>\n",
       "      <td>False</td>\n",
       "      <td>False</td>\n",
       "      <td>...</td>\n",
       "      <td>False</td>\n",
       "      <td>False</td>\n",
       "      <td>False</td>\n",
       "      <td>False</td>\n",
       "      <td>False</td>\n",
       "      <td>False</td>\n",
       "      <td>False</td>\n",
       "      <td>False</td>\n",
       "      <td>False</td>\n",
       "      <td>False</td>\n",
       "    </tr>\n",
       "    <tr>\n",
       "      <th>3</th>\n",
       "      <td>['Clothing, Shoes &amp; Jewelry', 'Women', 'Clothi...</td>\n",
       "      <td>Please allow 1-2cm dimension deviation. 100% b...</td>\n",
       "      <td>bettyhome Womens Lace Short Sleeves Top Printi...</td>\n",
       "      <td>bettyhome</td>\n",
       "      <td>10635107</td>\n",
       "      <td>0206335962</td>\n",
       "      <td>['https://images-na.ssl-images-amazon.com/imag...</td>\n",
       "      <td>23.99</td>\n",
       "      <td>False</td>\n",
       "      <td>False</td>\n",
       "      <td>...</td>\n",
       "      <td>False</td>\n",
       "      <td>False</td>\n",
       "      <td>False</td>\n",
       "      <td>False</td>\n",
       "      <td>False</td>\n",
       "      <td>False</td>\n",
       "      <td>False</td>\n",
       "      <td>False</td>\n",
       "      <td>False</td>\n",
       "      <td>False</td>\n",
       "    </tr>\n",
       "    <tr>\n",
       "      <th>4</th>\n",
       "      <td>['Clothing, Shoes &amp; Jewelry', 'Luggage &amp; Trave...</td>\n",
       "      <td>2 Way Shoulder Handle Polyester Canvas Boston ...</td>\n",
       "      <td>Japan Anello LARGE CAMO 2 Way Unisex Shoulder ...</td>\n",
       "      <td>Anello</td>\n",
       "      <td>1615335</td>\n",
       "      <td>024444448X</td>\n",
       "      <td>['https://images-na.ssl-images-amazon.com/imag...</td>\n",
       "      <td>65.33</td>\n",
       "      <td>True</td>\n",
       "      <td>True</td>\n",
       "      <td>...</td>\n",
       "      <td>False</td>\n",
       "      <td>False</td>\n",
       "      <td>False</td>\n",
       "      <td>False</td>\n",
       "      <td>False</td>\n",
       "      <td>False</td>\n",
       "      <td>False</td>\n",
       "      <td>False</td>\n",
       "      <td>False</td>\n",
       "      <td>False</td>\n",
       "    </tr>\n",
       "  </tbody>\n",
       "</table>\n",
       "<p>5 rows × 62 columns</p>\n",
       "</div>"
      ],
      "text/plain": [
       "                                            category  \\\n",
       "0  ['Clothing, Shoes & Jewelry', 'Luggage & Trave...   \n",
       "1  ['Clothing, Shoes & Jewelry', 'Luggage & Trave...   \n",
       "2  ['Clothing, Shoes & Jewelry', 'Novelty & More'...   \n",
       "3  ['Clothing, Shoes & Jewelry', 'Women', 'Clothi...   \n",
       "4  ['Clothing, Shoes & Jewelry', 'Luggage & Trave...   \n",
       "\n",
       "                                         description  \\\n",
       "0  The Hottest Bag in Town! Brand: Anello Conditi...   \n",
       "1  The Hottest Bag in Town! Brand: Anello Conditi...   \n",
       "2  Brand New.  Hat Centre Length: adult about 8cm...   \n",
       "3  Please allow 1-2cm dimension deviation. 100% b...   \n",
       "4  2 Way Shoulder Handle Polyester Canvas Boston ...   \n",
       "\n",
       "                                               title      brand      rank  \\\n",
       "0  Japan Anello Backpack Unisex PINK BEIGE LARGE ...     Anello   3994472   \n",
       "1  Japan Anello Backpack Unisex BLACK LARGE PU LE...     Anello    635761   \n",
       "2  bettyhome Unisex Adult Winter Spring Thicken C...  bettyhome   5061041   \n",
       "3  bettyhome Womens Lace Short Sleeves Top Printi...  bettyhome  10635107   \n",
       "4  Japan Anello LARGE CAMO 2 Way Unisex Shoulder ...     Anello   1615335   \n",
       "\n",
       "         asin                                           imageURL  price  \\\n",
       "0  0204444454  ['https://images-na.ssl-images-amazon.com/imag...  70.00   \n",
       "1  0204444403  ['https://images-na.ssl-images-amazon.com/imag...  65.99   \n",
       "2  0206313535  ['https://images-na.ssl-images-amazon.com/imag...  18.99   \n",
       "3  0206335962  ['https://images-na.ssl-images-amazon.com/imag...  23.99   \n",
       "4  024444448X  ['https://images-na.ssl-images-amazon.com/imag...  65.33   \n",
       "\n",
       "   maincat_Luggage & Travel Gear  maincat_Backpacks  ...  subcat_Shoes  \\\n",
       "0                           True               True  ...         False   \n",
       "1                           True               True  ...         False   \n",
       "2                          False              False  ...         False   \n",
       "3                          False              False  ...         False   \n",
       "4                           True               True  ...         False   \n",
       "\n",
       "   subcat_Handbags & Wallets  subcat_Girls  subcat_Boys  \\\n",
       "0                      False         False        False   \n",
       "1                      False         False        False   \n",
       "2                      False         False        False   \n",
       "3                      False         False        False   \n",
       "4                      False         False        False   \n",
       "\n",
       "   subcat_Shoe, Jewelry & Watch Accessories  subcat_Jewelry Accessories  \\\n",
       "0                                     False                       False   \n",
       "1                                     False                       False   \n",
       "2                                     False                       False   \n",
       "3                                     False                       False   \n",
       "4                                     False                       False   \n",
       "\n",
       "   subcat_Shoe Care & Accessories  subcat_Contemporary & Designer  \\\n",
       "0                           False                           False   \n",
       "1                           False                           False   \n",
       "2                           False                           False   \n",
       "3                           False                           False   \n",
       "4                           False                           False   \n",
       "\n",
       "   subcat_Travel Accessories  subcat_Surf, Skate & Street  \n",
       "0                      False                        False  \n",
       "1                      False                        False  \n",
       "2                      False                        False  \n",
       "3                      False                        False  \n",
       "4                      False                        False  \n",
       "\n",
       "[5 rows x 62 columns]"
      ]
     },
     "execution_count": 6,
     "metadata": {},
     "output_type": "execute_result"
    }
   ],
   "source": [
    "products_df.head()"
   ]
  },
  {
   "cell_type": "code",
   "execution_count": 7,
   "id": "f9fec1db",
   "metadata": {},
   "outputs": [],
   "source": [
    "# creating empty dataframe\n",
    "reviews_summary = pd.DataFrame()\n",
    "\n",
    "# finding the average rating of a product and adding it to dataframe\n",
    "reviews_summary = (reviews_df.groupby(['asin'], as_index=False)['overall'].mean().round(1))\n",
    "\n",
    "# renaming column name\n",
    "reviews_summary.rename(columns={'overall':'average_rating'}, inplace=True)"
   ]
  },
  {
   "cell_type": "code",
   "execution_count": 8,
   "id": "58465bb7",
   "metadata": {},
   "outputs": [],
   "source": [
    "# finding the total number of reviews the product received\n",
    "reviews_summary['total_reviews'] = (reviews_df.groupby(['asin'], as_index=False)['overall'].count())['overall']"
   ]
  },
  {
   "cell_type": "code",
   "execution_count": 9,
   "id": "aa963cd1",
   "metadata": {},
   "outputs": [],
   "source": [
    "# setting the index of the product to the asin to be able to join on the products dataframe\n",
    "reviews_summary = reviews_summary.set_index('asin')\n",
    "\n",
    "# joining the review summary column on the \n",
    "products_df = products_df.join(reviews_summary, on='asin', how='inner')"
   ]
  },
  {
   "cell_type": "code",
   "execution_count": 10,
   "id": "f76b4b55",
   "metadata": {},
   "outputs": [
    {
     "data": {
      "text/html": [
       "<div>\n",
       "<style scoped>\n",
       "    .dataframe tbody tr th:only-of-type {\n",
       "        vertical-align: middle;\n",
       "    }\n",
       "\n",
       "    .dataframe tbody tr th {\n",
       "        vertical-align: top;\n",
       "    }\n",
       "\n",
       "    .dataframe thead th {\n",
       "        text-align: right;\n",
       "    }\n",
       "</style>\n",
       "<table border=\"1\" class=\"dataframe\">\n",
       "  <thead>\n",
       "    <tr style=\"text-align: right;\">\n",
       "      <th></th>\n",
       "      <th>category</th>\n",
       "      <th>description</th>\n",
       "      <th>title</th>\n",
       "      <th>brand</th>\n",
       "      <th>rank</th>\n",
       "      <th>asin</th>\n",
       "      <th>imageURL</th>\n",
       "      <th>price</th>\n",
       "      <th>maincat_Luggage &amp; Travel Gear</th>\n",
       "      <th>maincat_Backpacks</th>\n",
       "      <th>...</th>\n",
       "      <th>subcat_Girls</th>\n",
       "      <th>subcat_Boys</th>\n",
       "      <th>subcat_Shoe, Jewelry &amp; Watch Accessories</th>\n",
       "      <th>subcat_Jewelry Accessories</th>\n",
       "      <th>subcat_Shoe Care &amp; Accessories</th>\n",
       "      <th>subcat_Contemporary &amp; Designer</th>\n",
       "      <th>subcat_Travel Accessories</th>\n",
       "      <th>subcat_Surf, Skate &amp; Street</th>\n",
       "      <th>average_rating</th>\n",
       "      <th>total_reviews</th>\n",
       "    </tr>\n",
       "  </thead>\n",
       "  <tbody>\n",
       "    <tr>\n",
       "      <th>13</th>\n",
       "      <td>['Clothing, Shoes &amp; Jewelry', 'Women', 'Import...</td>\n",
       "      <td>Veneziana Sexy Strip 20 Open Crotch Pantyhose ...</td>\n",
       "      <td>Sexystrip</td>\n",
       "      <td>Veneziana</td>\n",
       "      <td>734888</td>\n",
       "      <td>5120053017</td>\n",
       "      <td>['https://images-na.ssl-images-amazon.com/imag...</td>\n",
       "      <td>14.95</td>\n",
       "      <td>False</td>\n",
       "      <td>False</td>\n",
       "      <td>...</td>\n",
       "      <td>False</td>\n",
       "      <td>False</td>\n",
       "      <td>False</td>\n",
       "      <td>False</td>\n",
       "      <td>False</td>\n",
       "      <td>False</td>\n",
       "      <td>False</td>\n",
       "      <td>False</td>\n",
       "      <td>3.7</td>\n",
       "      <td>38</td>\n",
       "    </tr>\n",
       "    <tr>\n",
       "      <th>14</th>\n",
       "      <td>['Clothing, Shoes &amp; Jewelry', 'Women', 'Import...</td>\n",
       "      <td>Veneziana Ar Beautiful - Hold Ups Thigh High S...</td>\n",
       "      <td>Beautiful</td>\n",
       "      <td>Veneziana</td>\n",
       "      <td>551160</td>\n",
       "      <td>5120053351</td>\n",
       "      <td>['https://images-na.ssl-images-amazon.com/imag...</td>\n",
       "      <td>17.70</td>\n",
       "      <td>False</td>\n",
       "      <td>False</td>\n",
       "      <td>...</td>\n",
       "      <td>False</td>\n",
       "      <td>False</td>\n",
       "      <td>False</td>\n",
       "      <td>False</td>\n",
       "      <td>False</td>\n",
       "      <td>False</td>\n",
       "      <td>False</td>\n",
       "      <td>False</td>\n",
       "      <td>3.9</td>\n",
       "      <td>47</td>\n",
       "    </tr>\n",
       "    <tr>\n",
       "      <th>16</th>\n",
       "      <td>['Clothing, Shoes &amp; Jewelry', 'Women', 'Matern...</td>\n",
       "      <td>Dress Length (Neck to Bottom Hem) Small - 40 i...</td>\n",
       "      <td>sofsy Soft-Touch Rayon Blend Tie Front Nursing...</td>\n",
       "      <td>Unknown</td>\n",
       "      <td>740957</td>\n",
       "      <td>5120053890</td>\n",
       "      <td>['https://images-na.ssl-images-amazon.com/imag...</td>\n",
       "      <td>34.99</td>\n",
       "      <td>False</td>\n",
       "      <td>False</td>\n",
       "      <td>...</td>\n",
       "      <td>False</td>\n",
       "      <td>False</td>\n",
       "      <td>False</td>\n",
       "      <td>False</td>\n",
       "      <td>False</td>\n",
       "      <td>False</td>\n",
       "      <td>False</td>\n",
       "      <td>False</td>\n",
       "      <td>4.6</td>\n",
       "      <td>31</td>\n",
       "    </tr>\n",
       "    <tr>\n",
       "      <th>17</th>\n",
       "      <td>['Clothing, Shoes &amp; Jewelry', 'Baby', 'Baby Gi...</td>\n",
       "      <td>Little Brother: Size 70: Length 38 CM, Bust*2 ...</td>\n",
       "      <td>Toddler Girls Big Sister T Shirt Matching Litt...</td>\n",
       "      <td>Kingte</td>\n",
       "      <td>36991</td>\n",
       "      <td>5780122040</td>\n",
       "      <td>['https://images-na.ssl-images-amazon.com/imag...</td>\n",
       "      <td>10.49</td>\n",
       "      <td>False</td>\n",
       "      <td>False</td>\n",
       "      <td>...</td>\n",
       "      <td>False</td>\n",
       "      <td>False</td>\n",
       "      <td>False</td>\n",
       "      <td>False</td>\n",
       "      <td>False</td>\n",
       "      <td>False</td>\n",
       "      <td>False</td>\n",
       "      <td>False</td>\n",
       "      <td>3.5</td>\n",
       "      <td>6</td>\n",
       "    </tr>\n",
       "    <tr>\n",
       "      <th>22</th>\n",
       "      <td>['Clothing, Shoes &amp; Jewelry', 'Women', 'Clothi...</td>\n",
       "      <td>GorgeoUS lightweight cotton dress in red, pink...</td>\n",
       "      <td>Pistachio Women's Sun Flower Flowing Knee Leng...</td>\n",
       "      <td>Pistachio</td>\n",
       "      <td>1131061</td>\n",
       "      <td>6040972467</td>\n",
       "      <td>['https://images-na.ssl-images-amazon.com/imag...</td>\n",
       "      <td>22.99</td>\n",
       "      <td>False</td>\n",
       "      <td>False</td>\n",
       "      <td>...</td>\n",
       "      <td>False</td>\n",
       "      <td>False</td>\n",
       "      <td>False</td>\n",
       "      <td>False</td>\n",
       "      <td>False</td>\n",
       "      <td>False</td>\n",
       "      <td>False</td>\n",
       "      <td>False</td>\n",
       "      <td>4.2</td>\n",
       "      <td>26</td>\n",
       "    </tr>\n",
       "  </tbody>\n",
       "</table>\n",
       "<p>5 rows × 64 columns</p>\n",
       "</div>"
      ],
      "text/plain": [
       "                                             category  \\\n",
       "13  ['Clothing, Shoes & Jewelry', 'Women', 'Import...   \n",
       "14  ['Clothing, Shoes & Jewelry', 'Women', 'Import...   \n",
       "16  ['Clothing, Shoes & Jewelry', 'Women', 'Matern...   \n",
       "17  ['Clothing, Shoes & Jewelry', 'Baby', 'Baby Gi...   \n",
       "22  ['Clothing, Shoes & Jewelry', 'Women', 'Clothi...   \n",
       "\n",
       "                                          description  \\\n",
       "13  Veneziana Sexy Strip 20 Open Crotch Pantyhose ...   \n",
       "14  Veneziana Ar Beautiful - Hold Ups Thigh High S...   \n",
       "16  Dress Length (Neck to Bottom Hem) Small - 40 i...   \n",
       "17  Little Brother: Size 70: Length 38 CM, Bust*2 ...   \n",
       "22  GorgeoUS lightweight cotton dress in red, pink...   \n",
       "\n",
       "                                                title      brand     rank  \\\n",
       "13                                          Sexystrip  Veneziana   734888   \n",
       "14                                          Beautiful  Veneziana   551160   \n",
       "16  sofsy Soft-Touch Rayon Blend Tie Front Nursing...    Unknown   740957   \n",
       "17  Toddler Girls Big Sister T Shirt Matching Litt...     Kingte    36991   \n",
       "22  Pistachio Women's Sun Flower Flowing Knee Leng...  Pistachio  1131061   \n",
       "\n",
       "          asin                                           imageURL  price  \\\n",
       "13  5120053017  ['https://images-na.ssl-images-amazon.com/imag...  14.95   \n",
       "14  5120053351  ['https://images-na.ssl-images-amazon.com/imag...  17.70   \n",
       "16  5120053890  ['https://images-na.ssl-images-amazon.com/imag...  34.99   \n",
       "17  5780122040  ['https://images-na.ssl-images-amazon.com/imag...  10.49   \n",
       "22  6040972467  ['https://images-na.ssl-images-amazon.com/imag...  22.99   \n",
       "\n",
       "    maincat_Luggage & Travel Gear  maincat_Backpacks  ...  subcat_Girls  \\\n",
       "13                          False              False  ...         False   \n",
       "14                          False              False  ...         False   \n",
       "16                          False              False  ...         False   \n",
       "17                          False              False  ...         False   \n",
       "22                          False              False  ...         False   \n",
       "\n",
       "    subcat_Boys  subcat_Shoe, Jewelry & Watch Accessories  \\\n",
       "13        False                                     False   \n",
       "14        False                                     False   \n",
       "16        False                                     False   \n",
       "17        False                                     False   \n",
       "22        False                                     False   \n",
       "\n",
       "    subcat_Jewelry Accessories  subcat_Shoe Care & Accessories  \\\n",
       "13                       False                           False   \n",
       "14                       False                           False   \n",
       "16                       False                           False   \n",
       "17                       False                           False   \n",
       "22                       False                           False   \n",
       "\n",
       "    subcat_Contemporary & Designer  subcat_Travel Accessories  \\\n",
       "13                           False                      False   \n",
       "14                           False                      False   \n",
       "16                           False                      False   \n",
       "17                           False                      False   \n",
       "22                           False                      False   \n",
       "\n",
       "    subcat_Surf, Skate & Street  average_rating  total_reviews  \n",
       "13                        False             3.7             38  \n",
       "14                        False             3.9             47  \n",
       "16                        False             4.6             31  \n",
       "17                        False             3.5              6  \n",
       "22                        False             4.2             26  \n",
       "\n",
       "[5 rows x 64 columns]"
      ]
     },
     "execution_count": 10,
     "metadata": {},
     "output_type": "execute_result"
    }
   ],
   "source": [
    "products_df.head()"
   ]
  },
  {
   "cell_type": "code",
   "execution_count": 11,
   "id": "fb519967",
   "metadata": {},
   "outputs": [],
   "source": [
    "# saving new products data \n",
    "products_df.to_csv('Data/products_summary.csv', index=False)"
   ]
  },
  {
   "cell_type": "code",
   "execution_count": 12,
   "id": "7e683a19",
   "metadata": {},
   "outputs": [],
   "source": [
    "products_df = pd.read_csv('Data/products_summary.csv')"
   ]
  },
  {
   "attachments": {},
   "cell_type": "markdown",
   "id": "7dfcd483",
   "metadata": {},
   "source": [
    "## Data Visualizations <a id='visualizations'></a>"
   ]
  },
  {
   "cell_type": "markdown",
   "id": "4baf8d8a",
   "metadata": {},
   "source": [
    "### Basic Numbers "
   ]
  },
  {
   "cell_type": "code",
   "execution_count": 13,
   "id": "8578373a",
   "metadata": {},
   "outputs": [
    {
     "name": "stdout",
     "output_type": "stream",
     "text": [
      "There are 5639572 reviews\n",
      "There are 148027 products being reviewed\n",
      "There are 1176126 unique reviewers\n"
     ]
    }
   ],
   "source": [
    "unique_asin = reviews_df['asin'].nunique()\n",
    "unique_reviewers = reviews_df['reviewerID'].nunique()\n",
    "\n",
    "print(f'There are {reviews_df.shape[0]} reviews')\n",
    "\n",
    "print(f'There are {unique_asin} products being reviewed')\n",
    "\n",
    "print(f'There are {unique_reviewers} unique reviewers')"
   ]
  },
  {
   "attachments": {},
   "cell_type": "markdown",
   "id": "11025b2e",
   "metadata": {},
   "source": [
    "### Distribution of Ratings \n",
    "\n",
    "There are ratings between 1 to 5, lets investigate their distribution."
   ]
  },
  {
   "cell_type": "code",
   "execution_count": 14,
   "id": "2c4147db",
   "metadata": {},
   "outputs": [
    {
     "data": {
      "text/plain": [
       "array([5, 3, 4, 2, 1], dtype=int64)"
      ]
     },
     "execution_count": 14,
     "metadata": {},
     "output_type": "execute_result"
    }
   ],
   "source": [
    "reviews_df['overall'].unique()"
   ]
  },
  {
   "cell_type": "code",
   "execution_count": 15,
   "id": "2044baf7",
   "metadata": {},
   "outputs": [
    {
     "data": {
      "image/png": "[encoded data removed]",
      "text/plain": [
       "<Figure size 640x480 with 1 Axes>"
      ]
     },
     "metadata": {},
     "output_type": "display_data"
    }
   ],
   "source": [
    "reviews_df['overall'].value_counts(normalize=True).sort_index().plot(kind='bar', rot=0, title='Distribution of Ratings', \\\n",
    "                                                                     color = 'darkred')\n",
    "plt.xlabel('Ratings')\n",
    "plt.ylabel('Percentage of Reviews')\n",
    "\n",
    "plt.savefig('Images/rating_barplot.png')\n",
    "plt.show()"
   ]
  },
  {
   "attachments": {},
   "cell_type": "markdown",
   "id": "00d53cc5",
   "metadata": {},
   "source": [
    "We could also investigate the average review rating vs. the number of reviews."
   ]
  },
  {
   "cell_type": "code",
   "execution_count": 16,
   "id": "b364a7cb",
   "metadata": {},
   "outputs": [
    {
     "data": {
      "image/png": "[encoded data removed]",
      "text/plain": [
       "<Figure size 600x600 with 3 Axes>"
      ]
     },
     "metadata": {},
     "output_type": "display_data"
    }
   ],
   "source": [
    "sns.jointplot(data=products_df, x='average_rating', y='total_reviews', alpha=0.1)\n",
    "\n",
    "plt.ylabel('Total Number of Reviews')\n",
    "plt.xlabel('Average Rating of Reviews')\n",
    "\n",
    "plt.savefig('Images/rating_jointplot.png')\n",
    "plt.show()"
   ]
  },
  {
   "attachments": {},
   "cell_type": "markdown",
   "id": "979c64a4",
   "metadata": {},
   "source": [
    "### Number of Reviews per Reviewer per Quantile"
   ]
  },
  {
   "cell_type": "code",
   "execution_count": 42,
   "id": "f529e428",
   "metadata": {},
   "outputs": [
    {
     "data": {
      "text/plain": [
       "reviewerID\n",
       "ALFRMOGTO1K4M     110\n",
       "A3W5A9X3HHACQT     90\n",
       "AENH50GW3OKDA      74\n",
       "A3MPHEJ0N39W87     71\n",
       "A3J5XBZ9ZNEZOC     70\n",
       "                 ... \n",
       "A2G07JRW1HHU1J      1\n",
       "A2G07L5Q945C06      1\n",
       "A2G07OS1TAHKKX      1\n",
       "A2G07TXROL6NSS      1\n",
       "AZZZZJYGA32         1\n",
       "Name: overall, Length: 3943689, dtype: int64"
      ]
     },
     "execution_count": 42,
     "metadata": {},
     "output_type": "execute_result"
    }
   ],
   "source": [
    "no_reviews_per_reviewer = reviews_df.groupby(by='reviewerID')['overall'].count().sort_values(ascending=False)\n",
    "no_reviews_per_reviewer"
   ]
  },
  {
   "cell_type": "code",
   "execution_count": 43,
   "id": "e7ed5990",
   "metadata": {},
   "outputs": [
    {
     "data": {
      "text/plain": [
       "count    3.943689e+06\n",
       "mean     1.487433e+00\n",
       "std      1.245206e+00\n",
       "min      1.000000e+00\n",
       "25%      1.000000e+00\n",
       "50%      1.000000e+00\n",
       "75%      2.000000e+00\n",
       "max      1.100000e+02\n",
       "Name: overall, dtype: float64"
      ]
     },
     "execution_count": 43,
     "metadata": {},
     "output_type": "execute_result"
    }
   ],
   "source": [
    "no_reviews_per_reviewer.describe()"
   ]
  },
  {
   "cell_type": "markdown",
   "id": "150c837e",
   "metadata": {},
   "source": [
    "Majority of reviewers leave one review."
   ]
  },
  {
   "cell_type": "code",
   "execution_count": 44,
   "id": "be53c836",
   "metadata": {},
   "outputs": [
    {
     "data": {
      "text/plain": [
       "0.00      1.0\n",
       "0.01      1.0\n",
       "0.02      1.0\n",
       "0.03      1.0\n",
       "0.04      1.0\n",
       "        ...  \n",
       "0.96      4.0\n",
       "0.97      4.0\n",
       "0.98      5.0\n",
       "0.99      7.0\n",
       "1.00    110.0\n",
       "Name: overall, Length: 101, dtype: float64"
      ]
     },
     "execution_count": 44,
     "metadata": {},
     "output_type": "execute_result"
    }
   ],
   "source": [
    "quantiles = no_reviews_per_reviewer.quantile(np.arange(0,1.01,0.01))\n",
    "quantiles"
   ]
  },
  {
   "cell_type": "code",
   "execution_count": 45,
   "id": "57575562",
   "metadata": {},
   "outputs": [
    {
     "data": {
      "image/png": "[encoded data removed]",
      "text/plain": [
       "<Figure size 1920x1440 with 1 Axes>"
      ]
     },
     "metadata": {},
     "output_type": "display_data"
    }
   ],
   "source": [
    "plt.scatter(x=quantiles.index[::5], y=quantiles.values[::5], c='firebrick')\n",
    "plt.plot(quantiles, 'orange')\n",
    "\n",
    "plt.title('Number of Reviews per Reviewer per Quantile')\n",
    "plt.xlabel('Quantile')\n",
    "plt.ylabel('Number of Reviews per Reviewer')\n",
    "\n",
    "plt.savefig('Images/no_reviews_per_reviewer.png')\n",
    "plt.show()"
   ]
  },
  {
   "attachments": {},
   "cell_type": "markdown",
   "id": "266ab111",
   "metadata": {},
   "source": [
    "### Number of Reviews per Product"
   ]
  },
  {
   "cell_type": "code",
   "execution_count": 46,
   "id": "69fff545",
   "metadata": {},
   "outputs": [
    {
     "data": {
      "text/plain": [
       "asin\n",
       "B000YXC2LI    5794\n",
       "B00M4NF9H0    5115\n",
       "B00F3EDEOC    4397\n",
       "B00GAPACC0    4357\n",
       "B000HTICY0    4334\n",
       "              ... \n",
       "B011PM3FX0       1\n",
       "B00G1XB4PA       1\n",
       "B011PM47U0       1\n",
       "B011PM5ATC       1\n",
       "B00NPADD60       1\n",
       "Name: overall, Length: 476136, dtype: int64"
      ]
     },
     "execution_count": 46,
     "metadata": {},
     "output_type": "execute_result"
    }
   ],
   "source": [
    "no_reviews_per_product = reviews_df.groupby(by='asin')['overall'].count().sort_values(ascending=False)\n",
    "no_reviews_per_product"
   ]
  },
  {
   "cell_type": "code",
   "execution_count": 47,
   "id": "e7ed5990",
   "metadata": {},
   "outputs": [
    {
     "data": {
      "text/plain": [
       "count    476136.000000\n",
       "mean         12.319953\n",
       "std          64.531444\n",
       "min           1.000000\n",
       "25%           1.000000\n",
       "50%           2.000000\n",
       "75%           6.000000\n",
       "max        5794.000000\n",
       "Name: overall, dtype: float64"
      ]
     },
     "execution_count": 47,
     "metadata": {},
     "output_type": "execute_result"
    }
   ],
   "source": [
    "no_reviews_per_product.describe()"
   ]
  },
  {
   "cell_type": "markdown",
   "id": "150c837e",
   "metadata": {},
   "source": [
    "Majority of reviewers leave one review."
   ]
  },
  {
   "cell_type": "code",
   "execution_count": 48,
   "id": "be53c836",
   "metadata": {},
   "outputs": [
    {
     "data": {
      "text/plain": [
       "0.00       1.0\n",
       "0.01       1.0\n",
       "0.02       1.0\n",
       "0.03       1.0\n",
       "0.04       1.0\n",
       "         ...  \n",
       "0.96      55.0\n",
       "0.97      72.0\n",
       "0.98     102.0\n",
       "0.99     180.0\n",
       "1.00    5794.0\n",
       "Name: overall, Length: 101, dtype: float64"
      ]
     },
     "execution_count": 48,
     "metadata": {},
     "output_type": "execute_result"
    }
   ],
   "source": [
    "quantiles = no_reviews_per_product.quantile(np.arange(0,1.01,0.01))\n",
    "quantiles"
   ]
  },
  {
   "cell_type": "code",
   "execution_count": 49,
   "id": "57575562",
   "metadata": {},
   "outputs": [
    {
     "data": {
      "image/png": "[encoded data removed]",
      "text/plain": [
       "<Figure size 1920x1440 with 1 Axes>"
      ]
     },
     "metadata": {},
     "output_type": "display_data"
    }
   ],
   "source": [
    "plt.scatter(x=quantiles.index[::5], y=quantiles.values[::5], c='firebrick')\n",
    "plt.plot(quantiles, 'orange')\n",
    "\n",
    "plt.title('Number of Reviews per Product per Quantile')\n",
    "plt.xlabel('Quantile')\n",
    "plt.ylabel('Number of Reviews per Product')\n",
    "\n",
    "plt.savefig('Images/no_reviews_per_product.png')\n",
    "plt.show()"
   ]
  },
  {
   "attachments": {},
   "cell_type": "markdown",
   "id": "9ccf2803",
   "metadata": {},
   "source": [
    "### Number of Reviews per Category"
   ]
  },
  {
   "cell_type": "code",
   "execution_count": 18,
   "id": "9bf4a955",
   "metadata": {},
   "outputs": [
    {
     "data": {
      "text/html": [
       "<div>\n",
       "<style scoped>\n",
       "    .dataframe tbody tr th:only-of-type {\n",
       "        vertical-align: middle;\n",
       "    }\n",
       "\n",
       "    .dataframe tbody tr th {\n",
       "        vertical-align: top;\n",
       "    }\n",
       "\n",
       "    .dataframe thead th {\n",
       "        text-align: right;\n",
       "    }\n",
       "</style>\n",
       "<table border=\"1\" class=\"dataframe\">\n",
       "  <thead>\n",
       "    <tr style=\"text-align: right;\">\n",
       "      <th></th>\n",
       "      <th>Luggage &amp; Travel Gear</th>\n",
       "      <th>Backpacks</th>\n",
       "      <th>Novelty &amp; More</th>\n",
       "      <th>Clothing</th>\n",
       "      <th>Women</th>\n",
       "      <th>Baby</th>\n",
       "      <th>Baby Boys</th>\n",
       "      <th>Men</th>\n",
       "      <th>Maternity</th>\n",
       "      <th>Baby Girls</th>\n",
       "      <th>...</th>\n",
       "      <th>Shoes</th>\n",
       "      <th>Handbags &amp; Wallets</th>\n",
       "      <th>Girls</th>\n",
       "      <th>Boys</th>\n",
       "      <th>Shoe, Jewelry &amp; Watch Accessories</th>\n",
       "      <th>Jewelry Accessories</th>\n",
       "      <th>Shoe Care &amp; Accessories</th>\n",
       "      <th>Contemporary &amp; Designer</th>\n",
       "      <th>Travel Accessories</th>\n",
       "      <th>Surf, Skate &amp; Street</th>\n",
       "    </tr>\n",
       "  </thead>\n",
       "  <tbody>\n",
       "    <tr>\n",
       "      <th>0</th>\n",
       "      <td>False</td>\n",
       "      <td>False</td>\n",
       "      <td>False</td>\n",
       "      <td>False</td>\n",
       "      <td>True</td>\n",
       "      <td>False</td>\n",
       "      <td>False</td>\n",
       "      <td>False</td>\n",
       "      <td>False</td>\n",
       "      <td>False</td>\n",
       "      <td>...</td>\n",
       "      <td>False</td>\n",
       "      <td>False</td>\n",
       "      <td>False</td>\n",
       "      <td>False</td>\n",
       "      <td>False</td>\n",
       "      <td>False</td>\n",
       "      <td>False</td>\n",
       "      <td>False</td>\n",
       "      <td>False</td>\n",
       "      <td>False</td>\n",
       "    </tr>\n",
       "    <tr>\n",
       "      <th>1</th>\n",
       "      <td>False</td>\n",
       "      <td>False</td>\n",
       "      <td>False</td>\n",
       "      <td>False</td>\n",
       "      <td>True</td>\n",
       "      <td>False</td>\n",
       "      <td>False</td>\n",
       "      <td>False</td>\n",
       "      <td>False</td>\n",
       "      <td>False</td>\n",
       "      <td>...</td>\n",
       "      <td>False</td>\n",
       "      <td>False</td>\n",
       "      <td>False</td>\n",
       "      <td>False</td>\n",
       "      <td>False</td>\n",
       "      <td>False</td>\n",
       "      <td>False</td>\n",
       "      <td>False</td>\n",
       "      <td>False</td>\n",
       "      <td>False</td>\n",
       "    </tr>\n",
       "    <tr>\n",
       "      <th>2</th>\n",
       "      <td>False</td>\n",
       "      <td>False</td>\n",
       "      <td>False</td>\n",
       "      <td>False</td>\n",
       "      <td>True</td>\n",
       "      <td>False</td>\n",
       "      <td>False</td>\n",
       "      <td>False</td>\n",
       "      <td>True</td>\n",
       "      <td>False</td>\n",
       "      <td>...</td>\n",
       "      <td>False</td>\n",
       "      <td>False</td>\n",
       "      <td>False</td>\n",
       "      <td>False</td>\n",
       "      <td>False</td>\n",
       "      <td>False</td>\n",
       "      <td>False</td>\n",
       "      <td>False</td>\n",
       "      <td>False</td>\n",
       "      <td>False</td>\n",
       "    </tr>\n",
       "    <tr>\n",
       "      <th>3</th>\n",
       "      <td>False</td>\n",
       "      <td>False</td>\n",
       "      <td>False</td>\n",
       "      <td>True</td>\n",
       "      <td>False</td>\n",
       "      <td>True</td>\n",
       "      <td>False</td>\n",
       "      <td>False</td>\n",
       "      <td>False</td>\n",
       "      <td>True</td>\n",
       "      <td>...</td>\n",
       "      <td>False</td>\n",
       "      <td>False</td>\n",
       "      <td>False</td>\n",
       "      <td>False</td>\n",
       "      <td>False</td>\n",
       "      <td>False</td>\n",
       "      <td>False</td>\n",
       "      <td>False</td>\n",
       "      <td>False</td>\n",
       "      <td>False</td>\n",
       "    </tr>\n",
       "    <tr>\n",
       "      <th>4</th>\n",
       "      <td>False</td>\n",
       "      <td>False</td>\n",
       "      <td>False</td>\n",
       "      <td>True</td>\n",
       "      <td>True</td>\n",
       "      <td>False</td>\n",
       "      <td>False</td>\n",
       "      <td>False</td>\n",
       "      <td>False</td>\n",
       "      <td>False</td>\n",
       "      <td>...</td>\n",
       "      <td>False</td>\n",
       "      <td>False</td>\n",
       "      <td>False</td>\n",
       "      <td>False</td>\n",
       "      <td>False</td>\n",
       "      <td>False</td>\n",
       "      <td>False</td>\n",
       "      <td>False</td>\n",
       "      <td>False</td>\n",
       "      <td>False</td>\n",
       "    </tr>\n",
       "    <tr>\n",
       "      <th>...</th>\n",
       "      <td>...</td>\n",
       "      <td>...</td>\n",
       "      <td>...</td>\n",
       "      <td>...</td>\n",
       "      <td>...</td>\n",
       "      <td>...</td>\n",
       "      <td>...</td>\n",
       "      <td>...</td>\n",
       "      <td>...</td>\n",
       "      <td>...</td>\n",
       "      <td>...</td>\n",
       "      <td>...</td>\n",
       "      <td>...</td>\n",
       "      <td>...</td>\n",
       "      <td>...</td>\n",
       "      <td>...</td>\n",
       "      <td>...</td>\n",
       "      <td>...</td>\n",
       "      <td>...</td>\n",
       "      <td>...</td>\n",
       "      <td>...</td>\n",
       "    </tr>\n",
       "    <tr>\n",
       "      <th>147467</th>\n",
       "      <td>False</td>\n",
       "      <td>False</td>\n",
       "      <td>False</td>\n",
       "      <td>False</td>\n",
       "      <td>False</td>\n",
       "      <td>False</td>\n",
       "      <td>False</td>\n",
       "      <td>True</td>\n",
       "      <td>False</td>\n",
       "      <td>False</td>\n",
       "      <td>...</td>\n",
       "      <td>True</td>\n",
       "      <td>False</td>\n",
       "      <td>False</td>\n",
       "      <td>False</td>\n",
       "      <td>False</td>\n",
       "      <td>False</td>\n",
       "      <td>False</td>\n",
       "      <td>False</td>\n",
       "      <td>False</td>\n",
       "      <td>False</td>\n",
       "    </tr>\n",
       "    <tr>\n",
       "      <th>147468</th>\n",
       "      <td>False</td>\n",
       "      <td>False</td>\n",
       "      <td>False</td>\n",
       "      <td>False</td>\n",
       "      <td>False</td>\n",
       "      <td>False</td>\n",
       "      <td>False</td>\n",
       "      <td>True</td>\n",
       "      <td>False</td>\n",
       "      <td>False</td>\n",
       "      <td>...</td>\n",
       "      <td>True</td>\n",
       "      <td>False</td>\n",
       "      <td>False</td>\n",
       "      <td>False</td>\n",
       "      <td>False</td>\n",
       "      <td>False</td>\n",
       "      <td>False</td>\n",
       "      <td>False</td>\n",
       "      <td>False</td>\n",
       "      <td>False</td>\n",
       "    </tr>\n",
       "    <tr>\n",
       "      <th>147469</th>\n",
       "      <td>False</td>\n",
       "      <td>False</td>\n",
       "      <td>False</td>\n",
       "      <td>False</td>\n",
       "      <td>True</td>\n",
       "      <td>False</td>\n",
       "      <td>False</td>\n",
       "      <td>False</td>\n",
       "      <td>False</td>\n",
       "      <td>False</td>\n",
       "      <td>...</td>\n",
       "      <td>True</td>\n",
       "      <td>False</td>\n",
       "      <td>False</td>\n",
       "      <td>False</td>\n",
       "      <td>False</td>\n",
       "      <td>False</td>\n",
       "      <td>False</td>\n",
       "      <td>False</td>\n",
       "      <td>False</td>\n",
       "      <td>False</td>\n",
       "    </tr>\n",
       "    <tr>\n",
       "      <th>147470</th>\n",
       "      <td>False</td>\n",
       "      <td>False</td>\n",
       "      <td>False</td>\n",
       "      <td>False</td>\n",
       "      <td>False</td>\n",
       "      <td>False</td>\n",
       "      <td>False</td>\n",
       "      <td>True</td>\n",
       "      <td>False</td>\n",
       "      <td>False</td>\n",
       "      <td>...</td>\n",
       "      <td>True</td>\n",
       "      <td>False</td>\n",
       "      <td>False</td>\n",
       "      <td>False</td>\n",
       "      <td>False</td>\n",
       "      <td>False</td>\n",
       "      <td>False</td>\n",
       "      <td>False</td>\n",
       "      <td>False</td>\n",
       "      <td>False</td>\n",
       "    </tr>\n",
       "    <tr>\n",
       "      <th>147471</th>\n",
       "      <td>False</td>\n",
       "      <td>False</td>\n",
       "      <td>False</td>\n",
       "      <td>True</td>\n",
       "      <td>False</td>\n",
       "      <td>True</td>\n",
       "      <td>False</td>\n",
       "      <td>False</td>\n",
       "      <td>False</td>\n",
       "      <td>True</td>\n",
       "      <td>...</td>\n",
       "      <td>False</td>\n",
       "      <td>False</td>\n",
       "      <td>False</td>\n",
       "      <td>False</td>\n",
       "      <td>False</td>\n",
       "      <td>False</td>\n",
       "      <td>False</td>\n",
       "      <td>False</td>\n",
       "      <td>False</td>\n",
       "      <td>False</td>\n",
       "    </tr>\n",
       "  </tbody>\n",
       "</table>\n",
       "<p>147472 rows × 27 columns</p>\n",
       "</div>"
      ],
      "text/plain": [
       "        Luggage & Travel Gear  Backpacks  Novelty & More  Clothing  Women  \\\n",
       "0                       False      False           False     False   True   \n",
       "1                       False      False           False     False   True   \n",
       "2                       False      False           False     False   True   \n",
       "3                       False      False           False      True  False   \n",
       "4                       False      False           False      True   True   \n",
       "...                       ...        ...             ...       ...    ...   \n",
       "147467                  False      False           False     False  False   \n",
       "147468                  False      False           False     False  False   \n",
       "147469                  False      False           False     False   True   \n",
       "147470                  False      False           False     False  False   \n",
       "147471                  False      False           False      True  False   \n",
       "\n",
       "         Baby  Baby Boys    Men  Maternity  Baby Girls  ...  Shoes  \\\n",
       "0       False      False  False      False       False  ...  False   \n",
       "1       False      False  False      False       False  ...  False   \n",
       "2       False      False  False       True       False  ...  False   \n",
       "3        True      False  False      False        True  ...  False   \n",
       "4       False      False  False      False       False  ...  False   \n",
       "...       ...        ...    ...        ...         ...  ...    ...   \n",
       "147467  False      False   True      False       False  ...   True   \n",
       "147468  False      False   True      False       False  ...   True   \n",
       "147469  False      False  False      False       False  ...   True   \n",
       "147470  False      False   True      False       False  ...   True   \n",
       "147471   True      False  False      False        True  ...  False   \n",
       "\n",
       "        Handbags & Wallets  Girls   Boys  Shoe, Jewelry & Watch Accessories  \\\n",
       "0                    False  False  False                              False   \n",
       "1                    False  False  False                              False   \n",
       "2                    False  False  False                              False   \n",
       "3                    False  False  False                              False   \n",
       "4                    False  False  False                              False   \n",
       "...                    ...    ...    ...                                ...   \n",
       "147467               False  False  False                              False   \n",
       "147468               False  False  False                              False   \n",
       "147469               False  False  False                              False   \n",
       "147470               False  False  False                              False   \n",
       "147471               False  False  False                              False   \n",
       "\n",
       "        Jewelry Accessories  Shoe Care & Accessories  Contemporary & Designer  \\\n",
       "0                     False                    False                    False   \n",
       "1                     False                    False                    False   \n",
       "2                     False                    False                    False   \n",
       "3                     False                    False                    False   \n",
       "4                     False                    False                    False   \n",
       "...                     ...                      ...                      ...   \n",
       "147467                False                    False                    False   \n",
       "147468                False                    False                    False   \n",
       "147469                False                    False                    False   \n",
       "147470                False                    False                    False   \n",
       "147471                False                    False                    False   \n",
       "\n",
       "        Travel Accessories  Surf, Skate & Street  \n",
       "0                    False                 False  \n",
       "1                    False                 False  \n",
       "2                    False                 False  \n",
       "3                    False                 False  \n",
       "4                    False                 False  \n",
       "...                    ...                   ...  \n",
       "147467               False                 False  \n",
       "147468               False                 False  \n",
       "147469               False                 False  \n",
       "147470               False                 False  \n",
       "147471               False                 False  \n",
       "\n",
       "[147472 rows x 27 columns]"
      ]
     },
     "execution_count": 18,
     "metadata": {},
     "output_type": "execute_result"
    }
   ],
   "source": [
    "# Isolating and renaming the main categories\n",
    "dummies_maincat = products_df[products_df.columns[products_df.columns.str.contains('maincat_')]]\n",
    "dummies_maincat.columns = dummies_maincat.columns.str.lstrip('maincat_')\n",
    "dummies_maincat"
   ]
  },
  {
   "cell_type": "code",
   "execution_count": 21,
   "id": "069728b1",
   "metadata": {},
   "outputs": [
    {
     "data": {
      "text/html": [
       "<div>\n",
       "<style scoped>\n",
       "    .dataframe tbody tr th:only-of-type {\n",
       "        vertical-align: middle;\n",
       "    }\n",
       "\n",
       "    .dataframe tbody tr th {\n",
       "        vertical-align: top;\n",
       "    }\n",
       "\n",
       "    .dataframe thead th {\n",
       "        text-align: right;\n",
       "    }\n",
       "</style>\n",
       "<table border=\"1\" class=\"dataframe\">\n",
       "  <thead>\n",
       "    <tr style=\"text-align: right;\">\n",
       "      <th></th>\n",
       "      <th>maincat</th>\n",
       "      <th>total_reviews</th>\n",
       "    </tr>\n",
       "  </thead>\n",
       "  <tbody>\n",
       "    <tr>\n",
       "      <th>0</th>\n",
       "      <td>Women</td>\n",
       "      <td>38</td>\n",
       "    </tr>\n",
       "    <tr>\n",
       "      <th>1</th>\n",
       "      <td>Women</td>\n",
       "      <td>47</td>\n",
       "    </tr>\n",
       "    <tr>\n",
       "      <th>2</th>\n",
       "      <td>Women</td>\n",
       "      <td>31</td>\n",
       "    </tr>\n",
       "    <tr>\n",
       "      <th>3</th>\n",
       "      <td>Clothing</td>\n",
       "      <td>6</td>\n",
       "    </tr>\n",
       "    <tr>\n",
       "      <th>4</th>\n",
       "      <td>Clothing</td>\n",
       "      <td>26</td>\n",
       "    </tr>\n",
       "    <tr>\n",
       "      <th>...</th>\n",
       "      <td>...</td>\n",
       "      <td>...</td>\n",
       "    </tr>\n",
       "    <tr>\n",
       "      <th>147467</th>\n",
       "      <td>Men</td>\n",
       "      <td>8</td>\n",
       "    </tr>\n",
       "    <tr>\n",
       "      <th>147468</th>\n",
       "      <td>Men</td>\n",
       "      <td>3</td>\n",
       "    </tr>\n",
       "    <tr>\n",
       "      <th>147469</th>\n",
       "      <td>Women</td>\n",
       "      <td>15</td>\n",
       "    </tr>\n",
       "    <tr>\n",
       "      <th>147470</th>\n",
       "      <td>Men</td>\n",
       "      <td>5</td>\n",
       "    </tr>\n",
       "    <tr>\n",
       "      <th>147471</th>\n",
       "      <td>Clothing</td>\n",
       "      <td>11</td>\n",
       "    </tr>\n",
       "  </tbody>\n",
       "</table>\n",
       "<p>147472 rows × 2 columns</p>\n",
       "</div>"
      ],
      "text/plain": [
       "         maincat  total_reviews\n",
       "0          Women             38\n",
       "1          Women             47\n",
       "2          Women             31\n",
       "3       Clothing              6\n",
       "4       Clothing             26\n",
       "...          ...            ...\n",
       "147467       Men              8\n",
       "147468       Men              3\n",
       "147469     Women             15\n",
       "147470       Men              5\n",
       "147471  Clothing             11\n",
       "\n",
       "[147472 rows x 2 columns]"
      ]
     },
     "execution_count": 21,
     "metadata": {},
     "output_type": "execute_result"
    }
   ],
   "source": [
    "# getting the total reviews\n",
    "totalreviews_column = products_df['total_reviews']\n",
    "\n",
    "# getting the condensed main cat of the product\n",
    "maincat_column = dummies_maincat.idxmax(axis=1) \n",
    "\n",
    "# combining the two columns and renaming the columns\n",
    "maincat_totalreviews = pd.concat([maincat_column, totalreviews_column], axis=1)\n",
    "maincat_totalreviews.columns = ['maincat', 'total_reviews']\n",
    "maincat_totalreviews"
   ]
  },
  {
   "cell_type": "code",
   "execution_count": 22,
   "id": "65a5c29a",
   "metadata": {},
   "outputs": [
    {
     "data": {
      "text/plain": [
       "<Figure size 1500x2000 with 0 Axes>"
      ]
     },
     "metadata": {},
     "output_type": "display_data"
    },
    {
     "data": {
      "image/png": "[encoded data removed]",
      "text/plain": [
       "<Figure size 640x480 with 1 Axes>"
      ]
     },
     "metadata": {},
     "output_type": "display_data"
    }
   ],
   "source": [
    "# Creating the boxplot\n",
    "plt.figure(figsize=(15, 20))\n",
    "boxplot_totalreviews = maincat_totalreviews.boxplot(by='maincat', column=['total_reviews'], rot=0, vert=False)\n",
    "boxplot_totalreviews.plot()\n",
    "\n",
    "plt.title('Boxplot of Number of Reviews Grouped by the Main Category')\n",
    "plt.suptitle('')\n",
    "plt.xlabel('Number of Reviews')\n",
    "plt.ylabel('Main Category')\n",
    "\n",
    "plt.show()"
   ]
  },
  {
   "cell_type": "code",
   "execution_count": 24,
   "id": "f91a310b",
   "metadata": {},
   "outputs": [
    {
     "data": {
      "text/plain": [
       "[]"
      ]
     },
     "execution_count": 24,
     "metadata": {},
     "output_type": "execute_result"
    },
    {
     "data": {
      "image/png": "[encoded data removed]",
      "text/plain": [
       "<Figure size 640x480 with 1 Axes>"
      ]
     },
     "metadata": {},
     "output_type": "display_data"
    }
   ],
   "source": [
    "boxplot_totalreviews = maincat_totalreviews.boxplot(by='maincat', column=['total_reviews'], rot=0, vert=False, showfliers=False)\n",
    "boxplot_totalreviews.plot()"
   ]
  },
  {
   "cell_type": "markdown",
   "id": "f486e5aa",
   "metadata": {},
   "source": [
    "## Conclusion <a class=\"anchor\" id=\"conc\"></a>\n",
    "\n",
    "In this notebook, the reviews data was cleaned and loaded to a dataframe and a summary of the reviews for a product was added to the products dataframe.\n",
    "\n",
    "*Next notebook*: `popularity_rec.ipynb`"
   ]
  }
 ],
 "metadata": {
  "kernelspec": {
   "display_name": "capstone",
   "language": "python",
   "name": "python3"
  },
  "language_info": {
   "codemirror_mode": {
    "name": "ipython",
    "version": 3
   },
   "file_extension": ".py",
   "mimetype": "text/x-python",
   "name": "python",
   "nbconvert_exporter": "python",
   "pygments_lexer": "ipython3",
   "version": "3.8.13 (default, Oct 19 2022, 22:38:03) [MSC v.1916 64 bit (AMD64)]"
  },
  "vscode": {
   "interpreter": {
    "hash": "c00c601d3f38ad2e37b277cd0cd275a9a30a80a510aacf75ed2a8e31765d3396"
   }
  }
 },
 "nbformat": 4,
 "nbformat_minor": 5
}
