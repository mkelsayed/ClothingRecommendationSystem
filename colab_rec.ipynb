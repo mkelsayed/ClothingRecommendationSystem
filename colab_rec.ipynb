{
 "cells": [
  {
   "cell_type": "code",
   "execution_count": null,
   "metadata": {},
   "outputs": [],
   "source": []
  }
 ],
 "metadata": {
  "kernelspec": {
   "display_name": "Python 3.8.10 64-bit (microsoft store)",
   "language": "python",
   "name": "python3"
  },
  "language_info": {
   "name": "python",
   "version": "3.8.10"
  },
  "orig_nbformat": 4,
  "vscode": {
   "interpreter": {
    "hash": "5284a42cea54fff1dc360a95eaf3837f8361dd48d7c6a2adc4f3e5aea0df797f"
   }
  }
 },
 "nbformat": 4,
 "nbformat_minor": 2
}
